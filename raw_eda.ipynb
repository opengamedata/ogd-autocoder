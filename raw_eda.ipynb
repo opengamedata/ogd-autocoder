{
 "cells": [
  {
   "cell_type": "markdown",
   "metadata": {},
   "source": [
    "## Exploratory Data Analysis - WAKE AQUALAB MAY 2024 DATA"
   ]
  },
  {
   "cell_type": "code",
   "execution_count": 210,
   "metadata": {},
   "outputs": [],
   "source": [
    "import json\n",
    "import pickle\n",
    "from matplotlib import animation\n",
    "from matplotlib import pyplot as plt\n",
    "import urllib\n",
    "import os\n",
    "import pandas as pd\n",
    "import random\n",
    "import lzma\n",
    "import tarfile\n",
    "import numpy as np\n",
    "import matplotlib.pyplot as plt\n",
    "import tensorflow as tf\n",
    "from tensorflow import keras\n",
    "from tensorflow.keras.layers import Input, TextVectorization, Dense\n",
    "from tensorflow.keras.models import Sequential\n",
    "from tensorflow.keras.metrics import TopKCategoricalAccuracy\n",
    "from sklearn.model_selection import train_test_split\n",
    "from sklearn.preprocessing import LabelBinarizer\n",
    "from sklearn.metrics import confusion_matrix, ConfusionMatrixDisplay\n",
    "from math import isnan\n",
    "from statsmodels.multivariate.manova import MANOVA\n",
    "from statsmodels.stats.anova import anova_lm\n",
    "from statsmodels.formula.api import ols\n",
    "from collections import Counter\n",
    "from sklearn.datasets import make_blobs\n",
    "from sklearn.metrics import confusion_matrix, ConfusionMatrixDisplay\n"
   ]
  },
  {
   "cell_type": "markdown",
   "metadata": {},
   "source": [
    "### loading May 2024 raw event data"
   ]
  },
  {
   "cell_type": "code",
   "execution_count": 211,
   "metadata": {},
   "outputs": [],
   "source": [
    "# 2 GiB of data\n",
    "player_log_df = pd.read_csv('data_may_2024/raw/AQUALAB_20240501_to_20240531_7508479_events.tsv', sep='\\t')"
   ]
  },
  {
   "cell_type": "code",
   "execution_count": 212,
   "metadata": {},
   "outputs": [
    {
     "data": {
      "text/plain": [
       "(4336249, 14)"
      ]
     },
     "execution_count": 212,
     "metadata": {},
     "output_type": "execute_result"
    }
   ],
   "source": [
    "player_log_df.shape"
   ]
  },
  {
   "cell_type": "code",
   "execution_count": 213,
   "metadata": {},
   "outputs": [
    {
     "data": {
      "text/html": [
       "<div>\n",
       "<style scoped>\n",
       "    .dataframe tbody tr th:only-of-type {\n",
       "        vertical-align: middle;\n",
       "    }\n",
       "\n",
       "    .dataframe tbody tr th {\n",
       "        vertical-align: top;\n",
       "    }\n",
       "\n",
       "    .dataframe thead th {\n",
       "        text-align: right;\n",
       "    }\n",
       "</style>\n",
       "<table border=\"1\" class=\"dataframe\">\n",
       "  <thead>\n",
       "    <tr style=\"text-align: right;\">\n",
       "      <th></th>\n",
       "      <th>session_id</th>\n",
       "      <th>app_id</th>\n",
       "      <th>timestamp</th>\n",
       "      <th>event_name</th>\n",
       "      <th>event_data</th>\n",
       "      <th>event_source</th>\n",
       "      <th>app_version</th>\n",
       "      <th>app_branch</th>\n",
       "      <th>log_version</th>\n",
       "      <th>offset</th>\n",
       "      <th>user_id</th>\n",
       "      <th>user_data</th>\n",
       "      <th>game_state</th>\n",
       "      <th>index</th>\n",
       "    </tr>\n",
       "  </thead>\n",
       "  <tbody>\n",
       "    <tr>\n",
       "      <th>0</th>\n",
       "      <td>24050322155401459</td>\n",
       "      <td>AQUALAB</td>\n",
       "      <td>2024-05-04T05:16:05.529000+00:00</td>\n",
       "      <td>load_error</td>\n",
       "      <td>{\"http_user_agent\": \"Mozilla/5.0 (Macintosh; I...</td>\n",
       "      <td>GAME</td>\n",
       "      <td>100</td>\n",
       "      <td>NaN</td>\n",
       "      <td>3</td>\n",
       "      <td>-1 day, 23:59:34.800000</td>\n",
       "      <td>NaN</td>\n",
       "      <td>{}</td>\n",
       "      <td>{\"job_name\": \"no-active-job\"}</td>\n",
       "      <td>0</td>\n",
       "    </tr>\n",
       "    <tr>\n",
       "      <th>1</th>\n",
       "      <td>24050322155401459</td>\n",
       "      <td>AQUALAB</td>\n",
       "      <td>2024-05-04T05:16:05.545000+00:00</td>\n",
       "      <td>load_error</td>\n",
       "      <td>{\"http_user_agent\": \"Mozilla/5.0 (Macintosh; I...</td>\n",
       "      <td>GAME</td>\n",
       "      <td>100</td>\n",
       "      <td>NaN</td>\n",
       "      <td>3</td>\n",
       "      <td>-1 day, 23:59:34.800000</td>\n",
       "      <td>NaN</td>\n",
       "      <td>{}</td>\n",
       "      <td>{\"job_name\": \"no-active-job\"}</td>\n",
       "      <td>1</td>\n",
       "    </tr>\n",
       "    <tr>\n",
       "      <th>2</th>\n",
       "      <td>24050322155401459</td>\n",
       "      <td>AQUALAB</td>\n",
       "      <td>2024-05-04T05:16:05.579000+00:00</td>\n",
       "      <td>load_error</td>\n",
       "      <td>{\"http_user_agent\": \"Mozilla/5.0 (Macintosh; I...</td>\n",
       "      <td>GAME</td>\n",
       "      <td>100</td>\n",
       "      <td>NaN</td>\n",
       "      <td>3</td>\n",
       "      <td>-1 day, 23:59:34.800000</td>\n",
       "      <td>NaN</td>\n",
       "      <td>{}</td>\n",
       "      <td>{\"job_name\": \"no-active-job\"}</td>\n",
       "      <td>2</td>\n",
       "    </tr>\n",
       "    <tr>\n",
       "      <th>3</th>\n",
       "      <td>24050322155401459</td>\n",
       "      <td>AQUALAB</td>\n",
       "      <td>2024-05-04T05:16:14.559000+00:00</td>\n",
       "      <td>load_error</td>\n",
       "      <td>{\"http_user_agent\": \"Mozilla/5.0 (Macintosh; I...</td>\n",
       "      <td>GAME</td>\n",
       "      <td>100</td>\n",
       "      <td>NaN</td>\n",
       "      <td>3</td>\n",
       "      <td>-1 day, 23:59:34.800000</td>\n",
       "      <td>NaN</td>\n",
       "      <td>{}</td>\n",
       "      <td>{\"job_name\": \"no-active-job\"}</td>\n",
       "      <td>3</td>\n",
       "    </tr>\n",
       "    <tr>\n",
       "      <th>4</th>\n",
       "      <td>24050322155401459</td>\n",
       "      <td>AQUALAB</td>\n",
       "      <td>2024-05-04T05:16:14.560000+00:00</td>\n",
       "      <td>load_error</td>\n",
       "      <td>{\"http_user_agent\": \"Mozilla/5.0 (Macintosh; I...</td>\n",
       "      <td>GAME</td>\n",
       "      <td>100</td>\n",
       "      <td>NaN</td>\n",
       "      <td>3</td>\n",
       "      <td>-1 day, 23:59:34.800000</td>\n",
       "      <td>NaN</td>\n",
       "      <td>{}</td>\n",
       "      <td>{\"job_name\": \"no-active-job\"}</td>\n",
       "      <td>4</td>\n",
       "    </tr>\n",
       "  </tbody>\n",
       "</table>\n",
       "</div>"
      ],
      "text/plain": [
       "          session_id   app_id                         timestamp  event_name  \\\n",
       "0  24050322155401459  AQUALAB  2024-05-04T05:16:05.529000+00:00  load_error   \n",
       "1  24050322155401459  AQUALAB  2024-05-04T05:16:05.545000+00:00  load_error   \n",
       "2  24050322155401459  AQUALAB  2024-05-04T05:16:05.579000+00:00  load_error   \n",
       "3  24050322155401459  AQUALAB  2024-05-04T05:16:14.559000+00:00  load_error   \n",
       "4  24050322155401459  AQUALAB  2024-05-04T05:16:14.560000+00:00  load_error   \n",
       "\n",
       "                                          event_data event_source  \\\n",
       "0  {\"http_user_agent\": \"Mozilla/5.0 (Macintosh; I...         GAME   \n",
       "1  {\"http_user_agent\": \"Mozilla/5.0 (Macintosh; I...         GAME   \n",
       "2  {\"http_user_agent\": \"Mozilla/5.0 (Macintosh; I...         GAME   \n",
       "3  {\"http_user_agent\": \"Mozilla/5.0 (Macintosh; I...         GAME   \n",
       "4  {\"http_user_agent\": \"Mozilla/5.0 (Macintosh; I...         GAME   \n",
       "\n",
       "   app_version app_branch  log_version                   offset user_id  \\\n",
       "0          100        NaN            3  -1 day, 23:59:34.800000     NaN   \n",
       "1          100        NaN            3  -1 day, 23:59:34.800000     NaN   \n",
       "2          100        NaN            3  -1 day, 23:59:34.800000     NaN   \n",
       "3          100        NaN            3  -1 day, 23:59:34.800000     NaN   \n",
       "4          100        NaN            3  -1 day, 23:59:34.800000     NaN   \n",
       "\n",
       "  user_data                     game_state  index  \n",
       "0        {}  {\"job_name\": \"no-active-job\"}      0  \n",
       "1        {}  {\"job_name\": \"no-active-job\"}      1  \n",
       "2        {}  {\"job_name\": \"no-active-job\"}      2  \n",
       "3        {}  {\"job_name\": \"no-active-job\"}      3  \n",
       "4        {}  {\"job_name\": \"no-active-job\"}      4  "
      ]
     },
     "execution_count": 213,
     "metadata": {},
     "output_type": "execute_result"
    }
   ],
   "source": [
    "player_log_df.head()"
   ]
  },
  {
   "cell_type": "markdown",
   "metadata": {},
   "source": [
    "how many unique sessions"
   ]
  },
  {
   "cell_type": "code",
   "execution_count": 214,
   "metadata": {},
   "outputs": [
    {
     "data": {
      "text/plain": [
       "14095"
      ]
     },
     "execution_count": 214,
     "metadata": {},
     "output_type": "execute_result"
    }
   ],
   "source": [
    "len(player_log_df.session_id.unique())"
   ]
  },
  {
   "cell_type": "markdown",
   "metadata": {},
   "source": [
    "number of unique player id"
   ]
  },
  {
   "cell_type": "code",
   "execution_count": 215,
   "metadata": {},
   "outputs": [
    {
     "data": {
      "text/plain": [
       "6272"
      ]
     },
     "execution_count": 215,
     "metadata": {},
     "output_type": "execute_result"
    }
   ],
   "source": [
    "len(player_log_df.user_id.value_counts())"
   ]
  },
  {
   "cell_type": "markdown",
   "metadata": {},
   "source": [
    "number of unique events (not tasks)"
   ]
  },
  {
   "cell_type": "code",
   "execution_count": 216,
   "metadata": {},
   "outputs": [
    {
     "data": {
      "text/plain": [
       "54"
      ]
     },
     "execution_count": 216,
     "metadata": {},
     "output_type": "execute_result"
    }
   ],
   "source": [
    "len(player_log_df.event_name.unique())"
   ]
  },
  {
   "cell_type": "markdown",
   "metadata": {},
   "source": [
    "different app branches"
   ]
  },
  {
   "cell_type": "code",
   "execution_count": 217,
   "metadata": {},
   "outputs": [
    {
     "data": {
      "text/plain": [
       "app_branch\n",
       "production                          3730055\n",
       "production-has-savecode-reminder     298334\n",
       "production-no-savecode-reminder      294560\n",
       "NaN                                   11561\n",
       "-no-savecode-reminder                   769\n",
       "-has-savecode-reminder                  480\n",
       "develop-no-savecode-reminder            227\n",
       "develop-has-savecode-reminder            99\n",
       "staging-no-savecode-reminder             96\n",
       "develop                                  65\n",
       "staging-has-savecode-reminder             3\n",
       "Name: count, dtype: int64"
      ]
     },
     "execution_count": 217,
     "metadata": {},
     "output_type": "execute_result"
    }
   ],
   "source": [
    "player_log_df.app_branch.value_counts(dropna=False)"
   ]
  },
  {
   "cell_type": "markdown",
   "metadata": {},
   "source": [
    "extract job name from game state"
   ]
  },
  {
   "cell_type": "code",
   "execution_count": 218,
   "metadata": {},
   "outputs": [],
   "source": [
    "import json\n",
    "\n",
    "def extract_job_name(game_state_str):\n",
    "  try:\n",
    "    game_state = json.loads(game_state_str)\n",
    "    return game_state.get('job_name', None)\n",
    "  except (json.JSONDecodeError, AttributeError):\n",
    "    return None\n",
    "\n",
    "player_log_df['job_name'] = player_log_df['game_state'].apply(extract_job_name)"
   ]
  },
  {
   "cell_type": "markdown",
   "metadata": {},
   "source": [
    "number of unique jobs"
   ]
  },
  {
   "cell_type": "code",
   "execution_count": 219,
   "metadata": {},
   "outputs": [
    {
     "data": {
      "text/plain": [
       "55"
      ]
     },
     "execution_count": 219,
     "metadata": {},
     "output_type": "execute_result"
    }
   ],
   "source": [
    "len(player_log_df['job_name'].unique())"
   ]
  },
  {
   "cell_type": "code",
   "execution_count": 220,
   "metadata": {},
   "outputs": [
    {
     "name": "stdout",
     "output_type": "stream",
     "text": [
      "Top 20 JOBS\n"
     ]
    },
    {
     "data": {
      "text/plain": [
       "job_name\n",
       "no-active-job               1063200\n",
       "kelp-welcome                 601706\n",
       "arctic-missing-whale         227300\n",
       "kelp-bull-kelp-forest        192087\n",
       "kelp-shop-welcome            168126\n",
       "kelp-energy                  158928\n",
       "displaced-reef               114809\n",
       "coral-fake-fix               107536\n",
       "coral-hunting-lions           97434\n",
       "coral-turtle-population       84990\n",
       "arctic-salmon-monitoring      72110\n",
       "kelp-mussel-fest              70197\n",
       "bayou-shrimp-yields           66322\n",
       "kelp-urchin-barren-viz        65036\n",
       "bayou-alt-energy              64469\n",
       "kelp-refuge-failure           63902\n",
       "coral-stressed                58469\n",
       "arctic-disappearing-act       58059\n",
       "kelp-start-refuge             57642\n",
       "arctic-endangered-seals       51936\n",
       "Name: count, dtype: int64"
      ]
     },
     "execution_count": 220,
     "metadata": {},
     "output_type": "execute_result"
    }
   ],
   "source": [
    "N = 20\n",
    "print(f\"Top {N} JOBS\")\n",
    "player_log_df['job_name'].value_counts().sort_values(ascending=False)[:N]"
   ]
  },
  {
   "cell_type": "code",
   "execution_count": 221,
   "metadata": {},
   "outputs": [
    {
     "name": "stdout",
     "output_type": "stream",
     "text": [
      "Top 20 EVENTS\n"
     ]
    },
    {
     "data": {
      "text/plain": [
       "event_name\n",
       "script_line_displayed        1624027\n",
       "script_fired                  456411\n",
       "scene_changed                 304340\n",
       "room_changed                  223679\n",
       "receive_fact                  134568\n",
       "add_critter                   122305\n",
       "status_open_job_tab           109280\n",
       "open_bestiary                 100956\n",
       "close_bestiary                 94146\n",
       "bestiary_select_species        70583\n",
       "receive_entity                 66349\n",
       "bestiary_open_species_tab      64083\n",
       "complete_task                  58161\n",
       "open_status                    54640\n",
       "close_status                   54373\n",
       "add_environment                53382\n",
       "begin_experiment               51136\n",
       "end_experiment                 50420\n",
       "fact_submitted                 50009\n",
       "switch_job                     49737\n",
       "Name: count, dtype: int64"
      ]
     },
     "execution_count": 221,
     "metadata": {},
     "output_type": "execute_result"
    }
   ],
   "source": [
    "N = 20\n",
    "print(f\"Top {N} EVENTS\")\n",
    "player_log_df['event_name'].value_counts().sort_values(ascending=False)[:N]"
   ]
  },
  {
   "cell_type": "code",
   "execution_count": 222,
   "metadata": {},
   "outputs": [
    {
     "data": {
      "text/plain": [
       "event_name\n",
       "script_line_displayed             531147\n",
       "script_fired                      126568\n",
       "scene_changed                     103399\n",
       "room_changed                       94405\n",
       "accept_job                         21661\n",
       "receive_fact                       19622\n",
       "receive_entity                     19187\n",
       "switch_job                         19105\n",
       "leave_argument                     17330\n",
       "status_open_job_tab                13622\n",
       "load_error                          9200\n",
       "ask_for_help                        8672\n",
       "begin_dive                          7450\n",
       "add_critter                         7297\n",
       "open_status                         6811\n",
       "close_status                        6790\n",
       "purchase_upgrade                    5657\n",
       "open_bestiary                       5652\n",
       "guide_script_triggered              4720\n",
       "close_bestiary                      4535\n",
       "bestiary_open_species_tab           4055\n",
       "insufficient_funds                  2951\n",
       "begin_experiment                    2835\n",
       "model_phase_changed                 2818\n",
       "add_environment                     2787\n",
       "end_experiment                      2786\n",
       "bestiary_select_species             2278\n",
       "model_ecosystem_selected            1730\n",
       "bestiary_open_environments_tab      1597\n",
       "model_concept_started               1147\n",
       "bestiary_select_environment         1030\n",
       "begin_model                          896\n",
       "model_end                            871\n",
       "model_concept_updated                793\n",
       "remove_environment                   635\n",
       "remove_critter                       621\n",
       "select_language                      233\n",
       "begin_simulation                     178\n",
       "upgrade_fact                          81\n",
       "game_error                            48\n",
       "Name: count, dtype: int64"
      ]
     },
     "execution_count": 222,
     "metadata": {},
     "output_type": "execute_result"
    }
   ],
   "source": [
    "player_log_df[player_log_df[\"job_name\"] == \"no-active-job\"].event_name.value_counts().sort_values(ascending=False)"
   ]
  },
  {
   "cell_type": "markdown",
   "metadata": {},
   "source": [
    "let's get time taken to complete a job (`accept_job` to `complete_job`)"
   ]
  },
  {
   "cell_type": "code",
   "execution_count": 223,
   "metadata": {},
   "outputs": [],
   "source": [
    "started_df = player_log_df[player_log_df[\"event_name\"] == \"accept_job\"][[\"timestamp\", \"job_name\", \"user_id\", \"event_data\"]].rename(columns={\"timestamp\":\"timestamp_start\"})\n",
    "completed = player_log_df[player_log_df[\"event_name\"] == \"complete_job\"][[\"timestamp\", \"job_name\", \"user_id\", \"event_data\"]].rename(columns={\"timestamp\":\"timestamp_end\"})"
   ]
  },
  {
   "cell_type": "code",
   "execution_count": 224,
   "metadata": {},
   "outputs": [
    {
     "data": {
      "text/plain": [
       "{'http_user_agent': 'Mozilla/5.0 (X11; CrOS x86_64 14541.0.0) AppleWebKit/537.36 (KHTML, like Gecko) Chrome/121.0.0.0 Safari/537.36',\n",
       " 'server_time': '2024-05-06T08:10:18+00:00'}"
      ]
     },
     "execution_count": 224,
     "metadata": {},
     "output_type": "execute_result"
    }
   ],
   "source": [
    "json.loads(started_df['event_data'].values[0])"
   ]
  },
  {
   "cell_type": "code",
   "execution_count": 225,
   "metadata": {},
   "outputs": [
    {
     "data": {
      "text/plain": [
       "{'http_user_agent': 'Mozilla/5.0 (X11; CrOS x86_64 14541.0.0) AppleWebKit/537.36 (KHTML, like Gecko) Chrome/120.0.0.0 Safari/537.36',\n",
       " 'job_name': 'coral-casting-shade',\n",
       " 'server_time': '2024-05-10T07:13:29+00:00'}"
      ]
     },
     "execution_count": 225,
     "metadata": {},
     "output_type": "execute_result"
    }
   ],
   "source": [
    "json.loads(completed['event_data'].values[0])"
   ]
  },
  {
   "cell_type": "code",
   "execution_count": 226,
   "metadata": {},
   "outputs": [
    {
     "data": {
      "text/html": [
       "<div>\n",
       "<style scoped>\n",
       "    .dataframe tbody tr th:only-of-type {\n",
       "        vertical-align: middle;\n",
       "    }\n",
       "\n",
       "    .dataframe tbody tr th {\n",
       "        vertical-align: top;\n",
       "    }\n",
       "\n",
       "    .dataframe thead th {\n",
       "        text-align: right;\n",
       "    }\n",
       "</style>\n",
       "<table border=\"1\" class=\"dataframe\">\n",
       "  <thead>\n",
       "    <tr style=\"text-align: right;\">\n",
       "      <th></th>\n",
       "      <th>timestamp_start</th>\n",
       "      <th>job_name</th>\n",
       "      <th>user_id</th>\n",
       "      <th>event_data_x</th>\n",
       "      <th>timestamp_end</th>\n",
       "      <th>event_data_y</th>\n",
       "      <th>delta_secs</th>\n",
       "    </tr>\n",
       "  </thead>\n",
       "  <tbody>\n",
       "    <tr>\n",
       "      <th>0</th>\n",
       "      <td>2024-05-10T20:04:07.150000+00:00</td>\n",
       "      <td>arctic-cause-of-death</td>\n",
       "      <td>AbsentHair</td>\n",
       "      <td>{\"http_user_agent\": \"Mozilla/5.0 (X11; CrOS x8...</td>\n",
       "      <td>2024-05-12T21:34:58.325000+00:00</td>\n",
       "      <td>{\"http_user_agent\": \"Mozilla/5.0 (X11; CrOS x8...</td>\n",
       "      <td>178251.175</td>\n",
       "    </tr>\n",
       "    <tr>\n",
       "      <th>1</th>\n",
       "      <td>2024-05-10T19:16:22.272000+00:00</td>\n",
       "      <td>bayou-blue-waters</td>\n",
       "      <td>AdmiredTerm</td>\n",
       "      <td>{\"http_user_agent\": \"Mozilla/5.0 (X11; CrOS x8...</td>\n",
       "      <td>2024-05-30T18:43:38.625000+00:00</td>\n",
       "      <td>{\"http_user_agent\": \"Mozilla/5.0 (X11; CrOS x8...</td>\n",
       "      <td>1726036.353</td>\n",
       "    </tr>\n",
       "    <tr>\n",
       "      <th>2</th>\n",
       "      <td>2024-05-21T16:55:28.929000+00:00</td>\n",
       "      <td>kelp-refuge-failure</td>\n",
       "      <td>AvengingSunset</td>\n",
       "      <td>{\"http_user_agent\": \"Mozilla/5.0 (X11; CrOS x8...</td>\n",
       "      <td>2024-05-22T14:05:45.316000+00:00</td>\n",
       "      <td>{\"http_user_agent\": \"Mozilla/5.0 (X11; CrOS x8...</td>\n",
       "      <td>76216.387</td>\n",
       "    </tr>\n",
       "    <tr>\n",
       "      <th>3</th>\n",
       "      <td>2024-05-05T17:25:44.309000+00:00</td>\n",
       "      <td>arctic-missing-whale</td>\n",
       "      <td>BinaryPiece</td>\n",
       "      <td>{\"http_user_agent\": \"Mozilla/5.0 (X11; CrOS x8...</td>\n",
       "      <td>2024-05-06T01:44:28.281000+00:00</td>\n",
       "      <td>{\"http_user_agent\": \"Mozilla/5.0 (X11; CrOS x8...</td>\n",
       "      <td>29923.972</td>\n",
       "    </tr>\n",
       "    <tr>\n",
       "      <th>4</th>\n",
       "      <td>2024-05-06T01:25:14.500000+00:00</td>\n",
       "      <td>arctic-missing-whale</td>\n",
       "      <td>BinaryPiece</td>\n",
       "      <td>{\"http_user_agent\": \"Mozilla/5.0 (X11; CrOS x8...</td>\n",
       "      <td>2024-05-06T01:44:28.281000+00:00</td>\n",
       "      <td>{\"http_user_agent\": \"Mozilla/5.0 (X11; CrOS x8...</td>\n",
       "      <td>1153.781</td>\n",
       "    </tr>\n",
       "    <tr>\n",
       "      <th>...</th>\n",
       "      <td>...</td>\n",
       "      <td>...</td>\n",
       "      <td>...</td>\n",
       "      <td>...</td>\n",
       "      <td>...</td>\n",
       "      <td>...</td>\n",
       "      <td>...</td>\n",
       "    </tr>\n",
       "    <tr>\n",
       "      <th>866</th>\n",
       "      <td>2024-05-01T19:44:06.245000+00:00</td>\n",
       "      <td>arctic-missing-whale</td>\n",
       "      <td>ThrilledTile</td>\n",
       "      <td>{\"http_user_agent\": \"Mozilla/5.0 (Windows NT 1...</td>\n",
       "      <td>2024-05-01T20:42:17.163000+00:00</td>\n",
       "      <td>{\"http_user_agent\": \"Mozilla/5.0 (Windows NT 1...</td>\n",
       "      <td>3490.918</td>\n",
       "    </tr>\n",
       "    <tr>\n",
       "      <th>867</th>\n",
       "      <td>2024-05-01T12:39:02.689000+00:00</td>\n",
       "      <td>kelp-mussel-fest</td>\n",
       "      <td>WobblySocks</td>\n",
       "      <td>{\"http_user_agent\": \"Mozilla/5.0 (X11; CrOS x8...</td>\n",
       "      <td>2024-05-01T13:01:57.744000+00:00</td>\n",
       "      <td>{\"http_user_agent\": \"Mozilla/5.0 (X11; CrOS x8...</td>\n",
       "      <td>1375.055</td>\n",
       "    </tr>\n",
       "    <tr>\n",
       "      <th>868</th>\n",
       "      <td>2024-05-30T20:49:08.174000+00:00</td>\n",
       "      <td>arctic-missing-whale</td>\n",
       "      <td>InsultedWharf</td>\n",
       "      <td>{\"http_user_agent\": \"Mozilla/5.0 (X11; CrOS aa...</td>\n",
       "      <td>2024-05-31T18:17:30.944000+00:00</td>\n",
       "      <td>{\"http_user_agent\": \"Mozilla/5.0 (X11; CrOS aa...</td>\n",
       "      <td>77302.770</td>\n",
       "    </tr>\n",
       "    <tr>\n",
       "      <th>869</th>\n",
       "      <td>2024-05-30T23:51:47.238000+00:00</td>\n",
       "      <td>arctic-isolated-instance</td>\n",
       "      <td>StackedPond</td>\n",
       "      <td>{\"http_user_agent\": \"Mozilla/5.0 (X11; CrOS x8...</td>\n",
       "      <td>2024-05-31T03:15:52.121000+00:00</td>\n",
       "      <td>{\"http_user_agent\": \"Mozilla/5.0 (X11; CrOS x8...</td>\n",
       "      <td>12244.883</td>\n",
       "    </tr>\n",
       "    <tr>\n",
       "      <th>870</th>\n",
       "      <td>2024-05-31T00:46:10.421000+00:00</td>\n",
       "      <td>kelp-save-urchin-barren</td>\n",
       "      <td>StackedPond</td>\n",
       "      <td>{\"http_user_agent\": \"Mozilla/5.0 (X11; CrOS x8...</td>\n",
       "      <td>2024-05-31T01:09:15.223000+00:00</td>\n",
       "      <td>{\"http_user_agent\": \"Mozilla/5.0 (X11; CrOS x8...</td>\n",
       "      <td>1384.802</td>\n",
       "    </tr>\n",
       "  </tbody>\n",
       "</table>\n",
       "<p>871 rows × 7 columns</p>\n",
       "</div>"
      ],
      "text/plain": [
       "                      timestamp_start                  job_name  \\\n",
       "0    2024-05-10T20:04:07.150000+00:00     arctic-cause-of-death   \n",
       "1    2024-05-10T19:16:22.272000+00:00         bayou-blue-waters   \n",
       "2    2024-05-21T16:55:28.929000+00:00       kelp-refuge-failure   \n",
       "3    2024-05-05T17:25:44.309000+00:00      arctic-missing-whale   \n",
       "4    2024-05-06T01:25:14.500000+00:00      arctic-missing-whale   \n",
       "..                                ...                       ...   \n",
       "866  2024-05-01T19:44:06.245000+00:00      arctic-missing-whale   \n",
       "867  2024-05-01T12:39:02.689000+00:00          kelp-mussel-fest   \n",
       "868  2024-05-30T20:49:08.174000+00:00      arctic-missing-whale   \n",
       "869  2024-05-30T23:51:47.238000+00:00  arctic-isolated-instance   \n",
       "870  2024-05-31T00:46:10.421000+00:00   kelp-save-urchin-barren   \n",
       "\n",
       "            user_id                                       event_data_x  \\\n",
       "0        AbsentHair  {\"http_user_agent\": \"Mozilla/5.0 (X11; CrOS x8...   \n",
       "1       AdmiredTerm  {\"http_user_agent\": \"Mozilla/5.0 (X11; CrOS x8...   \n",
       "2    AvengingSunset  {\"http_user_agent\": \"Mozilla/5.0 (X11; CrOS x8...   \n",
       "3       BinaryPiece  {\"http_user_agent\": \"Mozilla/5.0 (X11; CrOS x8...   \n",
       "4       BinaryPiece  {\"http_user_agent\": \"Mozilla/5.0 (X11; CrOS x8...   \n",
       "..              ...                                                ...   \n",
       "866    ThrilledTile  {\"http_user_agent\": \"Mozilla/5.0 (Windows NT 1...   \n",
       "867     WobblySocks  {\"http_user_agent\": \"Mozilla/5.0 (X11; CrOS x8...   \n",
       "868   InsultedWharf  {\"http_user_agent\": \"Mozilla/5.0 (X11; CrOS aa...   \n",
       "869     StackedPond  {\"http_user_agent\": \"Mozilla/5.0 (X11; CrOS x8...   \n",
       "870     StackedPond  {\"http_user_agent\": \"Mozilla/5.0 (X11; CrOS x8...   \n",
       "\n",
       "                        timestamp_end  \\\n",
       "0    2024-05-12T21:34:58.325000+00:00   \n",
       "1    2024-05-30T18:43:38.625000+00:00   \n",
       "2    2024-05-22T14:05:45.316000+00:00   \n",
       "3    2024-05-06T01:44:28.281000+00:00   \n",
       "4    2024-05-06T01:44:28.281000+00:00   \n",
       "..                                ...   \n",
       "866  2024-05-01T20:42:17.163000+00:00   \n",
       "867  2024-05-01T13:01:57.744000+00:00   \n",
       "868  2024-05-31T18:17:30.944000+00:00   \n",
       "869  2024-05-31T03:15:52.121000+00:00   \n",
       "870  2024-05-31T01:09:15.223000+00:00   \n",
       "\n",
       "                                          event_data_y   delta_secs  \n",
       "0    {\"http_user_agent\": \"Mozilla/5.0 (X11; CrOS x8...   178251.175  \n",
       "1    {\"http_user_agent\": \"Mozilla/5.0 (X11; CrOS x8...  1726036.353  \n",
       "2    {\"http_user_agent\": \"Mozilla/5.0 (X11; CrOS x8...    76216.387  \n",
       "3    {\"http_user_agent\": \"Mozilla/5.0 (X11; CrOS x8...    29923.972  \n",
       "4    {\"http_user_agent\": \"Mozilla/5.0 (X11; CrOS x8...     1153.781  \n",
       "..                                                 ...          ...  \n",
       "866  {\"http_user_agent\": \"Mozilla/5.0 (Windows NT 1...     3490.918  \n",
       "867  {\"http_user_agent\": \"Mozilla/5.0 (X11; CrOS x8...     1375.055  \n",
       "868  {\"http_user_agent\": \"Mozilla/5.0 (X11; CrOS aa...    77302.770  \n",
       "869  {\"http_user_agent\": \"Mozilla/5.0 (X11; CrOS x8...    12244.883  \n",
       "870  {\"http_user_agent\": \"Mozilla/5.0 (X11; CrOS x8...     1384.802  \n",
       "\n",
       "[871 rows x 7 columns]"
      ]
     },
     "execution_count": 226,
     "metadata": {},
     "output_type": "execute_result"
    }
   ],
   "source": [
    "jobs_time = started_df.merge(completed, how=\"inner\", on=[\"job_name\", \"user_id\"])\n",
    "jobs_time['delta_secs'] = (pd.to_datetime(jobs_time['timestamp_end']) - pd.to_datetime(jobs_time['timestamp_start'])).dt.total_seconds()\n",
    "jobs_time"
   ]
  },
  {
   "cell_type": "code",
   "execution_count": 227,
   "metadata": {},
   "outputs": [
    {
     "data": {
      "text/html": [
       "<div>\n",
       "<style scoped>\n",
       "    .dataframe tbody tr th:only-of-type {\n",
       "        vertical-align: middle;\n",
       "    }\n",
       "\n",
       "    .dataframe tbody tr th {\n",
       "        vertical-align: top;\n",
       "    }\n",
       "\n",
       "    .dataframe thead tr th {\n",
       "        text-align: left;\n",
       "    }\n",
       "\n",
       "    .dataframe thead tr:last-of-type th {\n",
       "        text-align: right;\n",
       "    }\n",
       "</style>\n",
       "<table border=\"1\" class=\"dataframe\">\n",
       "  <thead>\n",
       "    <tr>\n",
       "      <th></th>\n",
       "      <th colspan=\"8\" halign=\"left\">delta_secs</th>\n",
       "    </tr>\n",
       "    <tr>\n",
       "      <th></th>\n",
       "      <th>count</th>\n",
       "      <th>mean</th>\n",
       "      <th>std</th>\n",
       "      <th>min</th>\n",
       "      <th>25%</th>\n",
       "      <th>50%</th>\n",
       "      <th>75%</th>\n",
       "      <th>max</th>\n",
       "    </tr>\n",
       "    <tr>\n",
       "      <th>job_name</th>\n",
       "      <th></th>\n",
       "      <th></th>\n",
       "      <th></th>\n",
       "      <th></th>\n",
       "      <th></th>\n",
       "      <th></th>\n",
       "      <th></th>\n",
       "      <th></th>\n",
       "    </tr>\n",
       "  </thead>\n",
       "  <tbody>\n",
       "    <tr>\n",
       "      <th>coral-much-algae</th>\n",
       "      <td>2.0</td>\n",
       "      <td>761225.758500</td>\n",
       "      <td>4.488007</td>\n",
       "      <td>761222.585</td>\n",
       "      <td>761224.17175</td>\n",
       "      <td>761225.7585</td>\n",
       "      <td>7.612273e+05</td>\n",
       "      <td>761228.932</td>\n",
       "    </tr>\n",
       "    <tr>\n",
       "      <th>kelp-urchin-barren-predict</th>\n",
       "      <td>4.0</td>\n",
       "      <td>605524.489500</td>\n",
       "      <td>672780.471437</td>\n",
       "      <td>718.492</td>\n",
       "      <td>64794.57475</td>\n",
       "      <td>520536.6275</td>\n",
       "      <td>1.061267e+06</td>\n",
       "      <td>1380306.211</td>\n",
       "    </tr>\n",
       "    <tr>\n",
       "      <th>coral-fishy-bizz</th>\n",
       "      <td>4.0</td>\n",
       "      <td>593335.967000</td>\n",
       "      <td>551454.084875</td>\n",
       "      <td>36607.844</td>\n",
       "      <td>216923.94200</td>\n",
       "      <td>530348.9630</td>\n",
       "      <td>9.067610e+05</td>\n",
       "      <td>1276038.098</td>\n",
       "    </tr>\n",
       "    <tr>\n",
       "      <th>bayou-alt-energy</th>\n",
       "      <td>7.0</td>\n",
       "      <td>558668.472143</td>\n",
       "      <td>664727.459059</td>\n",
       "      <td>1416.710</td>\n",
       "      <td>2309.87700</td>\n",
       "      <td>220860.4150</td>\n",
       "      <td>1.018271e+06</td>\n",
       "      <td>1647239.587</td>\n",
       "    </tr>\n",
       "    <tr>\n",
       "      <th>kelp-urchin-barren-viz</th>\n",
       "      <td>6.0</td>\n",
       "      <td>434035.653333</td>\n",
       "      <td>664663.746113</td>\n",
       "      <td>704.653</td>\n",
       "      <td>8340.09800</td>\n",
       "      <td>182052.4390</td>\n",
       "      <td>4.734598e+05</td>\n",
       "      <td>1718372.790</td>\n",
       "    </tr>\n",
       "    <tr>\n",
       "      <th>coral-casting-shade</th>\n",
       "      <td>9.0</td>\n",
       "      <td>428106.623333</td>\n",
       "      <td>630516.096597</td>\n",
       "      <td>4725.025</td>\n",
       "      <td>86265.59200</td>\n",
       "      <td>87681.5880</td>\n",
       "      <td>5.200842e+05</td>\n",
       "      <td>1805816.502</td>\n",
       "    </tr>\n",
       "    <tr>\n",
       "      <th>coral-turtle-stability</th>\n",
       "      <td>7.0</td>\n",
       "      <td>415406.678143</td>\n",
       "      <td>494540.618575</td>\n",
       "      <td>-22008.468</td>\n",
       "      <td>3077.70350</td>\n",
       "      <td>259470.0660</td>\n",
       "      <td>6.940993e+05</td>\n",
       "      <td>1276031.160</td>\n",
       "    </tr>\n",
       "    <tr>\n",
       "      <th>arctic-in-ice</th>\n",
       "      <td>9.0</td>\n",
       "      <td>406733.091667</td>\n",
       "      <td>257108.275094</td>\n",
       "      <td>67849.589</td>\n",
       "      <td>423492.66600</td>\n",
       "      <td>430958.1610</td>\n",
       "      <td>4.324301e+05</td>\n",
       "      <td>950971.600</td>\n",
       "    </tr>\n",
       "    <tr>\n",
       "      <th>bayou-blue-waters</th>\n",
       "      <td>20.0</td>\n",
       "      <td>298419.633150</td>\n",
       "      <td>622299.169106</td>\n",
       "      <td>1406.261</td>\n",
       "      <td>10892.27475</td>\n",
       "      <td>57341.6105</td>\n",
       "      <td>1.985687e+05</td>\n",
       "      <td>2336042.697</td>\n",
       "    </tr>\n",
       "    <tr>\n",
       "      <th>displaced-reef</th>\n",
       "      <td>45.0</td>\n",
       "      <td>295186.813600</td>\n",
       "      <td>605876.686989</td>\n",
       "      <td>-9.584</td>\n",
       "      <td>714.58000</td>\n",
       "      <td>7276.2620</td>\n",
       "      <td>2.582252e+05</td>\n",
       "      <td>2414899.558</td>\n",
       "    </tr>\n",
       "    <tr>\n",
       "      <th>turtle-danger2</th>\n",
       "      <td>9.0</td>\n",
       "      <td>246871.104667</td>\n",
       "      <td>158562.519766</td>\n",
       "      <td>16111.585</td>\n",
       "      <td>175579.13100</td>\n",
       "      <td>258546.6590</td>\n",
       "      <td>2.587788e+05</td>\n",
       "      <td>543969.239</td>\n",
       "    </tr>\n",
       "    <tr>\n",
       "      <th>above-n-below</th>\n",
       "      <td>5.0</td>\n",
       "      <td>208732.627000</td>\n",
       "      <td>243795.949616</td>\n",
       "      <td>13732.406</td>\n",
       "      <td>36288.69500</td>\n",
       "      <td>46729.8390</td>\n",
       "      <td>4.311363e+05</td>\n",
       "      <td>515775.888</td>\n",
       "    </tr>\n",
       "    <tr>\n",
       "      <th>coral-turtle-population</th>\n",
       "      <td>21.0</td>\n",
       "      <td>203933.012381</td>\n",
       "      <td>502313.455895</td>\n",
       "      <td>-603836.175</td>\n",
       "      <td>2483.62500</td>\n",
       "      <td>14231.0190</td>\n",
       "      <td>8.627579e+04</td>\n",
       "      <td>1792377.891</td>\n",
       "    </tr>\n",
       "    <tr>\n",
       "      <th>arctic-disappearing-act</th>\n",
       "      <td>7.0</td>\n",
       "      <td>198104.968143</td>\n",
       "      <td>242846.298169</td>\n",
       "      <td>3226.222</td>\n",
       "      <td>59483.17450</td>\n",
       "      <td>75971.8630</td>\n",
       "      <td>2.490864e+05</td>\n",
       "      <td>690397.473</td>\n",
       "    </tr>\n",
       "    <tr>\n",
       "      <th>bayou-oxygen-tracking</th>\n",
       "      <td>5.0</td>\n",
       "      <td>196023.978000</td>\n",
       "      <td>267832.009557</td>\n",
       "      <td>3493.535</td>\n",
       "      <td>3770.31700</td>\n",
       "      <td>34575.7390</td>\n",
       "      <td>3.319248e+05</td>\n",
       "      <td>606355.454</td>\n",
       "    </tr>\n",
       "    <tr>\n",
       "      <th>coral-hunting-lions</th>\n",
       "      <td>16.0</td>\n",
       "      <td>194137.322188</td>\n",
       "      <td>184003.337554</td>\n",
       "      <td>1283.216</td>\n",
       "      <td>59817.09150</td>\n",
       "      <td>99630.9405</td>\n",
       "      <td>2.985780e+05</td>\n",
       "      <td>566124.447</td>\n",
       "    </tr>\n",
       "    <tr>\n",
       "      <th>kelp-start-refuge</th>\n",
       "      <td>11.0</td>\n",
       "      <td>190788.834909</td>\n",
       "      <td>241162.431636</td>\n",
       "      <td>337.577</td>\n",
       "      <td>1286.50150</td>\n",
       "      <td>87456.3290</td>\n",
       "      <td>3.506517e+05</td>\n",
       "      <td>613294.457</td>\n",
       "    </tr>\n",
       "    <tr>\n",
       "      <th>bayou-shrimp-yields</th>\n",
       "      <td>39.0</td>\n",
       "      <td>186935.679103</td>\n",
       "      <td>258596.646595</td>\n",
       "      <td>395.138</td>\n",
       "      <td>2142.41650</td>\n",
       "      <td>72710.8160</td>\n",
       "      <td>2.652579e+05</td>\n",
       "      <td>1046133.963</td>\n",
       "    </tr>\n",
       "    <tr>\n",
       "      <th>coral-ocean-plastics</th>\n",
       "      <td>8.0</td>\n",
       "      <td>185562.334625</td>\n",
       "      <td>198474.691258</td>\n",
       "      <td>834.339</td>\n",
       "      <td>64078.30275</td>\n",
       "      <td>122345.0465</td>\n",
       "      <td>2.574000e+05</td>\n",
       "      <td>603037.641</td>\n",
       "    </tr>\n",
       "    <tr>\n",
       "      <th>coral-stressed</th>\n",
       "      <td>9.0</td>\n",
       "      <td>182433.931444</td>\n",
       "      <td>209753.987527</td>\n",
       "      <td>143.132</td>\n",
       "      <td>2163.26300</td>\n",
       "      <td>55195.4090</td>\n",
       "      <td>4.263920e+05</td>\n",
       "      <td>451535.752</td>\n",
       "    </tr>\n",
       "    <tr>\n",
       "      <th>kelp-energy</th>\n",
       "      <td>14.0</td>\n",
       "      <td>179044.915500</td>\n",
       "      <td>278530.833177</td>\n",
       "      <td>-87425.169</td>\n",
       "      <td>6705.75500</td>\n",
       "      <td>72466.0425</td>\n",
       "      <td>2.447086e+05</td>\n",
       "      <td>892960.286</td>\n",
       "    </tr>\n",
       "    <tr>\n",
       "      <th>arctic-endangered-seals</th>\n",
       "      <td>11.0</td>\n",
       "      <td>168284.026818</td>\n",
       "      <td>250566.604274</td>\n",
       "      <td>1081.648</td>\n",
       "      <td>4319.20850</td>\n",
       "      <td>32299.3530</td>\n",
       "      <td>2.622799e+05</td>\n",
       "      <td>691069.791</td>\n",
       "    </tr>\n",
       "    <tr>\n",
       "      <th>arctic-cause-of-death</th>\n",
       "      <td>11.0</td>\n",
       "      <td>160525.793455</td>\n",
       "      <td>222387.531816</td>\n",
       "      <td>1096.661</td>\n",
       "      <td>23755.42400</td>\n",
       "      <td>78045.0140</td>\n",
       "      <td>1.983814e+05</td>\n",
       "      <td>773142.447</td>\n",
       "    </tr>\n",
       "    <tr>\n",
       "      <th>kelp-musselfest-solution</th>\n",
       "      <td>22.0</td>\n",
       "      <td>158485.187773</td>\n",
       "      <td>312249.497092</td>\n",
       "      <td>528.035</td>\n",
       "      <td>2968.67800</td>\n",
       "      <td>19861.2270</td>\n",
       "      <td>1.391283e+05</td>\n",
       "      <td>1298142.832</td>\n",
       "    </tr>\n",
       "    <tr>\n",
       "      <th>coral-fake-fix</th>\n",
       "      <td>20.0</td>\n",
       "      <td>151801.364600</td>\n",
       "      <td>361256.598099</td>\n",
       "      <td>-157384.048</td>\n",
       "      <td>973.94350</td>\n",
       "      <td>38124.6590</td>\n",
       "      <td>1.042016e+05</td>\n",
       "      <td>1564667.558</td>\n",
       "    </tr>\n",
       "    <tr>\n",
       "      <th>arctic-missing-whale</th>\n",
       "      <td>403.0</td>\n",
       "      <td>147670.528633</td>\n",
       "      <td>280363.472396</td>\n",
       "      <td>369.456</td>\n",
       "      <td>1888.23950</td>\n",
       "      <td>17410.6970</td>\n",
       "      <td>1.708518e+05</td>\n",
       "      <td>1986599.343</td>\n",
       "    </tr>\n",
       "    <tr>\n",
       "      <th>arctic-seal-habitats</th>\n",
       "      <td>7.0</td>\n",
       "      <td>137791.557714</td>\n",
       "      <td>175098.685276</td>\n",
       "      <td>4117.796</td>\n",
       "      <td>68333.77650</td>\n",
       "      <td>86161.5100</td>\n",
       "      <td>1.057459e+05</td>\n",
       "      <td>526102.333</td>\n",
       "    </tr>\n",
       "    <tr>\n",
       "      <th>bayou-boom-cause</th>\n",
       "      <td>4.0</td>\n",
       "      <td>129647.524000</td>\n",
       "      <td>110511.424824</td>\n",
       "      <td>506.951</td>\n",
       "      <td>64847.29025</td>\n",
       "      <td>131080.4935</td>\n",
       "      <td>1.958807e+05</td>\n",
       "      <td>255922.158</td>\n",
       "    </tr>\n",
       "    <tr>\n",
       "      <th>turtle-danger</th>\n",
       "      <td>7.0</td>\n",
       "      <td>123900.077857</td>\n",
       "      <td>222233.120028</td>\n",
       "      <td>143.140</td>\n",
       "      <td>805.14500</td>\n",
       "      <td>1206.3080</td>\n",
       "      <td>1.304719e+05</td>\n",
       "      <td>603396.985</td>\n",
       "    </tr>\n",
       "    <tr>\n",
       "      <th>arctic-underneath</th>\n",
       "      <td>9.0</td>\n",
       "      <td>122160.239889</td>\n",
       "      <td>192789.814919</td>\n",
       "      <td>-76316.729</td>\n",
       "      <td>3868.26600</td>\n",
       "      <td>83703.3080</td>\n",
       "      <td>9.993738e+04</td>\n",
       "      <td>463185.680</td>\n",
       "    </tr>\n",
       "    <tr>\n",
       "      <th>arctic-salmon-monitoring</th>\n",
       "      <td>30.0</td>\n",
       "      <td>119712.125167</td>\n",
       "      <td>382709.793651</td>\n",
       "      <td>-419518.263</td>\n",
       "      <td>2127.27250</td>\n",
       "      <td>6813.3040</td>\n",
       "      <td>7.398061e+04</td>\n",
       "      <td>1971840.305</td>\n",
       "    </tr>\n",
       "    <tr>\n",
       "      <th>kelp-refuge-failure</th>\n",
       "      <td>13.0</td>\n",
       "      <td>110139.691231</td>\n",
       "      <td>136030.713462</td>\n",
       "      <td>1003.765</td>\n",
       "      <td>1801.28300</td>\n",
       "      <td>36598.3080</td>\n",
       "      <td>1.736669e+05</td>\n",
       "      <td>352943.181</td>\n",
       "    </tr>\n",
       "    <tr>\n",
       "      <th>kelp-mussel-fest</th>\n",
       "      <td>29.0</td>\n",
       "      <td>107020.852690</td>\n",
       "      <td>193034.317847</td>\n",
       "      <td>384.069</td>\n",
       "      <td>1239.05000</td>\n",
       "      <td>2912.3310</td>\n",
       "      <td>9.850307e+04</td>\n",
       "      <td>674167.213</td>\n",
       "    </tr>\n",
       "    <tr>\n",
       "      <th>kelp-save-urchin-barren</th>\n",
       "      <td>3.0</td>\n",
       "      <td>104922.738333</td>\n",
       "      <td>164302.547421</td>\n",
       "      <td>1384.802</td>\n",
       "      <td>10199.22300</td>\n",
       "      <td>19013.6440</td>\n",
       "      <td>1.566917e+05</td>\n",
       "      <td>294369.769</td>\n",
       "    </tr>\n",
       "    <tr>\n",
       "      <th>arctic-salmon-competition</th>\n",
       "      <td>5.0</td>\n",
       "      <td>100189.539400</td>\n",
       "      <td>96345.776977</td>\n",
       "      <td>1190.332</td>\n",
       "      <td>58370.53500</td>\n",
       "      <td>76629.7570</td>\n",
       "      <td>1.064996e+05</td>\n",
       "      <td>258257.509</td>\n",
       "    </tr>\n",
       "    <tr>\n",
       "      <th>coral-eat-seaweed</th>\n",
       "      <td>2.0</td>\n",
       "      <td>88448.329000</td>\n",
       "      <td>124840.474379</td>\n",
       "      <td>172.783</td>\n",
       "      <td>44310.55600</td>\n",
       "      <td>88448.3290</td>\n",
       "      <td>1.325861e+05</td>\n",
       "      <td>176723.875</td>\n",
       "    </tr>\n",
       "    <tr>\n",
       "      <th>arctic-isolated-instance</th>\n",
       "      <td>8.0</td>\n",
       "      <td>77619.703625</td>\n",
       "      <td>113134.320988</td>\n",
       "      <td>2388.487</td>\n",
       "      <td>11360.97675</td>\n",
       "      <td>43106.7035</td>\n",
       "      <td>8.208413e+04</td>\n",
       "      <td>343702.328</td>\n",
       "    </tr>\n",
       "    <tr>\n",
       "      <th>bayou-shrimp-tastrophe</th>\n",
       "      <td>4.0</td>\n",
       "      <td>49731.716250</td>\n",
       "      <td>50423.684885</td>\n",
       "      <td>7522.191</td>\n",
       "      <td>7683.57150</td>\n",
       "      <td>41590.0230</td>\n",
       "      <td>8.363817e+04</td>\n",
       "      <td>108224.628</td>\n",
       "    </tr>\n",
       "    <tr>\n",
       "      <th>arctic-stationary-survival</th>\n",
       "      <td>4.0</td>\n",
       "      <td>49650.680250</td>\n",
       "      <td>34171.017436</td>\n",
       "      <td>356.061</td>\n",
       "      <td>40293.44775</td>\n",
       "      <td>61041.4945</td>\n",
       "      <td>7.039873e+04</td>\n",
       "      <td>76163.671</td>\n",
       "    </tr>\n",
       "    <tr>\n",
       "      <th>arctic-time-of-death</th>\n",
       "      <td>5.0</td>\n",
       "      <td>49237.409600</td>\n",
       "      <td>396005.839237</td>\n",
       "      <td>-517671.788</td>\n",
       "      <td>211.03100</td>\n",
       "      <td>78135.6860</td>\n",
       "      <td>8.746077e+04</td>\n",
       "      <td>598051.348</td>\n",
       "    </tr>\n",
       "    <tr>\n",
       "      <th>bayou-hide-n-seek</th>\n",
       "      <td>1.0</td>\n",
       "      <td>40849.770000</td>\n",
       "      <td>NaN</td>\n",
       "      <td>40849.770</td>\n",
       "      <td>40849.77000</td>\n",
       "      <td>40849.7700</td>\n",
       "      <td>4.084977e+04</td>\n",
       "      <td>40849.770</td>\n",
       "    </tr>\n",
       "    <tr>\n",
       "      <th>kelp-urchin-farm</th>\n",
       "      <td>5.0</td>\n",
       "      <td>6937.875000</td>\n",
       "      <td>8393.826253</td>\n",
       "      <td>101.284</td>\n",
       "      <td>1017.36100</td>\n",
       "      <td>1333.0370</td>\n",
       "      <td>1.597897e+04</td>\n",
       "      <td>16258.721</td>\n",
       "    </tr>\n",
       "    <tr>\n",
       "      <th>kelp-refuge-failure-simulation</th>\n",
       "      <td>1.0</td>\n",
       "      <td>1208.525000</td>\n",
       "      <td>NaN</td>\n",
       "      <td>1208.525</td>\n",
       "      <td>1208.52500</td>\n",
       "      <td>1208.5250</td>\n",
       "      <td>1.208525e+03</td>\n",
       "      <td>1208.525</td>\n",
       "    </tr>\n",
       "    <tr>\n",
       "      <th>bayou-dirty-detritus</th>\n",
       "      <td>1.0</td>\n",
       "      <td>228.925000</td>\n",
       "      <td>NaN</td>\n",
       "      <td>228.925</td>\n",
       "      <td>228.92500</td>\n",
       "      <td>228.9250</td>\n",
       "      <td>2.289250e+02</td>\n",
       "      <td>228.925</td>\n",
       "    </tr>\n",
       "    <tr>\n",
       "      <th>coral-lionfish-conspiracy</th>\n",
       "      <td>9.0</td>\n",
       "      <td>-34821.275667</td>\n",
       "      <td>210688.377831</td>\n",
       "      <td>-587012.893</td>\n",
       "      <td>732.17300</td>\n",
       "      <td>3896.3170</td>\n",
       "      <td>7.011757e+04</td>\n",
       "      <td>92483.134</td>\n",
       "    </tr>\n",
       "  </tbody>\n",
       "</table>\n",
       "</div>"
      ],
      "text/plain": [
       "                               delta_secs                                \\\n",
       "                                    count           mean            std   \n",
       "job_name                                                                  \n",
       "coral-much-algae                      2.0  761225.758500       4.488007   \n",
       "kelp-urchin-barren-predict            4.0  605524.489500  672780.471437   \n",
       "coral-fishy-bizz                      4.0  593335.967000  551454.084875   \n",
       "bayou-alt-energy                      7.0  558668.472143  664727.459059   \n",
       "kelp-urchin-barren-viz                6.0  434035.653333  664663.746113   \n",
       "coral-casting-shade                   9.0  428106.623333  630516.096597   \n",
       "coral-turtle-stability                7.0  415406.678143  494540.618575   \n",
       "arctic-in-ice                         9.0  406733.091667  257108.275094   \n",
       "bayou-blue-waters                    20.0  298419.633150  622299.169106   \n",
       "displaced-reef                       45.0  295186.813600  605876.686989   \n",
       "turtle-danger2                        9.0  246871.104667  158562.519766   \n",
       "above-n-below                         5.0  208732.627000  243795.949616   \n",
       "coral-turtle-population              21.0  203933.012381  502313.455895   \n",
       "arctic-disappearing-act               7.0  198104.968143  242846.298169   \n",
       "bayou-oxygen-tracking                 5.0  196023.978000  267832.009557   \n",
       "coral-hunting-lions                  16.0  194137.322188  184003.337554   \n",
       "kelp-start-refuge                    11.0  190788.834909  241162.431636   \n",
       "bayou-shrimp-yields                  39.0  186935.679103  258596.646595   \n",
       "coral-ocean-plastics                  8.0  185562.334625  198474.691258   \n",
       "coral-stressed                        9.0  182433.931444  209753.987527   \n",
       "kelp-energy                          14.0  179044.915500  278530.833177   \n",
       "arctic-endangered-seals              11.0  168284.026818  250566.604274   \n",
       "arctic-cause-of-death                11.0  160525.793455  222387.531816   \n",
       "kelp-musselfest-solution             22.0  158485.187773  312249.497092   \n",
       "coral-fake-fix                       20.0  151801.364600  361256.598099   \n",
       "arctic-missing-whale                403.0  147670.528633  280363.472396   \n",
       "arctic-seal-habitats                  7.0  137791.557714  175098.685276   \n",
       "bayou-boom-cause                      4.0  129647.524000  110511.424824   \n",
       "turtle-danger                         7.0  123900.077857  222233.120028   \n",
       "arctic-underneath                     9.0  122160.239889  192789.814919   \n",
       "arctic-salmon-monitoring             30.0  119712.125167  382709.793651   \n",
       "kelp-refuge-failure                  13.0  110139.691231  136030.713462   \n",
       "kelp-mussel-fest                     29.0  107020.852690  193034.317847   \n",
       "kelp-save-urchin-barren               3.0  104922.738333  164302.547421   \n",
       "arctic-salmon-competition             5.0  100189.539400   96345.776977   \n",
       "coral-eat-seaweed                     2.0   88448.329000  124840.474379   \n",
       "arctic-isolated-instance              8.0   77619.703625  113134.320988   \n",
       "bayou-shrimp-tastrophe                4.0   49731.716250   50423.684885   \n",
       "arctic-stationary-survival            4.0   49650.680250   34171.017436   \n",
       "arctic-time-of-death                  5.0   49237.409600  396005.839237   \n",
       "bayou-hide-n-seek                     1.0   40849.770000            NaN   \n",
       "kelp-urchin-farm                      5.0    6937.875000    8393.826253   \n",
       "kelp-refuge-failure-simulation        1.0    1208.525000            NaN   \n",
       "bayou-dirty-detritus                  1.0     228.925000            NaN   \n",
       "coral-lionfish-conspiracy             9.0  -34821.275667  210688.377831   \n",
       "\n",
       "                                                                       \\\n",
       "                                       min           25%          50%   \n",
       "job_name                                                                \n",
       "coral-much-algae                761222.585  761224.17175  761225.7585   \n",
       "kelp-urchin-barren-predict         718.492   64794.57475  520536.6275   \n",
       "coral-fishy-bizz                 36607.844  216923.94200  530348.9630   \n",
       "bayou-alt-energy                  1416.710    2309.87700  220860.4150   \n",
       "kelp-urchin-barren-viz             704.653    8340.09800  182052.4390   \n",
       "coral-casting-shade               4725.025   86265.59200   87681.5880   \n",
       "coral-turtle-stability          -22008.468    3077.70350  259470.0660   \n",
       "arctic-in-ice                    67849.589  423492.66600  430958.1610   \n",
       "bayou-blue-waters                 1406.261   10892.27475   57341.6105   \n",
       "displaced-reef                      -9.584     714.58000    7276.2620   \n",
       "turtle-danger2                   16111.585  175579.13100  258546.6590   \n",
       "above-n-below                    13732.406   36288.69500   46729.8390   \n",
       "coral-turtle-population        -603836.175    2483.62500   14231.0190   \n",
       "arctic-disappearing-act           3226.222   59483.17450   75971.8630   \n",
       "bayou-oxygen-tracking             3493.535    3770.31700   34575.7390   \n",
       "coral-hunting-lions               1283.216   59817.09150   99630.9405   \n",
       "kelp-start-refuge                  337.577    1286.50150   87456.3290   \n",
       "bayou-shrimp-yields                395.138    2142.41650   72710.8160   \n",
       "coral-ocean-plastics               834.339   64078.30275  122345.0465   \n",
       "coral-stressed                     143.132    2163.26300   55195.4090   \n",
       "kelp-energy                     -87425.169    6705.75500   72466.0425   \n",
       "arctic-endangered-seals           1081.648    4319.20850   32299.3530   \n",
       "arctic-cause-of-death             1096.661   23755.42400   78045.0140   \n",
       "kelp-musselfest-solution           528.035    2968.67800   19861.2270   \n",
       "coral-fake-fix                 -157384.048     973.94350   38124.6590   \n",
       "arctic-missing-whale               369.456    1888.23950   17410.6970   \n",
       "arctic-seal-habitats              4117.796   68333.77650   86161.5100   \n",
       "bayou-boom-cause                   506.951   64847.29025  131080.4935   \n",
       "turtle-danger                      143.140     805.14500    1206.3080   \n",
       "arctic-underneath               -76316.729    3868.26600   83703.3080   \n",
       "arctic-salmon-monitoring       -419518.263    2127.27250    6813.3040   \n",
       "kelp-refuge-failure               1003.765    1801.28300   36598.3080   \n",
       "kelp-mussel-fest                   384.069    1239.05000    2912.3310   \n",
       "kelp-save-urchin-barren           1384.802   10199.22300   19013.6440   \n",
       "arctic-salmon-competition         1190.332   58370.53500   76629.7570   \n",
       "coral-eat-seaweed                  172.783   44310.55600   88448.3290   \n",
       "arctic-isolated-instance          2388.487   11360.97675   43106.7035   \n",
       "bayou-shrimp-tastrophe            7522.191    7683.57150   41590.0230   \n",
       "arctic-stationary-survival         356.061   40293.44775   61041.4945   \n",
       "arctic-time-of-death           -517671.788     211.03100   78135.6860   \n",
       "bayou-hide-n-seek                40849.770   40849.77000   40849.7700   \n",
       "kelp-urchin-farm                   101.284    1017.36100    1333.0370   \n",
       "kelp-refuge-failure-simulation    1208.525    1208.52500    1208.5250   \n",
       "bayou-dirty-detritus               228.925     228.92500     228.9250   \n",
       "coral-lionfish-conspiracy      -587012.893     732.17300    3896.3170   \n",
       "\n",
       "                                                           \n",
       "                                         75%          max  \n",
       "job_name                                                   \n",
       "coral-much-algae                7.612273e+05   761228.932  \n",
       "kelp-urchin-barren-predict      1.061267e+06  1380306.211  \n",
       "coral-fishy-bizz                9.067610e+05  1276038.098  \n",
       "bayou-alt-energy                1.018271e+06  1647239.587  \n",
       "kelp-urchin-barren-viz          4.734598e+05  1718372.790  \n",
       "coral-casting-shade             5.200842e+05  1805816.502  \n",
       "coral-turtle-stability          6.940993e+05  1276031.160  \n",
       "arctic-in-ice                   4.324301e+05   950971.600  \n",
       "bayou-blue-waters               1.985687e+05  2336042.697  \n",
       "displaced-reef                  2.582252e+05  2414899.558  \n",
       "turtle-danger2                  2.587788e+05   543969.239  \n",
       "above-n-below                   4.311363e+05   515775.888  \n",
       "coral-turtle-population         8.627579e+04  1792377.891  \n",
       "arctic-disappearing-act         2.490864e+05   690397.473  \n",
       "bayou-oxygen-tracking           3.319248e+05   606355.454  \n",
       "coral-hunting-lions             2.985780e+05   566124.447  \n",
       "kelp-start-refuge               3.506517e+05   613294.457  \n",
       "bayou-shrimp-yields             2.652579e+05  1046133.963  \n",
       "coral-ocean-plastics            2.574000e+05   603037.641  \n",
       "coral-stressed                  4.263920e+05   451535.752  \n",
       "kelp-energy                     2.447086e+05   892960.286  \n",
       "arctic-endangered-seals         2.622799e+05   691069.791  \n",
       "arctic-cause-of-death           1.983814e+05   773142.447  \n",
       "kelp-musselfest-solution        1.391283e+05  1298142.832  \n",
       "coral-fake-fix                  1.042016e+05  1564667.558  \n",
       "arctic-missing-whale            1.708518e+05  1986599.343  \n",
       "arctic-seal-habitats            1.057459e+05   526102.333  \n",
       "bayou-boom-cause                1.958807e+05   255922.158  \n",
       "turtle-danger                   1.304719e+05   603396.985  \n",
       "arctic-underneath               9.993738e+04   463185.680  \n",
       "arctic-salmon-monitoring        7.398061e+04  1971840.305  \n",
       "kelp-refuge-failure             1.736669e+05   352943.181  \n",
       "kelp-mussel-fest                9.850307e+04   674167.213  \n",
       "kelp-save-urchin-barren         1.566917e+05   294369.769  \n",
       "arctic-salmon-competition       1.064996e+05   258257.509  \n",
       "coral-eat-seaweed               1.325861e+05   176723.875  \n",
       "arctic-isolated-instance        8.208413e+04   343702.328  \n",
       "bayou-shrimp-tastrophe          8.363817e+04   108224.628  \n",
       "arctic-stationary-survival      7.039873e+04    76163.671  \n",
       "arctic-time-of-death            8.746077e+04   598051.348  \n",
       "bayou-hide-n-seek               4.084977e+04    40849.770  \n",
       "kelp-urchin-farm                1.597897e+04    16258.721  \n",
       "kelp-refuge-failure-simulation  1.208525e+03     1208.525  \n",
       "bayou-dirty-detritus            2.289250e+02      228.925  \n",
       "coral-lionfish-conspiracy       7.011757e+04    92483.134  "
      ]
     },
     "execution_count": 227,
     "metadata": {},
     "output_type": "execute_result"
    }
   ],
   "source": [
    "jobs_time.groupby('job_name').describe().sort_values(by=('delta_secs', 'mean'), ascending=False)"
   ]
  },
  {
   "cell_type": "code",
   "execution_count": 228,
   "metadata": {},
   "outputs": [
    {
     "data": {
      "text/plain": [
       "<Axes: >"
      ]
     },
     "execution_count": 228,
     "metadata": {},
     "output_type": "execute_result"
    }
   ],
   "source": [
    "def boxplot_sorted(df, by, column, rot=0, **kwargs):\n",
    "    # source: https://stackoverflow.com/questions/21912634/how-can-i-sort-a-boxplot-in-pandas-by-the-median-values/37871635#37871635\n",
    "    \n",
    "    # use dict comprehension to create new dataframe from the iterable groupby object\n",
    "    # each group name becomes a column in the new dataframe\n",
    "    df2 = pd.DataFrame({col:vals[column] for col, vals in df.groupby(by)})\n",
    "    # find and sort the median values in this new dataframe\n",
    "    meds = df2.median().sort_values()\n",
    "    # use the columns in the dataframe, ordered sorted by median value\n",
    "    # return axes so changes can be made outside the function\n",
    "    return df2[meds.index].boxplot(rot=rot, return_type=\"axes\", **kwargs)\n",
    "\n",
    "boxplot_sorted(jobs_time, column='delta_secs', by='job_name', vert=False, figsize=(10,7))"
   ]
  },
  {
   "cell_type": "code",
   "execution_count": 229,
   "metadata": {},
   "outputs": [
    {
     "data": {
      "text/html": [
       "<div>\n",
       "<style scoped>\n",
       "    .dataframe tbody tr th:only-of-type {\n",
       "        vertical-align: middle;\n",
       "    }\n",
       "\n",
       "    .dataframe tbody tr th {\n",
       "        vertical-align: top;\n",
       "    }\n",
       "\n",
       "    .dataframe thead th {\n",
       "        text-align: right;\n",
       "    }\n",
       "</style>\n",
       "<table border=\"1\" class=\"dataframe\">\n",
       "  <thead>\n",
       "    <tr style=\"text-align: right;\">\n",
       "      <th></th>\n",
       "      <th>timestamp_start</th>\n",
       "      <th>job_name</th>\n",
       "      <th>user_id</th>\n",
       "      <th>event_data_x</th>\n",
       "      <th>timestamp_end</th>\n",
       "      <th>event_data_y</th>\n",
       "      <th>delta_secs</th>\n",
       "    </tr>\n",
       "  </thead>\n",
       "  <tbody>\n",
       "    <tr>\n",
       "      <th>12</th>\n",
       "      <td>2024-05-14T16:54:37.558000+00:00</td>\n",
       "      <td>arctic-time-of-death</td>\n",
       "      <td>ChillyPerch</td>\n",
       "      <td>{\"http_user_agent\": \"Mozilla/5.0 (X11; CrOS x8...</td>\n",
       "      <td>2024-05-08T17:06:45.770000+00:00</td>\n",
       "      <td>{\"http_user_agent\": \"Mozilla/5.0 (X11; CrOS x8...</td>\n",
       "      <td>-517671.788</td>\n",
       "    </tr>\n",
       "    <tr>\n",
       "      <th>123</th>\n",
       "      <td>2024-05-09T17:30:55.454000+00:00</td>\n",
       "      <td>coral-turtle-population</td>\n",
       "      <td>ImmanentInfo</td>\n",
       "      <td>{\"http_user_agent\": \"Mozilla/5.0 (X11; CrOS x8...</td>\n",
       "      <td>2024-05-02T17:46:59.279000+00:00</td>\n",
       "      <td>{\"http_user_agent\": \"Mozilla/5.0 (X11; CrOS x8...</td>\n",
       "      <td>-603836.175</td>\n",
       "    </tr>\n",
       "    <tr>\n",
       "      <th>139</th>\n",
       "      <td>2024-05-09T16:37:56.604000+00:00</td>\n",
       "      <td>kelp-energy</td>\n",
       "      <td>RavingFiesta</td>\n",
       "      <td>{\"http_user_agent\": \"Mozilla/5.0 (X11; CrOS x8...</td>\n",
       "      <td>2024-05-08T16:59:50.597000+00:00</td>\n",
       "      <td>{\"http_user_agent\": \"Mozilla/5.0 (X11; CrOS x8...</td>\n",
       "      <td>-85086.007</td>\n",
       "    </tr>\n",
       "    <tr>\n",
       "      <th>259</th>\n",
       "      <td>2024-05-18T01:44:06.651000+00:00</td>\n",
       "      <td>coral-turtle-stability</td>\n",
       "      <td>KeyRhythm</td>\n",
       "      <td>{\"http_user_agent\": \"Mozilla/5.0 (X11; CrOS x8...</td>\n",
       "      <td>2024-05-17T19:37:18.183000+00:00</td>\n",
       "      <td>{\"http_user_agent\": \"Mozilla/5.0 (X11; CrOS x8...</td>\n",
       "      <td>-22008.468</td>\n",
       "    </tr>\n",
       "    <tr>\n",
       "      <th>481</th>\n",
       "      <td>2024-05-28T14:31:02.278000+00:00</td>\n",
       "      <td>arctic-salmon-monitoring</td>\n",
       "      <td>ExaltedKnee</td>\n",
       "      <td>{\"http_user_agent\": \"Mozilla/5.0 (X11; CrOS x8...</td>\n",
       "      <td>2024-05-23T17:59:04.015000+00:00</td>\n",
       "      <td>{\"http_user_agent\": \"Mozilla/5.0 (X11; CrOS x8...</td>\n",
       "      <td>-419518.263</td>\n",
       "    </tr>\n",
       "    <tr>\n",
       "      <th>489</th>\n",
       "      <td>2024-05-08T14:18:14.003000+00:00</td>\n",
       "      <td>arctic-underneath</td>\n",
       "      <td>SlantingOre</td>\n",
       "      <td>{\"http_user_agent\": \"Mozilla/5.0 (X11; CrOS x8...</td>\n",
       "      <td>2024-05-07T17:06:17.274000+00:00</td>\n",
       "      <td>{\"http_user_agent\": \"Mozilla/5.0 (X11; CrOS x8...</td>\n",
       "      <td>-76316.729</td>\n",
       "    </tr>\n",
       "    <tr>\n",
       "      <th>490</th>\n",
       "      <td>2024-05-08T14:18:14.003000+00:00</td>\n",
       "      <td>arctic-underneath</td>\n",
       "      <td>SlantingOre</td>\n",
       "      <td>{\"http_user_agent\": \"Mozilla/5.0 (X11; CrOS x8...</td>\n",
       "      <td>2024-05-08T14:05:40.923000+00:00</td>\n",
       "      <td>{\"http_user_agent\": \"Mozilla/5.0 (X11; CrOS x8...</td>\n",
       "      <td>-753.080</td>\n",
       "    </tr>\n",
       "    <tr>\n",
       "      <th>491</th>\n",
       "      <td>2024-05-08T16:48:05.502000+00:00</td>\n",
       "      <td>coral-fake-fix</td>\n",
       "      <td>SlantingOre</td>\n",
       "      <td>{\"http_user_agent\": \"Mozilla/5.0 (X11; CrOS x8...</td>\n",
       "      <td>2024-05-08T16:37:58.230000+00:00</td>\n",
       "      <td>{\"http_user_agent\": \"Mozilla/5.0 (X11; CrOS x8...</td>\n",
       "      <td>-607.272</td>\n",
       "    </tr>\n",
       "    <tr>\n",
       "      <th>531</th>\n",
       "      <td>2024-05-16T13:23:26.513000+00:00</td>\n",
       "      <td>coral-lionfish-conspiracy</td>\n",
       "      <td>IntenseBeast</td>\n",
       "      <td>{\"http_user_agent\": \"Mozilla/5.0 (X11; CrOS x8...</td>\n",
       "      <td>2024-05-09T18:19:53.620000+00:00</td>\n",
       "      <td>{\"http_user_agent\": \"Mozilla/5.0 (X11; CrOS x8...</td>\n",
       "      <td>-587012.893</td>\n",
       "    </tr>\n",
       "    <tr>\n",
       "      <th>670</th>\n",
       "      <td>2024-05-29T21:43:59.621000+00:00</td>\n",
       "      <td>coral-fake-fix</td>\n",
       "      <td>ImportedBayou</td>\n",
       "      <td>{\"http_user_agent\": \"Mozilla/5.0 (Macintosh; I...</td>\n",
       "      <td>2024-05-29T21:28:15.795000+00:00</td>\n",
       "      <td>{\"http_user_agent\": \"Mozilla/5.0 (Macintosh; I...</td>\n",
       "      <td>-943.826</td>\n",
       "    </tr>\n",
       "    <tr>\n",
       "      <th>728</th>\n",
       "      <td>2024-05-08T19:48:18.206000+00:00</td>\n",
       "      <td>kelp-energy</td>\n",
       "      <td>InspiredPhone</td>\n",
       "      <td>{\"http_user_agent\": \"Mozilla/5.0 (X11; CrOS x8...</td>\n",
       "      <td>2024-05-07T19:31:13.037000+00:00</td>\n",
       "      <td>{\"http_user_agent\": \"Mozilla/5.0 (X11; CrOS x8...</td>\n",
       "      <td>-87425.169</td>\n",
       "    </tr>\n",
       "    <tr>\n",
       "      <th>746</th>\n",
       "      <td>2024-05-07T15:37:02.544000+00:00</td>\n",
       "      <td>displaced-reef</td>\n",
       "      <td>SlantingOre</td>\n",
       "      <td>{\"http_user_agent\": \"Mozilla/5.0 (X11; CrOS x8...</td>\n",
       "      <td>2024-05-07T15:36:52.960000+00:00</td>\n",
       "      <td>{\"http_user_agent\": \"Mozilla/5.0 (X11; CrOS x8...</td>\n",
       "      <td>-9.584</td>\n",
       "    </tr>\n",
       "    <tr>\n",
       "      <th>836</th>\n",
       "      <td>2024-05-17T16:16:40.829000+00:00</td>\n",
       "      <td>coral-fake-fix</td>\n",
       "      <td>EnormousGolf</td>\n",
       "      <td>{\"http_user_agent\": \"Mozilla/5.0 (X11; CrOS x8...</td>\n",
       "      <td>2024-05-15T20:33:36.781000+00:00</td>\n",
       "      <td>{\"http_user_agent\": \"Mozilla/5.0 (X11; CrOS x8...</td>\n",
       "      <td>-157384.048</td>\n",
       "    </tr>\n",
       "  </tbody>\n",
       "</table>\n",
       "</div>"
      ],
      "text/plain": [
       "                      timestamp_start                   job_name  \\\n",
       "12   2024-05-14T16:54:37.558000+00:00       arctic-time-of-death   \n",
       "123  2024-05-09T17:30:55.454000+00:00    coral-turtle-population   \n",
       "139  2024-05-09T16:37:56.604000+00:00                kelp-energy   \n",
       "259  2024-05-18T01:44:06.651000+00:00     coral-turtle-stability   \n",
       "481  2024-05-28T14:31:02.278000+00:00   arctic-salmon-monitoring   \n",
       "489  2024-05-08T14:18:14.003000+00:00          arctic-underneath   \n",
       "490  2024-05-08T14:18:14.003000+00:00          arctic-underneath   \n",
       "491  2024-05-08T16:48:05.502000+00:00             coral-fake-fix   \n",
       "531  2024-05-16T13:23:26.513000+00:00  coral-lionfish-conspiracy   \n",
       "670  2024-05-29T21:43:59.621000+00:00             coral-fake-fix   \n",
       "728  2024-05-08T19:48:18.206000+00:00                kelp-energy   \n",
       "746  2024-05-07T15:37:02.544000+00:00             displaced-reef   \n",
       "836  2024-05-17T16:16:40.829000+00:00             coral-fake-fix   \n",
       "\n",
       "           user_id                                       event_data_x  \\\n",
       "12     ChillyPerch  {\"http_user_agent\": \"Mozilla/5.0 (X11; CrOS x8...   \n",
       "123   ImmanentInfo  {\"http_user_agent\": \"Mozilla/5.0 (X11; CrOS x8...   \n",
       "139   RavingFiesta  {\"http_user_agent\": \"Mozilla/5.0 (X11; CrOS x8...   \n",
       "259      KeyRhythm  {\"http_user_agent\": \"Mozilla/5.0 (X11; CrOS x8...   \n",
       "481    ExaltedKnee  {\"http_user_agent\": \"Mozilla/5.0 (X11; CrOS x8...   \n",
       "489    SlantingOre  {\"http_user_agent\": \"Mozilla/5.0 (X11; CrOS x8...   \n",
       "490    SlantingOre  {\"http_user_agent\": \"Mozilla/5.0 (X11; CrOS x8...   \n",
       "491    SlantingOre  {\"http_user_agent\": \"Mozilla/5.0 (X11; CrOS x8...   \n",
       "531   IntenseBeast  {\"http_user_agent\": \"Mozilla/5.0 (X11; CrOS x8...   \n",
       "670  ImportedBayou  {\"http_user_agent\": \"Mozilla/5.0 (Macintosh; I...   \n",
       "728  InspiredPhone  {\"http_user_agent\": \"Mozilla/5.0 (X11; CrOS x8...   \n",
       "746    SlantingOre  {\"http_user_agent\": \"Mozilla/5.0 (X11; CrOS x8...   \n",
       "836   EnormousGolf  {\"http_user_agent\": \"Mozilla/5.0 (X11; CrOS x8...   \n",
       "\n",
       "                        timestamp_end  \\\n",
       "12   2024-05-08T17:06:45.770000+00:00   \n",
       "123  2024-05-02T17:46:59.279000+00:00   \n",
       "139  2024-05-08T16:59:50.597000+00:00   \n",
       "259  2024-05-17T19:37:18.183000+00:00   \n",
       "481  2024-05-23T17:59:04.015000+00:00   \n",
       "489  2024-05-07T17:06:17.274000+00:00   \n",
       "490  2024-05-08T14:05:40.923000+00:00   \n",
       "491  2024-05-08T16:37:58.230000+00:00   \n",
       "531  2024-05-09T18:19:53.620000+00:00   \n",
       "670  2024-05-29T21:28:15.795000+00:00   \n",
       "728  2024-05-07T19:31:13.037000+00:00   \n",
       "746  2024-05-07T15:36:52.960000+00:00   \n",
       "836  2024-05-15T20:33:36.781000+00:00   \n",
       "\n",
       "                                          event_data_y  delta_secs  \n",
       "12   {\"http_user_agent\": \"Mozilla/5.0 (X11; CrOS x8... -517671.788  \n",
       "123  {\"http_user_agent\": \"Mozilla/5.0 (X11; CrOS x8... -603836.175  \n",
       "139  {\"http_user_agent\": \"Mozilla/5.0 (X11; CrOS x8...  -85086.007  \n",
       "259  {\"http_user_agent\": \"Mozilla/5.0 (X11; CrOS x8...  -22008.468  \n",
       "481  {\"http_user_agent\": \"Mozilla/5.0 (X11; CrOS x8... -419518.263  \n",
       "489  {\"http_user_agent\": \"Mozilla/5.0 (X11; CrOS x8...  -76316.729  \n",
       "490  {\"http_user_agent\": \"Mozilla/5.0 (X11; CrOS x8...    -753.080  \n",
       "491  {\"http_user_agent\": \"Mozilla/5.0 (X11; CrOS x8...    -607.272  \n",
       "531  {\"http_user_agent\": \"Mozilla/5.0 (X11; CrOS x8... -587012.893  \n",
       "670  {\"http_user_agent\": \"Mozilla/5.0 (Macintosh; I...    -943.826  \n",
       "728  {\"http_user_agent\": \"Mozilla/5.0 (X11; CrOS x8...  -87425.169  \n",
       "746  {\"http_user_agent\": \"Mozilla/5.0 (X11; CrOS x8...      -9.584  \n",
       "836  {\"http_user_agent\": \"Mozilla/5.0 (X11; CrOS x8... -157384.048  "
      ]
     },
     "execution_count": 229,
     "metadata": {},
     "output_type": "execute_result"
    }
   ],
   "source": [
    "jobs_time[jobs_time[\"delta_secs\"] < 0]"
   ]
  },
  {
   "cell_type": "code",
   "execution_count": 230,
   "metadata": {},
   "outputs": [
    {
     "data": {
      "text/html": [
       "<div>\n",
       "<style scoped>\n",
       "    .dataframe tbody tr th:only-of-type {\n",
       "        vertical-align: middle;\n",
       "    }\n",
       "\n",
       "    .dataframe tbody tr th {\n",
       "        vertical-align: top;\n",
       "    }\n",
       "\n",
       "    .dataframe thead th {\n",
       "        text-align: right;\n",
       "    }\n",
       "</style>\n",
       "<table border=\"1\" class=\"dataframe\">\n",
       "  <thead>\n",
       "    <tr style=\"text-align: right;\">\n",
       "      <th></th>\n",
       "      <th>session_id</th>\n",
       "      <th>app_id</th>\n",
       "      <th>timestamp</th>\n",
       "      <th>event_name</th>\n",
       "      <th>event_data</th>\n",
       "      <th>event_source</th>\n",
       "      <th>app_version</th>\n",
       "      <th>app_branch</th>\n",
       "      <th>log_version</th>\n",
       "      <th>offset</th>\n",
       "      <th>user_id</th>\n",
       "      <th>user_data</th>\n",
       "      <th>game_state</th>\n",
       "      <th>index</th>\n",
       "      <th>job_name</th>\n",
       "    </tr>\n",
       "  </thead>\n",
       "  <tbody>\n",
       "    <tr>\n",
       "      <th>1967605</th>\n",
       "      <td>24050710294292433</td>\n",
       "      <td>AQUALAB</td>\n",
       "      <td>2024-05-08T17:00:14.660000+00:00</td>\n",
       "      <td>switch_job</td>\n",
       "      <td>{\"http_user_agent\": \"Mozilla/5.0 (X11; CrOS x8...</td>\n",
       "      <td>GAME</td>\n",
       "      <td>100</td>\n",
       "      <td>production</td>\n",
       "      <td>3</td>\n",
       "      <td>-1 day, 23:59:42</td>\n",
       "      <td>ChillyPerch</td>\n",
       "      <td>{}</td>\n",
       "      <td>{\"current_bestiary\": \"[\\\"WarmKelpForest\\\",\\\"Ur...</td>\n",
       "      <td>1956</td>\n",
       "      <td>arctic-time-of-death</td>\n",
       "    </tr>\n",
       "    <tr>\n",
       "      <th>1967697</th>\n",
       "      <td>24050710294292433</td>\n",
       "      <td>AQUALAB</td>\n",
       "      <td>2024-05-08T17:06:45.770000+00:00</td>\n",
       "      <td>complete_job</td>\n",
       "      <td>{\"http_user_agent\": \"Mozilla/5.0 (X11; CrOS x8...</td>\n",
       "      <td>GAME</td>\n",
       "      <td>100</td>\n",
       "      <td>production</td>\n",
       "      <td>3</td>\n",
       "      <td>-1 day, 23:59:42</td>\n",
       "      <td>ChillyPerch</td>\n",
       "      <td>{}</td>\n",
       "      <td>{\"job_name\": \"arctic-time-of-death\"}</td>\n",
       "      <td>2048</td>\n",
       "      <td>arctic-time-of-death</td>\n",
       "    </tr>\n",
       "    <tr>\n",
       "      <th>70776</th>\n",
       "      <td>24051409140663533</td>\n",
       "      <td>AQUALAB</td>\n",
       "      <td>2024-05-14T16:50:45.170000+00:00</td>\n",
       "      <td>switch_job</td>\n",
       "      <td>{\"http_user_agent\": \"Mozilla/5.0 (X11; CrOS x8...</td>\n",
       "      <td>GAME</td>\n",
       "      <td>100</td>\n",
       "      <td>production</td>\n",
       "      <td>3</td>\n",
       "      <td>-1 day, 23:59:42</td>\n",
       "      <td>ChillyPerch</td>\n",
       "      <td>{}</td>\n",
       "      <td>{\"current_bestiary\": \"[\\\"WarmKelpForest\\\",\\\"Ur...</td>\n",
       "      <td>399</td>\n",
       "      <td>arctic-time-of-death</td>\n",
       "    </tr>\n",
       "    <tr>\n",
       "      <th>3508513</th>\n",
       "      <td>24051411521129739</td>\n",
       "      <td>AQUALAB</td>\n",
       "      <td>2024-05-14T16:52:45.871000+00:00</td>\n",
       "      <td>switch_job</td>\n",
       "      <td>{\"http_user_agent\": \"Mozilla/5.0 (X11; CrOS x8...</td>\n",
       "      <td>GAME</td>\n",
       "      <td>100</td>\n",
       "      <td>production</td>\n",
       "      <td>3</td>\n",
       "      <td>-1 day, 23:59:42</td>\n",
       "      <td>ChillyPerch</td>\n",
       "      <td>{}</td>\n",
       "      <td>{\"current_bestiary\": \"[\\\"WarmKelpForest\\\",\\\"Ur...</td>\n",
       "      <td>1</td>\n",
       "      <td>arctic-time-of-death</td>\n",
       "    </tr>\n",
       "    <tr>\n",
       "      <th>70887</th>\n",
       "      <td>24051409140663533</td>\n",
       "      <td>AQUALAB</td>\n",
       "      <td>2024-05-14T16:54:37.558000+00:00</td>\n",
       "      <td>accept_job</td>\n",
       "      <td>{\"http_user_agent\": \"Mozilla/5.0 (X11; CrOS x8...</td>\n",
       "      <td>GAME</td>\n",
       "      <td>100</td>\n",
       "      <td>production</td>\n",
       "      <td>3</td>\n",
       "      <td>-1 day, 23:59:42</td>\n",
       "      <td>ChillyPerch</td>\n",
       "      <td>{}</td>\n",
       "      <td>{\"job_name\": \"arctic-time-of-death\"}</td>\n",
       "      <td>510</td>\n",
       "      <td>arctic-time-of-death</td>\n",
       "    </tr>\n",
       "    <tr>\n",
       "      <th>3508588</th>\n",
       "      <td>24051411521129739</td>\n",
       "      <td>AQUALAB</td>\n",
       "      <td>2024-05-14T16:58:08.589000+00:00</td>\n",
       "      <td>complete_job</td>\n",
       "      <td>{\"http_user_agent\": \"Mozilla/5.0 (X11; CrOS x8...</td>\n",
       "      <td>GAME</td>\n",
       "      <td>100</td>\n",
       "      <td>production</td>\n",
       "      <td>3</td>\n",
       "      <td>-1 day, 23:59:42</td>\n",
       "      <td>ChillyPerch</td>\n",
       "      <td>{}</td>\n",
       "      <td>{\"job_name\": \"arctic-time-of-death\"}</td>\n",
       "      <td>76</td>\n",
       "      <td>arctic-time-of-death</td>\n",
       "    </tr>\n",
       "  </tbody>\n",
       "</table>\n",
       "</div>"
      ],
      "text/plain": [
       "                session_id   app_id                         timestamp  \\\n",
       "1967605  24050710294292433  AQUALAB  2024-05-08T17:00:14.660000+00:00   \n",
       "1967697  24050710294292433  AQUALAB  2024-05-08T17:06:45.770000+00:00   \n",
       "70776    24051409140663533  AQUALAB  2024-05-14T16:50:45.170000+00:00   \n",
       "3508513  24051411521129739  AQUALAB  2024-05-14T16:52:45.871000+00:00   \n",
       "70887    24051409140663533  AQUALAB  2024-05-14T16:54:37.558000+00:00   \n",
       "3508588  24051411521129739  AQUALAB  2024-05-14T16:58:08.589000+00:00   \n",
       "\n",
       "           event_name                                         event_data  \\\n",
       "1967605    switch_job  {\"http_user_agent\": \"Mozilla/5.0 (X11; CrOS x8...   \n",
       "1967697  complete_job  {\"http_user_agent\": \"Mozilla/5.0 (X11; CrOS x8...   \n",
       "70776      switch_job  {\"http_user_agent\": \"Mozilla/5.0 (X11; CrOS x8...   \n",
       "3508513    switch_job  {\"http_user_agent\": \"Mozilla/5.0 (X11; CrOS x8...   \n",
       "70887      accept_job  {\"http_user_agent\": \"Mozilla/5.0 (X11; CrOS x8...   \n",
       "3508588  complete_job  {\"http_user_agent\": \"Mozilla/5.0 (X11; CrOS x8...   \n",
       "\n",
       "        event_source  app_version  app_branch  log_version            offset  \\\n",
       "1967605         GAME          100  production            3  -1 day, 23:59:42   \n",
       "1967697         GAME          100  production            3  -1 day, 23:59:42   \n",
       "70776           GAME          100  production            3  -1 day, 23:59:42   \n",
       "3508513         GAME          100  production            3  -1 day, 23:59:42   \n",
       "70887           GAME          100  production            3  -1 day, 23:59:42   \n",
       "3508588         GAME          100  production            3  -1 day, 23:59:42   \n",
       "\n",
       "             user_id user_data  \\\n",
       "1967605  ChillyPerch        {}   \n",
       "1967697  ChillyPerch        {}   \n",
       "70776    ChillyPerch        {}   \n",
       "3508513  ChillyPerch        {}   \n",
       "70887    ChillyPerch        {}   \n",
       "3508588  ChillyPerch        {}   \n",
       "\n",
       "                                                game_state  index  \\\n",
       "1967605  {\"current_bestiary\": \"[\\\"WarmKelpForest\\\",\\\"Ur...   1956   \n",
       "1967697               {\"job_name\": \"arctic-time-of-death\"}   2048   \n",
       "70776    {\"current_bestiary\": \"[\\\"WarmKelpForest\\\",\\\"Ur...    399   \n",
       "3508513  {\"current_bestiary\": \"[\\\"WarmKelpForest\\\",\\\"Ur...      1   \n",
       "70887                 {\"job_name\": \"arctic-time-of-death\"}    510   \n",
       "3508588               {\"job_name\": \"arctic-time-of-death\"}     76   \n",
       "\n",
       "                     job_name  \n",
       "1967605  arctic-time-of-death  \n",
       "1967697  arctic-time-of-death  \n",
       "70776    arctic-time-of-death  \n",
       "3508513  arctic-time-of-death  \n",
       "70887    arctic-time-of-death  \n",
       "3508588  arctic-time-of-death  "
      ]
     },
     "execution_count": 230,
     "metadata": {},
     "output_type": "execute_result"
    }
   ],
   "source": [
    "df_temp = player_log_df[(player_log_df.job_name == \"arctic-time-of-death\") & (player_log_df.user_id == \"ChillyPerch\") & (player_log_df[\"event_name\"].isin([\"accept_job\", \"complete_job\", \"switch_job\"]))].sort_values(by=\"timestamp\")\n",
    "df_temp"
   ]
  },
  {
   "cell_type": "code",
   "execution_count": 231,
   "metadata": {},
   "outputs": [
    {
     "name": "stdout",
     "output_type": "stream",
     "text": [
      "{\"http_user_agent\": \"Mozilla/5.0 (X11; CrOS x86_64 14541.0.0) AppleWebKit/537.36 (KHTML, like Gecko) Chrome/123.0.0.0 Safari/537.36\", \"prev_job_name\": \"no-active-job\", \"server_time\": \"2024-05-08T12:00:15+00:00\"}\n",
      "{\"http_user_agent\": \"Mozilla/5.0 (X11; CrOS x86_64 14541.0.0) AppleWebKit/537.36 (KHTML, like Gecko) Chrome/123.0.0.0 Safari/537.36\", \"job_name\": \"arctic-time-of-death\", \"server_time\": \"2024-05-08T12:06:52+00:00\"}\n",
      "{\"http_user_agent\": \"Mozilla/5.0 (X11; CrOS x86_64 14541.0.0) AppleWebKit/537.36 (KHTML, like Gecko) Chrome/123.0.0.0 Safari/537.36\", \"prev_job_name\": \"no-active-job\", \"server_time\": \"2024-05-14T11:50:45+00:00\"}\n",
      "{\"http_user_agent\": \"Mozilla/5.0 (X11; CrOS x86_64 14541.0.0) AppleWebKit/537.36 (KHTML, like Gecko) Chrome/123.0.0.0 Safari/537.36\", \"prev_job_name\": \"no-active-job\", \"server_time\": \"2024-05-14T11:53:02+00:00\"}\n",
      "{\"http_user_agent\": \"Mozilla/5.0 (X11; CrOS x86_64 14541.0.0) AppleWebKit/537.36 (KHTML, like Gecko) Chrome/123.0.0.0 Safari/537.36\", \"server_time\": \"2024-05-14T11:54:39+00:00\"}\n",
      "{\"http_user_agent\": \"Mozilla/5.0 (X11; CrOS x86_64 14541.0.0) AppleWebKit/537.36 (KHTML, like Gecko) Chrome/123.0.0.0 Safari/537.36\", \"job_name\": \"arctic-time-of-death\", \"server_time\": \"2024-05-14T11:58:16+00:00\"}\n"
     ]
    }
   ],
   "source": [
    "for l in df_temp[\"event_data\"].values:\n",
    "    print(l)"
   ]
  },
  {
   "cell_type": "markdown",
   "metadata": {},
   "source": [
    "### loading May 2024 detected event data"
   ]
  },
  {
   "cell_type": "code",
   "execution_count": 232,
   "metadata": {},
   "outputs": [],
   "source": [
    "detected_df = pd.read_csv('data_may_2024/detectors/AQUALAB_20240501_to_20240531_7508479_all-events.tsv', sep='\\t')"
   ]
  },
  {
   "cell_type": "code",
   "execution_count": 233,
   "metadata": {},
   "outputs": [
    {
     "data": {
      "text/plain": [
       "(4336249, 14)"
      ]
     },
     "execution_count": 233,
     "metadata": {},
     "output_type": "execute_result"
    }
   ],
   "source": [
    "detected_df.shape"
   ]
  },
  {
   "cell_type": "markdown",
   "metadata": {},
   "source": [
    "check if detectors added new rows"
   ]
  },
  {
   "cell_type": "code",
   "execution_count": 234,
   "metadata": {},
   "outputs": [
    {
     "data": {
      "text/plain": [
       "False"
      ]
     },
     "execution_count": 234,
     "metadata": {},
     "output_type": "execute_result"
    }
   ],
   "source": [
    "detected_df.equals(player_log_df)"
   ]
  },
  {
   "cell_type": "markdown",
   "metadata": {},
   "source": [
    "nope, detectors don't add new info"
   ]
  },
  {
   "cell_type": "markdown",
   "metadata": {},
   "source": [
    "### loading May 2024 features data"
   ]
  },
  {
   "cell_type": "code",
   "execution_count": 235,
   "metadata": {},
   "outputs": [
    {
     "name": "stdout",
     "output_type": "stream",
     "text": [
      "Shapes:\n",
      "Population (1, 839)\n",
      "Player (6273, 906)\n",
      "Session (14817, 846)\n"
     ]
    }
   ],
   "source": [
    "population_features_df = pd.read_csv('data_may_2024/features/population/AQUALAB_20240501_to_20240531_7508479_population-features.tsv', sep='\\t')\n",
    "player_features_df = pd.read_csv('data_may_2024/features/player/AQUALAB_20240501_to_20240531_7508479_player-features.tsv', sep='\\t')\n",
    "session_features_df = pd.read_csv('data_may_2024/features/session/AQUALAB_20240501_to_20240531_7508479_session-features.tsv', sep='\\t')\n",
    "\n",
    "print(\"Shapes:\")\n",
    "print(\"Population\", population_features_df.shape)\n",
    "print(\"Player\", player_features_df.shape)\n",
    "print(\"Session\", session_features_df.shape)"
   ]
  },
  {
   "cell_type": "code",
   "execution_count": 236,
   "metadata": {},
   "outputs": [
    {
     "data": {
      "text/html": [
       "<div>\n",
       "<style scoped>\n",
       "    .dataframe tbody tr th:only-of-type {\n",
       "        vertical-align: middle;\n",
       "    }\n",
       "\n",
       "    .dataframe tbody tr th {\n",
       "        vertical-align: top;\n",
       "    }\n",
       "\n",
       "    .dataframe thead th {\n",
       "        text-align: right;\n",
       "    }\n",
       "</style>\n",
       "<table border=\"1\" class=\"dataframe\">\n",
       "  <thead>\n",
       "    <tr style=\"text-align: right;\">\n",
       "      <th></th>\n",
       "      <th>PlayerCount</th>\n",
       "      <th>SessionCount</th>\n",
       "      <th>ActiveJobs</th>\n",
       "      <th>AppVersions</th>\n",
       "      <th>JobsCompleted</th>\n",
       "      <th>JobsCompleted-Names</th>\n",
       "      <th>SessionDiveSitesCount</th>\n",
       "      <th>SwitchJobsCount</th>\n",
       "      <th>TotalArgumentationTime</th>\n",
       "      <th>TotalArgumentationTime-Seconds</th>\n",
       "      <th>...</th>\n",
       "      <th>job53_SyncCompletionTime</th>\n",
       "      <th>job54_SyncCompletionTime</th>\n",
       "      <th>job55_SyncCompletionTime</th>\n",
       "      <th>job56_SyncCompletionTime</th>\n",
       "      <th>job57_SyncCompletionTime</th>\n",
       "      <th>job58_SyncCompletionTime</th>\n",
       "      <th>job59_SyncCompletionTime</th>\n",
       "      <th>job60_SyncCompletionTime</th>\n",
       "      <th>UserAvgSessionDuration</th>\n",
       "      <th>UserTotalSessionDuration</th>\n",
       "    </tr>\n",
       "  </thead>\n",
       "  <tbody>\n",
       "    <tr>\n",
       "      <th>0</th>\n",
       "      <td>6272</td>\n",
       "      <td>14095</td>\n",
       "      <td>{\\kelp-welcome\\\": [\\\"AbruptCore\\\", \\\"AcidicWhe...</td>\n",
       "      <td>[\"100\", \"0\", \"101\", \"62\", \"81\"]</td>\n",
       "      <td>0</td>\n",
       "      <td>[]</td>\n",
       "      <td>13</td>\n",
       "      <td>49737</td>\n",
       "      <td>509 days, 23:18:02.215000</td>\n",
       "      <td>4.406148e+07</td>\n",
       "      <td>...</td>\n",
       "      <td>0:00:00</td>\n",
       "      <td>0:00:00</td>\n",
       "      <td>0:00:00</td>\n",
       "      <td>0:00:00</td>\n",
       "      <td>0:00:00</td>\n",
       "      <td>0:00:00</td>\n",
       "      <td>0:00:00</td>\n",
       "      <td>0:00:00</td>\n",
       "      <td>0</td>\n",
       "      <td>0.0</td>\n",
       "    </tr>\n",
       "  </tbody>\n",
       "</table>\n",
       "<p>1 rows × 839 columns</p>\n",
       "</div>"
      ],
      "text/plain": [
       "   PlayerCount  SessionCount  \\\n",
       "0         6272         14095   \n",
       "\n",
       "                                          ActiveJobs  \\\n",
       "0  {\\kelp-welcome\\\": [\\\"AbruptCore\\\", \\\"AcidicWhe...   \n",
       "\n",
       "                       AppVersions  JobsCompleted JobsCompleted-Names  \\\n",
       "0  [\"100\", \"0\", \"101\", \"62\", \"81\"]              0                  []   \n",
       "\n",
       "   SessionDiveSitesCount  SwitchJobsCount     TotalArgumentationTime  \\\n",
       "0                     13            49737  509 days, 23:18:02.215000   \n",
       "\n",
       "   TotalArgumentationTime-Seconds  ... job53_SyncCompletionTime  \\\n",
       "0                    4.406148e+07  ...                  0:00:00   \n",
       "\n",
       "   job54_SyncCompletionTime job55_SyncCompletionTime  \\\n",
       "0                   0:00:00                  0:00:00   \n",
       "\n",
       "   job56_SyncCompletionTime job57_SyncCompletionTime  \\\n",
       "0                   0:00:00                  0:00:00   \n",
       "\n",
       "   job58_SyncCompletionTime job59_SyncCompletionTime  \\\n",
       "0                   0:00:00                  0:00:00   \n",
       "\n",
       "   job60_SyncCompletionTime UserAvgSessionDuration  UserTotalSessionDuration  \n",
       "0                   0:00:00                      0                       0.0  \n",
       "\n",
       "[1 rows x 839 columns]"
      ]
     },
     "execution_count": 236,
     "metadata": {},
     "output_type": "execute_result"
    }
   ],
   "source": [
    "population_features_df.head()"
   ]
  },
  {
   "cell_type": "code",
   "execution_count": 237,
   "metadata": {},
   "outputs": [
    {
     "data": {
      "text/html": [
       "<div>\n",
       "<style scoped>\n",
       "    .dataframe tbody tr th:only-of-type {\n",
       "        vertical-align: middle;\n",
       "    }\n",
       "\n",
       "    .dataframe tbody tr th {\n",
       "        vertical-align: top;\n",
       "    }\n",
       "\n",
       "    .dataframe thead th {\n",
       "        text-align: right;\n",
       "    }\n",
       "</style>\n",
       "<table border=\"1\" class=\"dataframe\">\n",
       "  <thead>\n",
       "    <tr style=\"text-align: right;\">\n",
       "      <th></th>\n",
       "      <th>PlayerID</th>\n",
       "      <th>SessionCount</th>\n",
       "      <th>ActiveJobs</th>\n",
       "      <th>AppVersions</th>\n",
       "      <th>JobsCompleted</th>\n",
       "      <th>JobsCompleted-Names</th>\n",
       "      <th>SessionDiveSitesCount</th>\n",
       "      <th>SwitchJobsCount</th>\n",
       "      <th>TotalArgumentationTime</th>\n",
       "      <th>TotalArgumentationTime-Seconds</th>\n",
       "      <th>...</th>\n",
       "      <th>job59_SyncCompletionTime</th>\n",
       "      <th>job60_SyncCompletionTime</th>\n",
       "      <th>TotalPlayTime</th>\n",
       "      <th>TotalPlayTime-Seconds</th>\n",
       "      <th>TotalPlayTime-Active</th>\n",
       "      <th>TotalPlayTime-Active - Seconds</th>\n",
       "      <th>TotalPlayTime-Idle</th>\n",
       "      <th>TotalPlayTime-Idle - Seconds</th>\n",
       "      <th>UserAvgSessionDuration</th>\n",
       "      <th>UserTotalSessionDuration</th>\n",
       "    </tr>\n",
       "  </thead>\n",
       "  <tbody>\n",
       "    <tr>\n",
       "      <th>0</th>\n",
       "      <td>NaN</td>\n",
       "      <td>950</td>\n",
       "      <td>{}</td>\n",
       "      <td>[\"100\", \"101\", \"62\"]</td>\n",
       "      <td>0</td>\n",
       "      <td>[]</td>\n",
       "      <td>0</td>\n",
       "      <td>0</td>\n",
       "      <td>0:00:00</td>\n",
       "      <td>0.000</td>\n",
       "      <td>...</td>\n",
       "      <td>0:00:00</td>\n",
       "      <td>0:00:00</td>\n",
       "      <td>1 day, 9:05:28.402000</td>\n",
       "      <td>0:00:00</td>\n",
       "      <td>0:00:00</td>\n",
       "      <td>0:00:00</td>\n",
       "      <td>0:00:00</td>\n",
       "      <td>0:00:00</td>\n",
       "      <td>123.449121</td>\n",
       "      <td>119128.402</td>\n",
       "    </tr>\n",
       "    <tr>\n",
       "      <th>1</th>\n",
       "      <td>AbruptCore</td>\n",
       "      <td>1</td>\n",
       "      <td>{\\kelp-welcome\\\": [\\\"AbruptCore\\\"]}\"</td>\n",
       "      <td>[\"100\"]</td>\n",
       "      <td>0</td>\n",
       "      <td>[]</td>\n",
       "      <td>0</td>\n",
       "      <td>1</td>\n",
       "      <td>0:00:00</td>\n",
       "      <td>0.000</td>\n",
       "      <td>...</td>\n",
       "      <td>0:00:00</td>\n",
       "      <td>0:00:00</td>\n",
       "      <td>0:02:21.044000</td>\n",
       "      <td>0:00:00</td>\n",
       "      <td>0:00:00</td>\n",
       "      <td>0:00:00</td>\n",
       "      <td>0:00:00</td>\n",
       "      <td>0:00:00</td>\n",
       "      <td>141.044000</td>\n",
       "      <td>141.044</td>\n",
       "    </tr>\n",
       "    <tr>\n",
       "      <th>2</th>\n",
       "      <td>AbsentHair</td>\n",
       "      <td>11</td>\n",
       "      <td>{\\arctic-seal-habitats\\\": [\\\"AbsentHair\\\"], \\\"...</td>\n",
       "      <td>[\"100\"]</td>\n",
       "      <td>32</td>\n",
       "      <td>[\"coral-casting-shade\", \"coral-much-algae\", \"c...</td>\n",
       "      <td>8</td>\n",
       "      <td>71</td>\n",
       "      <td>2:24:58.004000</td>\n",
       "      <td>8698.004</td>\n",
       "      <td>...</td>\n",
       "      <td>0:00:00</td>\n",
       "      <td>0:00:00</td>\n",
       "      <td>1 day, 0:11:49.386000</td>\n",
       "      <td>0:00:00</td>\n",
       "      <td>0:00:00</td>\n",
       "      <td>0:00:00</td>\n",
       "      <td>0:00:00</td>\n",
       "      <td>0:00:00</td>\n",
       "      <td>7919.035091</td>\n",
       "      <td>87109.386</td>\n",
       "    </tr>\n",
       "    <tr>\n",
       "      <th>3</th>\n",
       "      <td>AbsentSled</td>\n",
       "      <td>1</td>\n",
       "      <td>{\\no-active-job\\\": [\\\"AbsentSled\\\"]}\"</td>\n",
       "      <td>[\"100\"]</td>\n",
       "      <td>4</td>\n",
       "      <td>[\"kelp-welcome\", \"kelp-bull-kelp-forest\", \"kel...</td>\n",
       "      <td>2</td>\n",
       "      <td>8</td>\n",
       "      <td>0:01:31.283000</td>\n",
       "      <td>91.283</td>\n",
       "      <td>...</td>\n",
       "      <td>0:00:00</td>\n",
       "      <td>0:00:00</td>\n",
       "      <td>0:26:57.005000</td>\n",
       "      <td>0:00:00</td>\n",
       "      <td>0:00:00</td>\n",
       "      <td>0:00:00</td>\n",
       "      <td>0:00:00</td>\n",
       "      <td>0:00:00</td>\n",
       "      <td>1617.005000</td>\n",
       "      <td>1617.005</td>\n",
       "    </tr>\n",
       "    <tr>\n",
       "      <th>4</th>\n",
       "      <td>AbsoluteLeaf</td>\n",
       "      <td>6</td>\n",
       "      <td>{\\arctic-endangered-seals\\\": [\\\"AbsoluteLeaf\\\"...</td>\n",
       "      <td>[\"101\"]</td>\n",
       "      <td>25</td>\n",
       "      <td>[\"kelp-urchin-barren-predict\", \"coral-stressed...</td>\n",
       "      <td>12</td>\n",
       "      <td>56</td>\n",
       "      <td>-1 day, 22:54:51.741000</td>\n",
       "      <td>-3908.259</td>\n",
       "      <td>...</td>\n",
       "      <td>0:00:00</td>\n",
       "      <td>0:00:00</td>\n",
       "      <td>7:21:37.554000</td>\n",
       "      <td>0:00:00</td>\n",
       "      <td>0:00:00</td>\n",
       "      <td>0:00:00</td>\n",
       "      <td>0:00:00</td>\n",
       "      <td>0:00:00</td>\n",
       "      <td>4416.259000</td>\n",
       "      <td>26497.554</td>\n",
       "    </tr>\n",
       "  </tbody>\n",
       "</table>\n",
       "<p>5 rows × 906 columns</p>\n",
       "</div>"
      ],
      "text/plain": [
       "       PlayerID  SessionCount  \\\n",
       "0           NaN           950   \n",
       "1    AbruptCore             1   \n",
       "2    AbsentHair            11   \n",
       "3    AbsentSled             1   \n",
       "4  AbsoluteLeaf             6   \n",
       "\n",
       "                                          ActiveJobs           AppVersions  \\\n",
       "0                                                 {}  [\"100\", \"101\", \"62\"]   \n",
       "1               {\\kelp-welcome\\\": [\\\"AbruptCore\\\"]}\"               [\"100\"]   \n",
       "2  {\\arctic-seal-habitats\\\": [\\\"AbsentHair\\\"], \\\"...               [\"100\"]   \n",
       "3              {\\no-active-job\\\": [\\\"AbsentSled\\\"]}\"               [\"100\"]   \n",
       "4  {\\arctic-endangered-seals\\\": [\\\"AbsoluteLeaf\\\"...               [\"101\"]   \n",
       "\n",
       "   JobsCompleted                                JobsCompleted-Names  \\\n",
       "0              0                                                 []   \n",
       "1              0                                                 []   \n",
       "2             32  [\"coral-casting-shade\", \"coral-much-algae\", \"c...   \n",
       "3              4  [\"kelp-welcome\", \"kelp-bull-kelp-forest\", \"kel...   \n",
       "4             25  [\"kelp-urchin-barren-predict\", \"coral-stressed...   \n",
       "\n",
       "   SessionDiveSitesCount  SwitchJobsCount   TotalArgumentationTime  \\\n",
       "0                      0                0                  0:00:00   \n",
       "1                      0                1                  0:00:00   \n",
       "2                      8               71           2:24:58.004000   \n",
       "3                      2                8           0:01:31.283000   \n",
       "4                     12               56  -1 day, 22:54:51.741000   \n",
       "\n",
       "   TotalArgumentationTime-Seconds  ... job59_SyncCompletionTime  \\\n",
       "0                           0.000  ...                  0:00:00   \n",
       "1                           0.000  ...                  0:00:00   \n",
       "2                        8698.004  ...                  0:00:00   \n",
       "3                          91.283  ...                  0:00:00   \n",
       "4                       -3908.259  ...                  0:00:00   \n",
       "\n",
       "   job60_SyncCompletionTime          TotalPlayTime  TotalPlayTime-Seconds  \\\n",
       "0                   0:00:00  1 day, 9:05:28.402000                0:00:00   \n",
       "1                   0:00:00         0:02:21.044000                0:00:00   \n",
       "2                   0:00:00  1 day, 0:11:49.386000                0:00:00   \n",
       "3                   0:00:00         0:26:57.005000                0:00:00   \n",
       "4                   0:00:00         7:21:37.554000                0:00:00   \n",
       "\n",
       "  TotalPlayTime-Active  TotalPlayTime-Active - Seconds TotalPlayTime-Idle  \\\n",
       "0              0:00:00                         0:00:00            0:00:00   \n",
       "1              0:00:00                         0:00:00            0:00:00   \n",
       "2              0:00:00                         0:00:00            0:00:00   \n",
       "3              0:00:00                         0:00:00            0:00:00   \n",
       "4              0:00:00                         0:00:00            0:00:00   \n",
       "\n",
       "   TotalPlayTime-Idle - Seconds UserAvgSessionDuration  \\\n",
       "0                       0:00:00             123.449121   \n",
       "1                       0:00:00             141.044000   \n",
       "2                       0:00:00            7919.035091   \n",
       "3                       0:00:00            1617.005000   \n",
       "4                       0:00:00            4416.259000   \n",
       "\n",
       "   UserTotalSessionDuration  \n",
       "0                119128.402  \n",
       "1                   141.044  \n",
       "2                 87109.386  \n",
       "3                  1617.005  \n",
       "4                 26497.554  \n",
       "\n",
       "[5 rows x 906 columns]"
      ]
     },
     "execution_count": 237,
     "metadata": {},
     "output_type": "execute_result"
    }
   ],
   "source": [
    "player_features_df.head()"
   ]
  },
  {
   "cell_type": "code",
   "execution_count": 238,
   "metadata": {},
   "outputs": [],
   "source": [
    "player_features_df.SwitchJobsCount.hist(bins=30)\n",
    "plt.title(\"SwitchJobsCount\");"
   ]
  },
  {
   "cell_type": "code",
   "execution_count": 239,
   "metadata": {},
   "outputs": [
    {
     "data": {
      "text/html": [
       "<div>\n",
       "<style scoped>\n",
       "    .dataframe tbody tr th:only-of-type {\n",
       "        vertical-align: middle;\n",
       "    }\n",
       "\n",
       "    .dataframe tbody tr th {\n",
       "        vertical-align: top;\n",
       "    }\n",
       "\n",
       "    .dataframe thead th {\n",
       "        text-align: right;\n",
       "    }\n",
       "</style>\n",
       "<table border=\"1\" class=\"dataframe\">\n",
       "  <thead>\n",
       "    <tr style=\"text-align: right;\">\n",
       "      <th></th>\n",
       "      <th>PlayerID</th>\n",
       "      <th>SessionID</th>\n",
       "      <th>ActiveJobs</th>\n",
       "      <th>AppVersions</th>\n",
       "      <th>JobsCompleted</th>\n",
       "      <th>JobsCompleted-Names</th>\n",
       "      <th>SessionDiveSitesCount</th>\n",
       "      <th>SessionDuration</th>\n",
       "      <th>SessionDuration-Total</th>\n",
       "      <th>SessionDuration-Seconds</th>\n",
       "      <th>...</th>\n",
       "      <th>job53_SyncCompletionTime</th>\n",
       "      <th>job54_SyncCompletionTime</th>\n",
       "      <th>job55_SyncCompletionTime</th>\n",
       "      <th>job56_SyncCompletionTime</th>\n",
       "      <th>job57_SyncCompletionTime</th>\n",
       "      <th>job58_SyncCompletionTime</th>\n",
       "      <th>job59_SyncCompletionTime</th>\n",
       "      <th>job60_SyncCompletionTime</th>\n",
       "      <th>UserAvgSessionDuration</th>\n",
       "      <th>UserTotalSessionDuration</th>\n",
       "    </tr>\n",
       "  </thead>\n",
       "  <tbody>\n",
       "    <tr>\n",
       "      <th>0</th>\n",
       "      <td>NaN</td>\n",
       "      <td>24050322155401459</td>\n",
       "      <td>{}</td>\n",
       "      <td>[\"100\"]</td>\n",
       "      <td>0</td>\n",
       "      <td>[]</td>\n",
       "      <td>0</td>\n",
       "      <td>0:00:09.080000</td>\n",
       "      <td>9.080</td>\n",
       "      <td>0:00:09.080000</td>\n",
       "      <td>...</td>\n",
       "      <td>0:00:00</td>\n",
       "      <td>0:00:00</td>\n",
       "      <td>0:00:00</td>\n",
       "      <td>0:00:00</td>\n",
       "      <td>0:00:00</td>\n",
       "      <td>0:00:00</td>\n",
       "      <td>0:00:00</td>\n",
       "      <td>0:00:00</td>\n",
       "      <td>9.080</td>\n",
       "      <td>9.080</td>\n",
       "    </tr>\n",
       "    <tr>\n",
       "      <th>1</th>\n",
       "      <td>NaN</td>\n",
       "      <td>24050408403943819</td>\n",
       "      <td>{}</td>\n",
       "      <td>[\"100\"]</td>\n",
       "      <td>0</td>\n",
       "      <td>[]</td>\n",
       "      <td>0</td>\n",
       "      <td>0:00:00</td>\n",
       "      <td>0.000</td>\n",
       "      <td>0:00:00</td>\n",
       "      <td>...</td>\n",
       "      <td>0:00:00</td>\n",
       "      <td>0:00:00</td>\n",
       "      <td>0:00:00</td>\n",
       "      <td>0:00:00</td>\n",
       "      <td>0:00:00</td>\n",
       "      <td>0:00:00</td>\n",
       "      <td>0:00:00</td>\n",
       "      <td>0:00:00</td>\n",
       "      <td>0.000</td>\n",
       "      <td>0.000</td>\n",
       "    </tr>\n",
       "    <tr>\n",
       "      <th>2</th>\n",
       "      <td>NaN</td>\n",
       "      <td>24050411333095285</td>\n",
       "      <td>{}</td>\n",
       "      <td>[\"100\"]</td>\n",
       "      <td>0</td>\n",
       "      <td>[]</td>\n",
       "      <td>0</td>\n",
       "      <td>0:00:00</td>\n",
       "      <td>0.000</td>\n",
       "      <td>0:00:00</td>\n",
       "      <td>...</td>\n",
       "      <td>0:00:00</td>\n",
       "      <td>0:00:00</td>\n",
       "      <td>0:00:00</td>\n",
       "      <td>0:00:00</td>\n",
       "      <td>0:00:00</td>\n",
       "      <td>0:00:00</td>\n",
       "      <td>0:00:00</td>\n",
       "      <td>0:00:00</td>\n",
       "      <td>0.000</td>\n",
       "      <td>0.000</td>\n",
       "    </tr>\n",
       "    <tr>\n",
       "      <th>3</th>\n",
       "      <td>NaN</td>\n",
       "      <td>24050608472711739</td>\n",
       "      <td>{}</td>\n",
       "      <td>[\"100\"]</td>\n",
       "      <td>0</td>\n",
       "      <td>[]</td>\n",
       "      <td>0</td>\n",
       "      <td>0:00:00.003000</td>\n",
       "      <td>0.003</td>\n",
       "      <td>0:00:00.003000</td>\n",
       "      <td>...</td>\n",
       "      <td>0:00:00</td>\n",
       "      <td>0:00:00</td>\n",
       "      <td>0:00:00</td>\n",
       "      <td>0:00:00</td>\n",
       "      <td>0:00:00</td>\n",
       "      <td>0:00:00</td>\n",
       "      <td>0:00:00</td>\n",
       "      <td>0:00:00</td>\n",
       "      <td>0.003</td>\n",
       "      <td>0.003</td>\n",
       "    </tr>\n",
       "    <tr>\n",
       "      <th>4</th>\n",
       "      <td>NaN</td>\n",
       "      <td>24050609020367835</td>\n",
       "      <td>{}</td>\n",
       "      <td>[\"100\"]</td>\n",
       "      <td>0</td>\n",
       "      <td>[]</td>\n",
       "      <td>0</td>\n",
       "      <td>0:00:54.291000</td>\n",
       "      <td>54.291</td>\n",
       "      <td>0:00:54.291000</td>\n",
       "      <td>...</td>\n",
       "      <td>0:00:00</td>\n",
       "      <td>0:00:00</td>\n",
       "      <td>0:00:00</td>\n",
       "      <td>0:00:00</td>\n",
       "      <td>0:00:00</td>\n",
       "      <td>0:00:00</td>\n",
       "      <td>0:00:00</td>\n",
       "      <td>0:00:00</td>\n",
       "      <td>54.291</td>\n",
       "      <td>54.291</td>\n",
       "    </tr>\n",
       "  </tbody>\n",
       "</table>\n",
       "<p>5 rows × 846 columns</p>\n",
       "</div>"
      ],
      "text/plain": [
       "  PlayerID          SessionID ActiveJobs AppVersions  JobsCompleted  \\\n",
       "0      NaN  24050322155401459         {}     [\"100\"]              0   \n",
       "1      NaN  24050408403943819         {}     [\"100\"]              0   \n",
       "2      NaN  24050411333095285         {}     [\"100\"]              0   \n",
       "3      NaN  24050608472711739         {}     [\"100\"]              0   \n",
       "4      NaN  24050609020367835         {}     [\"100\"]              0   \n",
       "\n",
       "  JobsCompleted-Names  SessionDiveSitesCount SessionDuration  \\\n",
       "0                  []                      0  0:00:09.080000   \n",
       "1                  []                      0         0:00:00   \n",
       "2                  []                      0         0:00:00   \n",
       "3                  []                      0  0:00:00.003000   \n",
       "4                  []                      0  0:00:54.291000   \n",
       "\n",
       "   SessionDuration-Total SessionDuration-Seconds  ...  \\\n",
       "0                  9.080          0:00:09.080000  ...   \n",
       "1                  0.000                 0:00:00  ...   \n",
       "2                  0.000                 0:00:00  ...   \n",
       "3                  0.003          0:00:00.003000  ...   \n",
       "4                 54.291          0:00:54.291000  ...   \n",
       "\n",
       "   job53_SyncCompletionTime job54_SyncCompletionTime  \\\n",
       "0                   0:00:00                  0:00:00   \n",
       "1                   0:00:00                  0:00:00   \n",
       "2                   0:00:00                  0:00:00   \n",
       "3                   0:00:00                  0:00:00   \n",
       "4                   0:00:00                  0:00:00   \n",
       "\n",
       "   job55_SyncCompletionTime job56_SyncCompletionTime  \\\n",
       "0                   0:00:00                  0:00:00   \n",
       "1                   0:00:00                  0:00:00   \n",
       "2                   0:00:00                  0:00:00   \n",
       "3                   0:00:00                  0:00:00   \n",
       "4                   0:00:00                  0:00:00   \n",
       "\n",
       "   job57_SyncCompletionTime job58_SyncCompletionTime  \\\n",
       "0                   0:00:00                  0:00:00   \n",
       "1                   0:00:00                  0:00:00   \n",
       "2                   0:00:00                  0:00:00   \n",
       "3                   0:00:00                  0:00:00   \n",
       "4                   0:00:00                  0:00:00   \n",
       "\n",
       "   job59_SyncCompletionTime job60_SyncCompletionTime  UserAvgSessionDuration  \\\n",
       "0                   0:00:00                  0:00:00                   9.080   \n",
       "1                   0:00:00                  0:00:00                   0.000   \n",
       "2                   0:00:00                  0:00:00                   0.000   \n",
       "3                   0:00:00                  0:00:00                   0.003   \n",
       "4                   0:00:00                  0:00:00                  54.291   \n",
       "\n",
       "  UserTotalSessionDuration  \n",
       "0                    9.080  \n",
       "1                    0.000  \n",
       "2                    0.000  \n",
       "3                    0.003  \n",
       "4                   54.291  \n",
       "\n",
       "[5 rows x 846 columns]"
      ]
     },
     "execution_count": 239,
     "metadata": {},
     "output_type": "execute_result"
    }
   ],
   "source": [
    "session_features_df.head()"
   ]
  },
  {
   "cell_type": "code",
   "execution_count": 240,
   "metadata": {},
   "outputs": [
    {
     "data": {
      "text/plain": [
       "array(['PlayerID', 'SessionID', 'ActiveJobs', 'AppVersions',\n",
       "       'JobsCompleted', 'JobsCompleted-Names', 'SessionDiveSitesCount',\n",
       "       'SessionDuration', 'SessionDuration-Total',\n",
       "       'SessionDuration-Seconds', 'SessionDuration-Active',\n",
       "       'SessionDuration-ActiveSeconds', 'SessionDuration-IdleIdleSeconds',\n",
       "       'SessionDuration-MaxIdle', 'SwitchJobsCount',\n",
       "       'TotalArgumentationTime', 'TotalArgumentationTime-Seconds',\n",
       "       'TotalArgumentationTime-Active',\n",
       "       'TotalArgumentationTime-Active-Seconds',\n",
       "       'TotalArgumentationTime-Idle',\n",
       "       'TotalArgumentationTime-Idle-Seconds', 'TotalDiveTime',\n",
       "       'TotalDiveTime-Seconds', 'TotalDiveTime-Active',\n",
       "       'TotalDiveTime-Active-Seconds', 'TotalDiveTime-Idle',\n",
       "       'TotalDiveTime-Idle-Seconds', 'TotalExperimentationTime',\n",
       "       'TotalExperimentationTime-Seconds',\n",
       "       'TotalExperimentationTime-Active',\n",
       "       'TotalExperimentationTime-Active-Seconds',\n",
       "       'TotalExperimentationTime-Idle',\n",
       "       'TotalExperimentationTime-Idle-Seconds', 'TotalGuideCount',\n",
       "       'TotalHelpCount', 'TotalModelingTime', 'TotalModelingTime-Seconds',\n",
       "       'TotalModelingTime-Active', 'TotalModelingTime-Active-Seconds',\n",
       "       'TotalModelingTime-Idle', 'TotalModelingTime-Idle-Seconds',\n",
       "       'job0_JobArgumentation', 'job0_JobArgumentation-Time',\n",
       "       'job1_JobArgumentation', 'job1_JobArgumentation-Time',\n",
       "       'job2_JobArgumentation', 'job2_JobArgumentation-Time',\n",
       "       'job3_JobArgumentation', 'job3_JobArgumentation-Time',\n",
       "       'job4_JobArgumentation', 'job4_JobArgumentation-Time',\n",
       "       'job5_JobArgumentation', 'job5_JobArgumentation-Time',\n",
       "       'job6_JobArgumentation', 'job6_JobArgumentation-Time',\n",
       "       'job7_JobArgumentation', 'job7_JobArgumentation-Time',\n",
       "       'job8_JobArgumentation', 'job8_JobArgumentation-Time',\n",
       "       'job9_JobArgumentation', 'job9_JobArgumentation-Time',\n",
       "       'job10_JobArgumentation', 'job10_JobArgumentation-Time',\n",
       "       'job11_JobArgumentation', 'job11_JobArgumentation-Time',\n",
       "       'job12_JobArgumentation', 'job12_JobArgumentation-Time',\n",
       "       'job13_JobArgumentation', 'job13_JobArgumentation-Time',\n",
       "       'job14_JobArgumentation', 'job14_JobArgumentation-Time',\n",
       "       'job15_JobArgumentation', 'job15_JobArgumentation-Time',\n",
       "       'job16_JobArgumentation', 'job16_JobArgumentation-Time',\n",
       "       'job17_JobArgumentation', 'job17_JobArgumentation-Time',\n",
       "       'job18_JobArgumentation', 'job18_JobArgumentation-Time',\n",
       "       'job19_JobArgumentation', 'job19_JobArgumentation-Time',\n",
       "       'job20_JobArgumentation', 'job20_JobArgumentation-Time',\n",
       "       'job21_JobArgumentation', 'job21_JobArgumentation-Time',\n",
       "       'job22_JobArgumentation', 'job22_JobArgumentation-Time',\n",
       "       'job23_JobArgumentation', 'job23_JobArgumentation-Time',\n",
       "       'job24_JobArgumentation', 'job24_JobArgumentation-Time',\n",
       "       'job25_JobArgumentation', 'job25_JobArgumentation-Time',\n",
       "       'job26_JobArgumentation', 'job26_JobArgumentation-Time',\n",
       "       'job27_JobArgumentation', 'job27_JobArgumentation-Time',\n",
       "       'job28_JobArgumentation', 'job28_JobArgumentation-Time',\n",
       "       'job29_JobArgumentation', 'job29_JobArgumentation-Time',\n",
       "       'job30_JobArgumentation', 'job30_JobArgumentation-Time',\n",
       "       'job31_JobArgumentation', 'job31_JobArgumentation-Time',\n",
       "       'job32_JobArgumentation', 'job32_JobArgumentation-Time',\n",
       "       'job33_JobArgumentation', 'job33_JobArgumentation-Time',\n",
       "       'job34_JobArgumentation', 'job34_JobArgumentation-Time',\n",
       "       'job35_JobArgumentation', 'job35_JobArgumentation-Time',\n",
       "       'job36_JobArgumentation', 'job36_JobArgumentation-Time',\n",
       "       'job37_JobArgumentation', 'job37_JobArgumentation-Time',\n",
       "       'job38_JobArgumentation', 'job38_JobArgumentation-Time',\n",
       "       'job39_JobArgumentation', 'job39_JobArgumentation-Time',\n",
       "       'job40_JobArgumentation', 'job40_JobArgumentation-Time',\n",
       "       'job41_JobArgumentation', 'job41_JobArgumentation-Time',\n",
       "       'job42_JobArgumentation', 'job42_JobArgumentation-Time',\n",
       "       'job43_JobArgumentation', 'job43_JobArgumentation-Time',\n",
       "       'job44_JobArgumentation', 'job44_JobArgumentation-Time',\n",
       "       'job45_JobArgumentation', 'job45_JobArgumentation-Time',\n",
       "       'job46_JobArgumentation', 'job46_JobArgumentation-Time',\n",
       "       'job47_JobArgumentation', 'job47_JobArgumentation-Time',\n",
       "       'job48_JobArgumentation', 'job48_JobArgumentation-Time',\n",
       "       'job49_JobArgumentation', 'job49_JobArgumentation-Time',\n",
       "       'job50_JobArgumentation', 'job50_JobArgumentation-Time',\n",
       "       'job51_JobArgumentation', 'job51_JobArgumentation-Time',\n",
       "       'job52_JobArgumentation', 'job52_JobArgumentation-Time',\n",
       "       'job53_JobArgumentation', 'job53_JobArgumentation-Time',\n",
       "       'job54_JobArgumentation', 'job54_JobArgumentation-Time',\n",
       "       'job55_JobArgumentation', 'job55_JobArgumentation-Time',\n",
       "       'job56_JobArgumentation', 'job56_JobArgumentation-Time',\n",
       "       'job57_JobArgumentation', 'job57_JobArgumentation-Time',\n",
       "       'job58_JobArgumentation', 'job58_JobArgumentation-Time',\n",
       "       'job59_JobArgumentation', 'job59_JobArgumentation-Time',\n",
       "       'job60_JobArgumentation', 'job60_JobArgumentation-Time',\n",
       "       'job0_JobCompletionTime', 'job1_JobCompletionTime',\n",
       "       'job2_JobCompletionTime', 'job3_JobCompletionTime',\n",
       "       'job4_JobCompletionTime', 'job5_JobCompletionTime',\n",
       "       'job6_JobCompletionTime', 'job7_JobCompletionTime',\n",
       "       'job8_JobCompletionTime', 'job9_JobCompletionTime',\n",
       "       'job10_JobCompletionTime', 'job11_JobCompletionTime',\n",
       "       'job12_JobCompletionTime', 'job13_JobCompletionTime',\n",
       "       'job14_JobCompletionTime', 'job15_JobCompletionTime',\n",
       "       'job16_JobCompletionTime', 'job17_JobCompletionTime',\n",
       "       'job18_JobCompletionTime', 'job19_JobCompletionTime',\n",
       "       'job20_JobCompletionTime', 'job21_JobCompletionTime',\n",
       "       'job22_JobCompletionTime', 'job23_JobCompletionTime',\n",
       "       'job24_JobCompletionTime', 'job25_JobCompletionTime',\n",
       "       'job26_JobCompletionTime', 'job27_JobCompletionTime',\n",
       "       'job28_JobCompletionTime', 'job29_JobCompletionTime',\n",
       "       'job30_JobCompletionTime', 'job31_JobCompletionTime',\n",
       "       'job32_JobCompletionTime', 'job33_JobCompletionTime',\n",
       "       'job34_JobCompletionTime', 'job35_JobCompletionTime',\n",
       "       'job36_JobCompletionTime', 'job37_JobCompletionTime',\n",
       "       'job38_JobCompletionTime', 'job39_JobCompletionTime',\n",
       "       'job40_JobCompletionTime', 'job41_JobCompletionTime',\n",
       "       'job42_JobCompletionTime', 'job43_JobCompletionTime',\n",
       "       'job44_JobCompletionTime', 'job45_JobCompletionTime',\n",
       "       'job46_JobCompletionTime', 'job47_JobCompletionTime',\n",
       "       'job48_JobCompletionTime', 'job49_JobCompletionTime',\n",
       "       'job50_JobCompletionTime', 'job51_JobCompletionTime',\n",
       "       'job52_JobCompletionTime', 'job53_JobCompletionTime',\n",
       "       'job54_JobCompletionTime', 'job55_JobCompletionTime',\n",
       "       'job56_JobCompletionTime', 'job57_JobCompletionTime',\n",
       "       'job58_JobCompletionTime', 'job59_JobCompletionTime',\n",
       "       'job60_JobCompletionTime', 'job0_JobDiveSitesCount',\n",
       "       'job1_JobDiveSitesCount', 'job2_JobDiveSitesCount',\n",
       "       'job3_JobDiveSitesCount', 'job4_JobDiveSitesCount',\n",
       "       'job5_JobDiveSitesCount', 'job6_JobDiveSitesCount',\n",
       "       'job7_JobDiveSitesCount', 'job8_JobDiveSitesCount',\n",
       "       'job9_JobDiveSitesCount', 'job10_JobDiveSitesCount',\n",
       "       'job11_JobDiveSitesCount', 'job12_JobDiveSitesCount',\n",
       "       'job13_JobDiveSitesCount', 'job14_JobDiveSitesCount',\n",
       "       'job15_JobDiveSitesCount', 'job16_JobDiveSitesCount',\n",
       "       'job17_JobDiveSitesCount', 'job18_JobDiveSitesCount',\n",
       "       'job19_JobDiveSitesCount', 'job20_JobDiveSitesCount',\n",
       "       'job21_JobDiveSitesCount', 'job22_JobDiveSitesCount',\n",
       "       'job23_JobDiveSitesCount', 'job24_JobDiveSitesCount',\n",
       "       'job25_JobDiveSitesCount', 'job26_JobDiveSitesCount',\n",
       "       'job27_JobDiveSitesCount', 'job28_JobDiveSitesCount',\n",
       "       'job29_JobDiveSitesCount', 'job30_JobDiveSitesCount',\n",
       "       'job31_JobDiveSitesCount', 'job32_JobDiveSitesCount',\n",
       "       'job33_JobDiveSitesCount', 'job34_JobDiveSitesCount',\n",
       "       'job35_JobDiveSitesCount', 'job36_JobDiveSitesCount',\n",
       "       'job37_JobDiveSitesCount', 'job38_JobDiveSitesCount',\n",
       "       'job39_JobDiveSitesCount', 'job40_JobDiveSitesCount',\n",
       "       'job41_JobDiveSitesCount', 'job42_JobDiveSitesCount',\n",
       "       'job43_JobDiveSitesCount', 'job44_JobDiveSitesCount',\n",
       "       'job45_JobDiveSitesCount', 'job46_JobDiveSitesCount',\n",
       "       'job47_JobDiveSitesCount', 'job48_JobDiveSitesCount',\n",
       "       'job49_JobDiveSitesCount', 'job50_JobDiveSitesCount',\n",
       "       'job51_JobDiveSitesCount', 'job52_JobDiveSitesCount',\n",
       "       'job53_JobDiveSitesCount', 'job54_JobDiveSitesCount',\n",
       "       'job55_JobDiveSitesCount', 'job56_JobDiveSitesCount',\n",
       "       'job57_JobDiveSitesCount', 'job58_JobDiveSitesCount',\n",
       "       'job59_JobDiveSitesCount', 'job60_JobDiveSitesCount',\n",
       "       'job0_JobDiveTime', 'job1_JobDiveTime', 'job2_JobDiveTime',\n",
       "       'job3_JobDiveTime', 'job4_JobDiveTime', 'job5_JobDiveTime',\n",
       "       'job6_JobDiveTime', 'job7_JobDiveTime', 'job8_JobDiveTime',\n",
       "       'job9_JobDiveTime', 'job10_JobDiveTime', 'job11_JobDiveTime',\n",
       "       'job12_JobDiveTime', 'job13_JobDiveTime', 'job14_JobDiveTime',\n",
       "       'job15_JobDiveTime', 'job16_JobDiveTime', 'job17_JobDiveTime',\n",
       "       'job18_JobDiveTime', 'job19_JobDiveTime', 'job20_JobDiveTime',\n",
       "       'job21_JobDiveTime', 'job22_JobDiveTime', 'job23_JobDiveTime',\n",
       "       'job24_JobDiveTime', 'job25_JobDiveTime', 'job26_JobDiveTime',\n",
       "       'job27_JobDiveTime', 'job28_JobDiveTime', 'job29_JobDiveTime',\n",
       "       'job30_JobDiveTime', 'job31_JobDiveTime', 'job32_JobDiveTime',\n",
       "       'job33_JobDiveTime', 'job34_JobDiveTime', 'job35_JobDiveTime',\n",
       "       'job36_JobDiveTime', 'job37_JobDiveTime', 'job38_JobDiveTime',\n",
       "       'job39_JobDiveTime', 'job40_JobDiveTime', 'job41_JobDiveTime',\n",
       "       'job42_JobDiveTime', 'job43_JobDiveTime', 'job44_JobDiveTime',\n",
       "       'job45_JobDiveTime', 'job46_JobDiveTime', 'job47_JobDiveTime',\n",
       "       'job48_JobDiveTime', 'job49_JobDiveTime', 'job50_JobDiveTime',\n",
       "       'job51_JobDiveTime', 'job52_JobDiveTime', 'job53_JobDiveTime',\n",
       "       'job54_JobDiveTime', 'job55_JobDiveTime', 'job56_JobDiveTime',\n",
       "       'job57_JobDiveTime', 'job58_JobDiveTime', 'job59_JobDiveTime',\n",
       "       'job60_JobDiveTime', 'job0_JobExperimentation',\n",
       "       'job0_JobExperimentation-Time', 'job1_JobExperimentation',\n",
       "       'job1_JobExperimentation-Time', 'job2_JobExperimentation',\n",
       "       'job2_JobExperimentation-Time', 'job3_JobExperimentation',\n",
       "       'job3_JobExperimentation-Time', 'job4_JobExperimentation',\n",
       "       'job4_JobExperimentation-Time', 'job5_JobExperimentation',\n",
       "       'job5_JobExperimentation-Time', 'job6_JobExperimentation',\n",
       "       'job6_JobExperimentation-Time', 'job7_JobExperimentation',\n",
       "       'job7_JobExperimentation-Time', 'job8_JobExperimentation',\n",
       "       'job8_JobExperimentation-Time', 'job9_JobExperimentation',\n",
       "       'job9_JobExperimentation-Time', 'job10_JobExperimentation',\n",
       "       'job10_JobExperimentation-Time', 'job11_JobExperimentation',\n",
       "       'job11_JobExperimentation-Time', 'job12_JobExperimentation',\n",
       "       'job12_JobExperimentation-Time', 'job13_JobExperimentation',\n",
       "       'job13_JobExperimentation-Time', 'job14_JobExperimentation',\n",
       "       'job14_JobExperimentation-Time', 'job15_JobExperimentation',\n",
       "       'job15_JobExperimentation-Time', 'job16_JobExperimentation',\n",
       "       'job16_JobExperimentation-Time', 'job17_JobExperimentation',\n",
       "       'job17_JobExperimentation-Time', 'job18_JobExperimentation',\n",
       "       'job18_JobExperimentation-Time', 'job19_JobExperimentation',\n",
       "       'job19_JobExperimentation-Time', 'job20_JobExperimentation',\n",
       "       'job20_JobExperimentation-Time', 'job21_JobExperimentation',\n",
       "       'job21_JobExperimentation-Time', 'job22_JobExperimentation',\n",
       "       'job22_JobExperimentation-Time', 'job23_JobExperimentation',\n",
       "       'job23_JobExperimentation-Time', 'job24_JobExperimentation',\n",
       "       'job24_JobExperimentation-Time', 'job25_JobExperimentation',\n",
       "       'job25_JobExperimentation-Time', 'job26_JobExperimentation',\n",
       "       'job26_JobExperimentation-Time', 'job27_JobExperimentation',\n",
       "       'job27_JobExperimentation-Time', 'job28_JobExperimentation',\n",
       "       'job28_JobExperimentation-Time', 'job29_JobExperimentation',\n",
       "       'job29_JobExperimentation-Time', 'job30_JobExperimentation',\n",
       "       'job30_JobExperimentation-Time', 'job31_JobExperimentation',\n",
       "       'job31_JobExperimentation-Time', 'job32_JobExperimentation',\n",
       "       'job32_JobExperimentation-Time', 'job33_JobExperimentation',\n",
       "       'job33_JobExperimentation-Time', 'job34_JobExperimentation',\n",
       "       'job34_JobExperimentation-Time', 'job35_JobExperimentation',\n",
       "       'job35_JobExperimentation-Time', 'job36_JobExperimentation',\n",
       "       'job36_JobExperimentation-Time', 'job37_JobExperimentation',\n",
       "       'job37_JobExperimentation-Time', 'job38_JobExperimentation',\n",
       "       'job38_JobExperimentation-Time', 'job39_JobExperimentation',\n",
       "       'job39_JobExperimentation-Time', 'job40_JobExperimentation',\n",
       "       'job40_JobExperimentation-Time', 'job41_JobExperimentation',\n",
       "       'job41_JobExperimentation-Time', 'job42_JobExperimentation',\n",
       "       'job42_JobExperimentation-Time', 'job43_JobExperimentation',\n",
       "       'job43_JobExperimentation-Time', 'job44_JobExperimentation',\n",
       "       'job44_JobExperimentation-Time', 'job45_JobExperimentation',\n",
       "       'job45_JobExperimentation-Time', 'job46_JobExperimentation',\n",
       "       'job46_JobExperimentation-Time', 'job47_JobExperimentation',\n",
       "       'job47_JobExperimentation-Time', 'job48_JobExperimentation',\n",
       "       'job48_JobExperimentation-Time', 'job49_JobExperimentation',\n",
       "       'job49_JobExperimentation-Time', 'job50_JobExperimentation',\n",
       "       'job50_JobExperimentation-Time', 'job51_JobExperimentation',\n",
       "       'job51_JobExperimentation-Time', 'job52_JobExperimentation',\n",
       "       'job52_JobExperimentation-Time', 'job53_JobExperimentation',\n",
       "       'job53_JobExperimentation-Time', 'job54_JobExperimentation',\n",
       "       'job54_JobExperimentation-Time', 'job55_JobExperimentation',\n",
       "       'job55_JobExperimentation-Time', 'job56_JobExperimentation',\n",
       "       'job56_JobExperimentation-Time', 'job57_JobExperimentation',\n",
       "       'job57_JobExperimentation-Time', 'job58_JobExperimentation',\n",
       "       'job58_JobExperimentation-Time', 'job59_JobExperimentation',\n",
       "       'job59_JobExperimentation-Time', 'job60_JobExperimentation',\n",
       "       'job60_JobExperimentation-Time', 'job0_JobModeling',\n",
       "       'job0_JobModeling-Time', 'job1_JobModeling',\n",
       "       'job1_JobModeling-Time', 'job2_JobModeling',\n",
       "       'job2_JobModeling-Time', 'job3_JobModeling',\n",
       "       'job3_JobModeling-Time', 'job4_JobModeling',\n",
       "       'job4_JobModeling-Time', 'job5_JobModeling',\n",
       "       'job5_JobModeling-Time', 'job6_JobModeling',\n",
       "       'job6_JobModeling-Time', 'job7_JobModeling',\n",
       "       'job7_JobModeling-Time', 'job8_JobModeling',\n",
       "       'job8_JobModeling-Time', 'job9_JobModeling',\n",
       "       'job9_JobModeling-Time', 'job10_JobModeling',\n",
       "       'job10_JobModeling-Time', 'job11_JobModeling',\n",
       "       'job11_JobModeling-Time', 'job12_JobModeling',\n",
       "       'job12_JobModeling-Time', 'job13_JobModeling',\n",
       "       'job13_JobModeling-Time', 'job14_JobModeling',\n",
       "       'job14_JobModeling-Time', 'job15_JobModeling',\n",
       "       'job15_JobModeling-Time', 'job16_JobModeling',\n",
       "       'job16_JobModeling-Time', 'job17_JobModeling',\n",
       "       'job17_JobModeling-Time', 'job18_JobModeling',\n",
       "       'job18_JobModeling-Time', 'job19_JobModeling',\n",
       "       'job19_JobModeling-Time', 'job20_JobModeling',\n",
       "       'job20_JobModeling-Time', 'job21_JobModeling',\n",
       "       'job21_JobModeling-Time', 'job22_JobModeling',\n",
       "       'job22_JobModeling-Time', 'job23_JobModeling',\n",
       "       'job23_JobModeling-Time', 'job24_JobModeling',\n",
       "       'job24_JobModeling-Time', 'job25_JobModeling',\n",
       "       'job25_JobModeling-Time', 'job26_JobModeling',\n",
       "       'job26_JobModeling-Time', 'job27_JobModeling',\n",
       "       'job27_JobModeling-Time', 'job28_JobModeling',\n",
       "       'job28_JobModeling-Time', 'job29_JobModeling',\n",
       "       'job29_JobModeling-Time', 'job30_JobModeling',\n",
       "       'job30_JobModeling-Time', 'job31_JobModeling',\n",
       "       'job31_JobModeling-Time', 'job32_JobModeling',\n",
       "       'job32_JobModeling-Time', 'job33_JobModeling',\n",
       "       'job33_JobModeling-Time', 'job34_JobModeling',\n",
       "       'job34_JobModeling-Time', 'job35_JobModeling',\n",
       "       'job35_JobModeling-Time', 'job36_JobModeling',\n",
       "       'job36_JobModeling-Time', 'job37_JobModeling',\n",
       "       'job37_JobModeling-Time', 'job38_JobModeling',\n",
       "       'job38_JobModeling-Time', 'job39_JobModeling',\n",
       "       'job39_JobModeling-Time', 'job40_JobModeling',\n",
       "       'job40_JobModeling-Time', 'job41_JobModeling',\n",
       "       'job41_JobModeling-Time', 'job42_JobModeling',\n",
       "       'job42_JobModeling-Time', 'job43_JobModeling',\n",
       "       'job43_JobModeling-Time', 'job44_JobModeling',\n",
       "       'job44_JobModeling-Time', 'job45_JobModeling',\n",
       "       'job45_JobModeling-Time', 'job46_JobModeling',\n",
       "       'job46_JobModeling-Time', 'job47_JobModeling',\n",
       "       'job47_JobModeling-Time', 'job48_JobModeling',\n",
       "       'job48_JobModeling-Time', 'job49_JobModeling',\n",
       "       'job49_JobModeling-Time', 'job50_JobModeling',\n",
       "       'job50_JobModeling-Time', 'job51_JobModeling',\n",
       "       'job51_JobModeling-Time', 'job52_JobModeling',\n",
       "       'job52_JobModeling-Time', 'job53_JobModeling',\n",
       "       'job53_JobModeling-Time', 'job54_JobModeling',\n",
       "       'job54_JobModeling-Time', 'job55_JobModeling',\n",
       "       'job55_JobModeling-Time', 'job56_JobModeling',\n",
       "       'job56_JobModeling-Time', 'job57_JobModeling',\n",
       "       'job57_JobModeling-Time', 'job58_JobModeling',\n",
       "       'job58_JobModeling-Time', 'job59_JobModeling',\n",
       "       'job59_JobModeling-Time', 'job60_JobModeling',\n",
       "       'job60_JobModeling-Time', 'job0_JobPriorAttempt',\n",
       "       'job1_JobPriorAttempt', 'job2_JobPriorAttempt',\n",
       "       'job3_JobPriorAttempt', 'job4_JobPriorAttempt',\n",
       "       'job5_JobPriorAttempt', 'job6_JobPriorAttempt',\n",
       "       'job7_JobPriorAttempt', 'job8_JobPriorAttempt',\n",
       "       'job9_JobPriorAttempt', 'job10_JobPriorAttempt',\n",
       "       'job11_JobPriorAttempt', 'job12_JobPriorAttempt',\n",
       "       'job13_JobPriorAttempt', 'job14_JobPriorAttempt',\n",
       "       'job15_JobPriorAttempt', 'job16_JobPriorAttempt',\n",
       "       'job17_JobPriorAttempt', 'job18_JobPriorAttempt',\n",
       "       'job19_JobPriorAttempt', 'job20_JobPriorAttempt',\n",
       "       'job21_JobPriorAttempt', 'job22_JobPriorAttempt',\n",
       "       'job23_JobPriorAttempt', 'job24_JobPriorAttempt',\n",
       "       'job25_JobPriorAttempt', 'job26_JobPriorAttempt',\n",
       "       'job27_JobPriorAttempt', 'job28_JobPriorAttempt',\n",
       "       'job29_JobPriorAttempt', 'job30_JobPriorAttempt',\n",
       "       'job31_JobPriorAttempt', 'job32_JobPriorAttempt',\n",
       "       'job33_JobPriorAttempt', 'job34_JobPriorAttempt',\n",
       "       'job35_JobPriorAttempt', 'job36_JobPriorAttempt',\n",
       "       'job37_JobPriorAttempt', 'job38_JobPriorAttempt',\n",
       "       'job39_JobPriorAttempt', 'job40_JobPriorAttempt',\n",
       "       'job41_JobPriorAttempt', 'job42_JobPriorAttempt',\n",
       "       'job43_JobPriorAttempt', 'job44_JobPriorAttempt',\n",
       "       'job45_JobPriorAttempt', 'job46_JobPriorAttempt',\n",
       "       'job47_JobPriorAttempt', 'job48_JobPriorAttempt',\n",
       "       'job49_JobPriorAttempt', 'job50_JobPriorAttempt',\n",
       "       'job51_JobPriorAttempt', 'job52_JobPriorAttempt',\n",
       "       'job53_JobPriorAttempt', 'job54_JobPriorAttempt',\n",
       "       'job55_JobPriorAttempt', 'job56_JobPriorAttempt',\n",
       "       'job57_JobPriorAttempt', 'job58_JobPriorAttempt',\n",
       "       'job59_JobPriorAttempt', 'job60_JobPriorAttempt',\n",
       "       'job0_JobPriorComplete', 'job1_JobPriorComplete',\n",
       "       'job2_JobPriorComplete', 'job3_JobPriorComplete',\n",
       "       'job4_JobPriorComplete', 'job5_JobPriorComplete',\n",
       "       'job6_JobPriorComplete', 'job7_JobPriorComplete',\n",
       "       'job8_JobPriorComplete', 'job9_JobPriorComplete',\n",
       "       'job10_JobPriorComplete', 'job11_JobPriorComplete',\n",
       "       'job12_JobPriorComplete', 'job13_JobPriorComplete',\n",
       "       'job14_JobPriorComplete', 'job15_JobPriorComplete',\n",
       "       'job16_JobPriorComplete', 'job17_JobPriorComplete',\n",
       "       'job18_JobPriorComplete', 'job19_JobPriorComplete',\n",
       "       'job20_JobPriorComplete', 'job21_JobPriorComplete',\n",
       "       'job22_JobPriorComplete', 'job23_JobPriorComplete',\n",
       "       'job24_JobPriorComplete', 'job25_JobPriorComplete',\n",
       "       'job26_JobPriorComplete', 'job27_JobPriorComplete',\n",
       "       'job28_JobPriorComplete', 'job29_JobPriorComplete',\n",
       "       'job30_JobPriorComplete', 'job31_JobPriorComplete',\n",
       "       'job32_JobPriorComplete', 'job33_JobPriorComplete',\n",
       "       'job34_JobPriorComplete', 'job35_JobPriorComplete',\n",
       "       'job36_JobPriorComplete', 'job37_JobPriorComplete',\n",
       "       'job38_JobPriorComplete', 'job39_JobPriorComplete',\n",
       "       'job40_JobPriorComplete', 'job41_JobPriorComplete',\n",
       "       'job42_JobPriorComplete', 'job43_JobPriorComplete',\n",
       "       'job44_JobPriorComplete', 'job45_JobPriorComplete',\n",
       "       'job46_JobPriorComplete', 'job47_JobPriorComplete',\n",
       "       'job48_JobPriorComplete', 'job49_JobPriorComplete',\n",
       "       'job50_JobPriorComplete', 'job51_JobPriorComplete',\n",
       "       'job52_JobPriorComplete', 'job53_JobPriorComplete',\n",
       "       'job54_JobPriorComplete', 'job55_JobPriorComplete',\n",
       "       'job56_JobPriorComplete', 'job57_JobPriorComplete',\n",
       "       'job58_JobPriorComplete', 'job59_JobPriorComplete',\n",
       "       'job60_JobPriorComplete', 'job0_JobTasksCompleted',\n",
       "       'job1_JobTasksCompleted', 'job2_JobTasksCompleted',\n",
       "       'job3_JobTasksCompleted', 'job4_JobTasksCompleted',\n",
       "       'job5_JobTasksCompleted', 'job6_JobTasksCompleted',\n",
       "       'job7_JobTasksCompleted', 'job8_JobTasksCompleted',\n",
       "       'job9_JobTasksCompleted', 'job10_JobTasksCompleted',\n",
       "       'job11_JobTasksCompleted', 'job12_JobTasksCompleted',\n",
       "       'job13_JobTasksCompleted', 'job14_JobTasksCompleted',\n",
       "       'job15_JobTasksCompleted', 'job16_JobTasksCompleted',\n",
       "       'job17_JobTasksCompleted', 'job18_JobTasksCompleted',\n",
       "       'job19_JobTasksCompleted', 'job20_JobTasksCompleted',\n",
       "       'job21_JobTasksCompleted', 'job22_JobTasksCompleted',\n",
       "       'job23_JobTasksCompleted', 'job24_JobTasksCompleted',\n",
       "       'job25_JobTasksCompleted', 'job26_JobTasksCompleted',\n",
       "       'job27_JobTasksCompleted', 'job28_JobTasksCompleted',\n",
       "       'job29_JobTasksCompleted', 'job30_JobTasksCompleted',\n",
       "       'job31_JobTasksCompleted', 'job32_JobTasksCompleted',\n",
       "       'job33_JobTasksCompleted', 'job34_JobTasksCompleted',\n",
       "       'job35_JobTasksCompleted', 'job36_JobTasksCompleted',\n",
       "       'job37_JobTasksCompleted', 'job38_JobTasksCompleted',\n",
       "       'job39_JobTasksCompleted', 'job40_JobTasksCompleted',\n",
       "       'job41_JobTasksCompleted', 'job42_JobTasksCompleted',\n",
       "       'job43_JobTasksCompleted', 'job44_JobTasksCompleted',\n",
       "       'job45_JobTasksCompleted', 'job46_JobTasksCompleted',\n",
       "       'job47_JobTasksCompleted', 'job48_JobTasksCompleted',\n",
       "       'job49_JobTasksCompleted', 'job50_JobTasksCompleted',\n",
       "       'job51_JobTasksCompleted', 'job52_JobTasksCompleted',\n",
       "       'job53_JobTasksCompleted', 'job54_JobTasksCompleted',\n",
       "       'job55_JobTasksCompleted', 'job56_JobTasksCompleted',\n",
       "       'job57_JobTasksCompleted', 'job58_JobTasksCompleted',\n",
       "       'job59_JobTasksCompleted', 'job60_JobTasksCompleted',\n",
       "       'region0_RegionJobCount', 'region1_RegionJobCount',\n",
       "       'region2_RegionJobCount', 'region3_RegionJobCount',\n",
       "       'region4_RegionJobCount', 'region0_RegionName',\n",
       "       'region1_RegionName', 'region2_RegionName', 'region3_RegionName',\n",
       "       'region4_RegionName', 'job0_SyncCompletionTime',\n",
       "       'job1_SyncCompletionTime', 'job2_SyncCompletionTime',\n",
       "       'job3_SyncCompletionTime', 'job4_SyncCompletionTime',\n",
       "       'job5_SyncCompletionTime', 'job6_SyncCompletionTime',\n",
       "       'job7_SyncCompletionTime', 'job8_SyncCompletionTime',\n",
       "       'job9_SyncCompletionTime', 'job10_SyncCompletionTime',\n",
       "       'job11_SyncCompletionTime', 'job12_SyncCompletionTime',\n",
       "       'job13_SyncCompletionTime', 'job14_SyncCompletionTime',\n",
       "       'job15_SyncCompletionTime', 'job16_SyncCompletionTime',\n",
       "       'job17_SyncCompletionTime', 'job18_SyncCompletionTime',\n",
       "       'job19_SyncCompletionTime', 'job20_SyncCompletionTime',\n",
       "       'job21_SyncCompletionTime', 'job22_SyncCompletionTime',\n",
       "       'job23_SyncCompletionTime', 'job24_SyncCompletionTime',\n",
       "       'job25_SyncCompletionTime', 'job26_SyncCompletionTime',\n",
       "       'job27_SyncCompletionTime', 'job28_SyncCompletionTime',\n",
       "       'job29_SyncCompletionTime', 'job30_SyncCompletionTime',\n",
       "       'job31_SyncCompletionTime', 'job32_SyncCompletionTime',\n",
       "       'job33_SyncCompletionTime', 'job34_SyncCompletionTime',\n",
       "       'job35_SyncCompletionTime', 'job36_SyncCompletionTime',\n",
       "       'job37_SyncCompletionTime', 'job38_SyncCompletionTime',\n",
       "       'job39_SyncCompletionTime', 'job40_SyncCompletionTime',\n",
       "       'job41_SyncCompletionTime', 'job42_SyncCompletionTime',\n",
       "       'job43_SyncCompletionTime', 'job44_SyncCompletionTime',\n",
       "       'job45_SyncCompletionTime', 'job46_SyncCompletionTime',\n",
       "       'job47_SyncCompletionTime', 'job48_SyncCompletionTime',\n",
       "       'job49_SyncCompletionTime', 'job50_SyncCompletionTime',\n",
       "       'job51_SyncCompletionTime', 'job52_SyncCompletionTime',\n",
       "       'job53_SyncCompletionTime', 'job54_SyncCompletionTime',\n",
       "       'job55_SyncCompletionTime', 'job56_SyncCompletionTime',\n",
       "       'job57_SyncCompletionTime', 'job58_SyncCompletionTime',\n",
       "       'job59_SyncCompletionTime', 'job60_SyncCompletionTime',\n",
       "       'UserAvgSessionDuration', 'UserTotalSessionDuration'], dtype=object)"
      ]
     },
     "execution_count": 240,
     "metadata": {},
     "output_type": "execute_result"
    }
   ],
   "source": [
    "session_features_df.columns.values"
   ]
  },
  {
   "cell_type": "code",
   "execution_count": 241,
   "metadata": {},
   "outputs": [
    {
     "data": {
      "image/png": "[encoded data removed]",
      "text/plain": [
       "<Figure size 1000x700 with 1 Axes>"
      ]
     },
     "metadata": {},
     "output_type": "display_data"
    }
   ],
   "source": [
    "filter_sec = session_features_df[\"SessionDuration-Total\"] < 6000\n",
    "session_features_df[filter_sec].boxplot(column=\"SessionDuration-Total\", vert=False)\n",
    "plt.title(f\"Session Duration Time less than 6000 secs ({round(100 * filter_sec.sum()/session_features_df.shape[0], 2)} % of data)\")\n",
    "plt.show()"
   ]
  },
  {
   "cell_type": "code",
   "execution_count": 242,
   "metadata": {},
   "outputs": [
    {
     "data": {
      "application/vnd.plotly.v1+json": {
       "config": {
        "plotlyServerURL": "https://plot.ly"
       },
       "data": [
        {
         "coloraxis": "coloraxis",
         "hovertemplate": "x: %{x}<br>y: %{y}<br>Correlation: %{z}<extra></extra>",
         "name": "0",
         "texttemplate": "%{z}",
         "type": "heatmap",
         "x": [
          "JobsCompleted",
          "SessionDiveSitesCount",
          "SessionDuration-Total",
          "SessionDuration-Active",
          "SessionDuration-IdleIdleSeconds",
          "SwitchJobsCount",
          "TotalArgumentationTime-Seconds",
          "TotalArgumentationTime-Active-Seconds",
          "TotalArgumentationTime-Idle-Seconds",
          "TotalDiveTime-Seconds",
          "TotalDiveTime-Active-Seconds",
          "TotalDiveTime-Idle-Seconds",
          "TotalExperimentationTime-Seconds",
          "TotalExperimentationTime-Active-Seconds",
          "TotalExperimentationTime-Idle-Seconds",
          "TotalHelpCount",
          "TotalModelingTime-Seconds",
          "TotalModelingTime-Active-Seconds",
          "TotalModelingTime-Idle-Seconds",
          "UserAvgSessionDuration",
          "UserTotalSessionDuration"
         ],
         "xaxis": "x",
         "y": [
          "JobsCompleted",
          "SessionDiveSitesCount",
          "SessionDuration-Total",
          "SessionDuration-Active",
          "SessionDuration-IdleIdleSeconds",
          "SwitchJobsCount",
          "TotalArgumentationTime-Seconds",
          "TotalArgumentationTime-Active-Seconds",
          "TotalArgumentationTime-Idle-Seconds",
          "TotalDiveTime-Seconds",
          "TotalDiveTime-Active-Seconds",
          "TotalDiveTime-Idle-Seconds",
          "TotalExperimentationTime-Seconds",
          "TotalExperimentationTime-Active-Seconds",
          "TotalExperimentationTime-Idle-Seconds",
          "TotalHelpCount",
          "TotalModelingTime-Seconds",
          "TotalModelingTime-Active-Seconds",
          "TotalModelingTime-Idle-Seconds",
          "UserAvgSessionDuration",
          "UserTotalSessionDuration"
         ],
         "yaxis": "y",
         "z": {
          "bdata": "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",
          "dtype": "f8",
          "shape": "21, 21"
         }
        }
       ],
       "layout": {
        "coloraxis": {
         "colorbar": {
          "title": {
           "text": "Correlation"
          }
         },
         "colorscale": [
          [
           0,
           "rgb(247,251,255)"
          ],
          [
           0.125,
           "rgb(222,235,247)"
          ],
          [
           0.25,
           "rgb(198,219,239)"
          ],
          [
           0.375,
           "rgb(158,202,225)"
          ],
          [
           0.5,
           "rgb(107,174,214)"
          ],
          [
           0.625,
           "rgb(66,146,198)"
          ],
          [
           0.75,
           "rgb(33,113,181)"
          ],
          [
           0.875,
           "rgb(8,81,156)"
          ],
          [
           1,
           "rgb(8,48,107)"
          ]
         ]
        },
        "height": 900,
        "template": {
         "data": {
          "bar": [
           {
            "error_x": {
             "color": "#2a3f5f"
            },
            "error_y": {
             "color": "#2a3f5f"
            },
            "marker": {
             "line": {
              "color": "#E5ECF6",
              "width": 0.5
             },
             "pattern": {
              "fillmode": "overlay",
              "size": 10,
              "solidity": 0.2
             }
            },
            "type": "bar"
           }
          ],
          "barpolar": [
           {
            "marker": {
             "line": {
              "color": "#E5ECF6",
              "width": 0.5
             },
             "pattern": {
              "fillmode": "overlay",
              "size": 10,
              "solidity": 0.2
             }
            },
            "type": "barpolar"
           }
          ],
          "carpet": [
           {
            "aaxis": {
             "endlinecolor": "#2a3f5f",
             "gridcolor": "white",
             "linecolor": "white",
             "minorgridcolor": "white",
             "startlinecolor": "#2a3f5f"
            },
            "baxis": {
             "endlinecolor": "#2a3f5f",
             "gridcolor": "white",
             "linecolor": "white",
             "minorgridcolor": "white",
             "startlinecolor": "#2a3f5f"
            },
            "type": "carpet"
           }
          ],
          "choropleth": [
           {
            "colorbar": {
             "outlinewidth": 0,
             "ticks": ""
            },
            "type": "choropleth"
           }
          ],
          "contour": [
           {
            "colorbar": {
             "outlinewidth": 0,
             "ticks": ""
            },
            "colorscale": [
             [
              0,
              "#0d0887"
             ],
             [
              0.1111111111111111,
              "#46039f"
             ],
             [
              0.2222222222222222,
              "#7201a8"
             ],
             [
              0.3333333333333333,
              "#9c179e"
             ],
             [
              0.4444444444444444,
              "#bd3786"
             ],
             [
              0.5555555555555556,
              "#d8576b"
             ],
             [
              0.6666666666666666,
              "#ed7953"
             ],
             [
              0.7777777777777778,
              "#fb9f3a"
             ],
             [
              0.8888888888888888,
              "#fdca26"
             ],
             [
              1,
              "#f0f921"
             ]
            ],
            "type": "contour"
           }
          ],
          "contourcarpet": [
           {
            "colorbar": {
             "outlinewidth": 0,
             "ticks": ""
            },
            "type": "contourcarpet"
           }
          ],
          "heatmap": [
           {
            "colorbar": {
             "outlinewidth": 0,
             "ticks": ""
            },
            "colorscale": [
             [
              0,
              "#0d0887"
             ],
             [
              0.1111111111111111,
              "#46039f"
             ],
             [
              0.2222222222222222,
              "#7201a8"
             ],
             [
              0.3333333333333333,
              "#9c179e"
             ],
             [
              0.4444444444444444,
              "#bd3786"
             ],
             [
              0.5555555555555556,
              "#d8576b"
             ],
             [
              0.6666666666666666,
              "#ed7953"
             ],
             [
              0.7777777777777778,
              "#fb9f3a"
             ],
             [
              0.8888888888888888,
              "#fdca26"
             ],
             [
              1,
              "#f0f921"
             ]
            ],
            "type": "heatmap"
           }
          ],
          "histogram": [
           {
            "marker": {
             "pattern": {
              "fillmode": "overlay",
              "size": 10,
              "solidity": 0.2
             }
            },
            "type": "histogram"
           }
          ],
          "histogram2d": [
           {
            "colorbar": {
             "outlinewidth": 0,
             "ticks": ""
            },
            "colorscale": [
             [
              0,
              "#0d0887"
             ],
             [
              0.1111111111111111,
              "#46039f"
             ],
             [
              0.2222222222222222,
              "#7201a8"
             ],
             [
              0.3333333333333333,
              "#9c179e"
             ],
             [
              0.4444444444444444,
              "#bd3786"
             ],
             [
              0.5555555555555556,
              "#d8576b"
             ],
             [
              0.6666666666666666,
              "#ed7953"
             ],
             [
              0.7777777777777778,
              "#fb9f3a"
             ],
             [
              0.8888888888888888,
              "#fdca26"
             ],
             [
              1,
              "#f0f921"
             ]
            ],
            "type": "histogram2d"
           }
          ],
          "histogram2dcontour": [
           {
            "colorbar": {
             "outlinewidth": 0,
             "ticks": ""
            },
            "colorscale": [
             [
              0,
              "#0d0887"
             ],
             [
              0.1111111111111111,
              "#46039f"
             ],
             [
              0.2222222222222222,
              "#7201a8"
             ],
             [
              0.3333333333333333,
              "#9c179e"
             ],
             [
              0.4444444444444444,
              "#bd3786"
             ],
             [
              0.5555555555555556,
              "#d8576b"
             ],
             [
              0.6666666666666666,
              "#ed7953"
             ],
             [
              0.7777777777777778,
              "#fb9f3a"
             ],
             [
              0.8888888888888888,
              "#fdca26"
             ],
             [
              1,
              "#f0f921"
             ]
            ],
            "type": "histogram2dcontour"
           }
          ],
          "mesh3d": [
           {
            "colorbar": {
             "outlinewidth": 0,
             "ticks": ""
            },
            "type": "mesh3d"
           }
          ],
          "parcoords": [
           {
            "line": {
             "colorbar": {
              "outlinewidth": 0,
              "ticks": ""
             }
            },
            "type": "parcoords"
           }
          ],
          "pie": [
           {
            "automargin": true,
            "type": "pie"
           }
          ],
          "scatter": [
           {
            "fillpattern": {
             "fillmode": "overlay",
             "size": 10,
             "solidity": 0.2
            },
            "type": "scatter"
           }
          ],
          "scatter3d": [
           {
            "line": {
             "colorbar": {
              "outlinewidth": 0,
              "ticks": ""
             }
            },
            "marker": {
             "colorbar": {
              "outlinewidth": 0,
              "ticks": ""
             }
            },
            "type": "scatter3d"
           }
          ],
          "scattercarpet": [
           {
            "marker": {
             "colorbar": {
              "outlinewidth": 0,
              "ticks": ""
             }
            },
            "type": "scattercarpet"
           }
          ],
          "scattergeo": [
           {
            "marker": {
             "colorbar": {
              "outlinewidth": 0,
              "ticks": ""
             }
            },
            "type": "scattergeo"
           }
          ],
          "scattergl": [
           {
            "marker": {
             "colorbar": {
              "outlinewidth": 0,
              "ticks": ""
             }
            },
            "type": "scattergl"
           }
          ],
          "scattermap": [
           {
            "marker": {
             "colorbar": {
              "outlinewidth": 0,
              "ticks": ""
             }
            },
            "type": "scattermap"
           }
          ],
          "scattermapbox": [
           {
            "marker": {
             "colorbar": {
              "outlinewidth": 0,
              "ticks": ""
             }
            },
            "type": "scattermapbox"
           }
          ],
          "scatterpolar": [
           {
            "marker": {
             "colorbar": {
              "outlinewidth": 0,
              "ticks": ""
             }
            },
            "type": "scatterpolar"
           }
          ],
          "scatterpolargl": [
           {
            "marker": {
             "colorbar": {
              "outlinewidth": 0,
              "ticks": ""
             }
            },
            "type": "scatterpolargl"
           }
          ],
          "scatterternary": [
           {
            "marker": {
             "colorbar": {
              "outlinewidth": 0,
              "ticks": ""
             }
            },
            "type": "scatterternary"
           }
          ],
          "surface": [
           {
            "colorbar": {
             "outlinewidth": 0,
             "ticks": ""
            },
            "colorscale": [
             [
              0,
              "#0d0887"
             ],
             [
              0.1111111111111111,
              "#46039f"
             ],
             [
              0.2222222222222222,
              "#7201a8"
             ],
             [
              0.3333333333333333,
              "#9c179e"
             ],
             [
              0.4444444444444444,
              "#bd3786"
             ],
             [
              0.5555555555555556,
              "#d8576b"
             ],
             [
              0.6666666666666666,
              "#ed7953"
             ],
             [
              0.7777777777777778,
              "#fb9f3a"
             ],
             [
              0.8888888888888888,
              "#fdca26"
             ],
             [
              1,
              "#f0f921"
             ]
            ],
            "type": "surface"
           }
          ],
          "table": [
           {
            "cells": {
             "fill": {
              "color": "#EBF0F8"
             },
             "line": {
              "color": "white"
             }
            },
            "header": {
             "fill": {
              "color": "#C8D4E3"
             },
             "line": {
              "color": "white"
             }
            },
            "type": "table"
           }
          ]
         },
         "layout": {
          "annotationdefaults": {
           "arrowcolor": "#2a3f5f",
           "arrowhead": 0,
           "arrowwidth": 1
          },
          "autotypenumbers": "strict",
          "coloraxis": {
           "colorbar": {
            "outlinewidth": 0,
            "ticks": ""
           }
          },
          "colorscale": {
           "diverging": [
            [
             0,
             "#8e0152"
            ],
            [
             0.1,
             "#c51b7d"
            ],
            [
             0.2,
             "#de77ae"
            ],
            [
             0.3,
             "#f1b6da"
            ],
            [
             0.4,
             "#fde0ef"
            ],
            [
             0.5,
             "#f7f7f7"
            ],
            [
             0.6,
             "#e6f5d0"
            ],
            [
             0.7,
             "#b8e186"
            ],
            [
             0.8,
             "#7fbc41"
            ],
            [
             0.9,
             "#4d9221"
            ],
            [
             1,
             "#276419"
            ]
           ],
           "sequential": [
            [
             0,
             "#0d0887"
            ],
            [
             0.1111111111111111,
             "#46039f"
            ],
            [
             0.2222222222222222,
             "#7201a8"
            ],
            [
             0.3333333333333333,
             "#9c179e"
            ],
            [
             0.4444444444444444,
             "#bd3786"
            ],
            [
             0.5555555555555556,
             "#d8576b"
            ],
            [
             0.6666666666666666,
             "#ed7953"
            ],
            [
             0.7777777777777778,
             "#fb9f3a"
            ],
            [
             0.8888888888888888,
             "#fdca26"
            ],
            [
             1,
             "#f0f921"
            ]
           ],
           "sequentialminus": [
            [
             0,
             "#0d0887"
            ],
            [
             0.1111111111111111,
             "#46039f"
            ],
            [
             0.2222222222222222,
             "#7201a8"
            ],
            [
             0.3333333333333333,
             "#9c179e"
            ],
            [
             0.4444444444444444,
             "#bd3786"
            ],
            [
             0.5555555555555556,
             "#d8576b"
            ],
            [
             0.6666666666666666,
             "#ed7953"
            ],
            [
             0.7777777777777778,
             "#fb9f3a"
            ],
            [
             0.8888888888888888,
             "#fdca26"
            ],
            [
             1,
             "#f0f921"
            ]
           ]
          },
          "colorway": [
           "#636efa",
           "#EF553B",
           "#00cc96",
           "#ab63fa",
           "#FFA15A",
           "#19d3f3",
           "#FF6692",
           "#B6E880",
           "#FF97FF",
           "#FECB52"
          ],
          "font": {
           "color": "#2a3f5f"
          },
          "geo": {
           "bgcolor": "white",
           "lakecolor": "white",
           "landcolor": "#E5ECF6",
           "showlakes": true,
           "showland": true,
           "subunitcolor": "white"
          },
          "hoverlabel": {
           "align": "left"
          },
          "hovermode": "closest",
          "mapbox": {
           "style": "light"
          },
          "paper_bgcolor": "white",
          "plot_bgcolor": "#E5ECF6",
          "polar": {
           "angularaxis": {
            "gridcolor": "white",
            "linecolor": "white",
            "ticks": ""
           },
           "bgcolor": "#E5ECF6",
           "radialaxis": {
            "gridcolor": "white",
            "linecolor": "white",
            "ticks": ""
           }
          },
          "scene": {
           "xaxis": {
            "backgroundcolor": "#E5ECF6",
            "gridcolor": "white",
            "gridwidth": 2,
            "linecolor": "white",
            "showbackground": true,
            "ticks": "",
            "zerolinecolor": "white"
           },
           "yaxis": {
            "backgroundcolor": "#E5ECF6",
            "gridcolor": "white",
            "gridwidth": 2,
            "linecolor": "white",
            "showbackground": true,
            "ticks": "",
            "zerolinecolor": "white"
           },
           "zaxis": {
            "backgroundcolor": "#E5ECF6",
            "gridcolor": "white",
            "gridwidth": 2,
            "linecolor": "white",
            "showbackground": true,
            "ticks": "",
            "zerolinecolor": "white"
           }
          },
          "shapedefaults": {
           "line": {
            "color": "#2a3f5f"
           }
          },
          "ternary": {
           "aaxis": {
            "gridcolor": "white",
            "linecolor": "white",
            "ticks": ""
           },
           "baxis": {
            "gridcolor": "white",
            "linecolor": "white",
            "ticks": ""
           },
           "bgcolor": "#E5ECF6",
           "caxis": {
            "gridcolor": "white",
            "linecolor": "white",
            "ticks": ""
           }
          },
          "title": {
           "x": 0.05
          },
          "xaxis": {
           "automargin": true,
           "gridcolor": "white",
           "linecolor": "white",
           "ticks": "",
           "title": {
            "standoff": 15
           },
           "zerolinecolor": "white",
           "zerolinewidth": 2
          },
          "yaxis": {
           "automargin": true,
           "gridcolor": "white",
           "linecolor": "white",
           "ticks": "",
           "title": {
            "standoff": 15
           },
           "zerolinecolor": "white",
           "zerolinewidth": 2
          }
         }
        },
        "title": {
         "text": "Correlation"
        },
        "width": 900,
        "xaxis": {
         "anchor": "y",
         "constrain": "domain",
         "domain": [
          0,
          1
         ],
         "scaleanchor": "y"
        },
        "yaxis": {
         "anchor": "x",
         "autorange": "reversed",
         "constrain": "domain",
         "domain": [
          0,
          1
         ]
        }
       }
      }
     },
     "metadata": {},
     "output_type": "display_data"
    }
   ],
   "source": [
    "import plotly.express as px\n",
    "import re\n",
    "\n",
    "corr = session_features_df[\n",
    "    # TotalGuideCount only takes one value\n",
    "    [col for col in session_features_df.columns if not re.search(r'\\d', col) and col != \"SessionID\" and col != \"TotalGuideCount\"]\n",
    "].corr(numeric_only=True).round(2)\n",
    "\n",
    "fig = px.imshow(\n",
    "    corr,\n",
    "    text_auto=True,\n",
    "    color_continuous_scale='Blues', # only positive correlation found, better single color\n",
    "    title='Correlation',\n",
    "    labels=dict(color='Correlation'),\n",
    "    width=900,\n",
    "    height=900\n",
    ")\n",
    "fig.show()"
   ]
  },
  {
   "cell_type": "markdown",
   "metadata": {},
   "source": [
    "### Loading events.csv and training model"
   ]
  },
  {
   "cell_type": "markdown",
   "metadata": {},
   "source": [
    "dropping rows with any NA\n",
    "\n",
    "convert timestamp strings to datetime object"
   ]
  },
  {
   "cell_type": "code",
   "execution_count": 243,
   "metadata": {},
   "outputs": [
    {
     "data": {
      "text/html": [
       "<div>\n",
       "<style scoped>\n",
       "    .dataframe tbody tr th:only-of-type {\n",
       "        vertical-align: middle;\n",
       "    }\n",
       "\n",
       "    .dataframe tbody tr th {\n",
       "        vertical-align: top;\n",
       "    }\n",
       "\n",
       "    .dataframe thead th {\n",
       "        text-align: right;\n",
       "    }\n",
       "</style>\n",
       "<table border=\"1\" class=\"dataframe\">\n",
       "  <thead>\n",
       "    <tr style=\"text-align: right;\">\n",
       "      <th></th>\n",
       "      <th>session_id</th>\n",
       "      <th>timestamp</th>\n",
       "      <th>event_name</th>\n",
       "      <th>event_data</th>\n",
       "      <th>user_id</th>\n",
       "      <th>game_state</th>\n",
       "      <th>index</th>\n",
       "      <th>job_string</th>\n",
       "      <th>task_id</th>\n",
       "      <th>session</th>\n",
       "      <th>detail</th>\n",
       "      <th>time_since_start</th>\n",
       "      <th>job_name</th>\n",
       "    </tr>\n",
       "  </thead>\n",
       "  <tbody>\n",
       "    <tr>\n",
       "      <th>0</th>\n",
       "      <td>23071010042645319</td>\n",
       "      <td>2023-07-10 14:08:18.198000+00:00</td>\n",
       "      <td>switch_job</td>\n",
       "      <td>{\"http_user_agent\": \"Mozilla/5.0 (X11; CrOS x8...</td>\n",
       "      <td>AbleLeft</td>\n",
       "      <td>{\"job_name\": \"kelp-welcome\"}</td>\n",
       "      <td>45</td>\n",
       "      <td>kelp-welcome</td>\n",
       "      <td>1</td>\n",
       "      <td>1</td>\n",
       "      <td>NaN</td>\n",
       "      <td>0</td>\n",
       "      <td>kelp-welcome</td>\n",
       "    </tr>\n",
       "    <tr>\n",
       "      <th>1</th>\n",
       "      <td>23071010042645319</td>\n",
       "      <td>2023-07-10 14:08:19.213000+00:00</td>\n",
       "      <td>script_fired</td>\n",
       "      <td>{\"http_user_agent\": \"Mozilla/5.0 (X11; CrOS x8...</td>\n",
       "      <td>AbleLeft</td>\n",
       "      <td>{\"job_name\": \"kelp-welcome\"}</td>\n",
       "      <td>46</td>\n",
       "      <td>kelp-welcome</td>\n",
       "      <td>1</td>\n",
       "      <td>1</td>\n",
       "      <td>node_id: job.kelp-welcome.start</td>\n",
       "      <td>1</td>\n",
       "      <td>kelp-welcome</td>\n",
       "    </tr>\n",
       "    <tr>\n",
       "      <th>2</th>\n",
       "      <td>23071010042645319</td>\n",
       "      <td>2023-07-10 14:08:19.841000+00:00</td>\n",
       "      <td>script_line_displayed</td>\n",
       "      <td>{\"http_user_agent\": \"Mozilla/5.0 (X11; CrOS x8...</td>\n",
       "      <td>AbleLeft</td>\n",
       "      <td>{\"job_name\": \"kelp-welcome\"}</td>\n",
       "      <td>47</td>\n",
       "      <td>kelp-welcome</td>\n",
       "      <td>1</td>\n",
       "      <td>1</td>\n",
       "      <td>text_string: Check your AQOS Tablet to see all...</td>\n",
       "      <td>2</td>\n",
       "      <td>kelp-welcome</td>\n",
       "    </tr>\n",
       "    <tr>\n",
       "      <th>3</th>\n",
       "      <td>23071010042645319</td>\n",
       "      <td>2023-07-10 14:08:26.529000+00:00</td>\n",
       "      <td>script_line_displayed</td>\n",
       "      <td>{\"http_user_agent\": \"Mozilla/5.0 (X11; CrOS x8...</td>\n",
       "      <td>AbleLeft</td>\n",
       "      <td>{\"job_name\": \"kelp-welcome\"}</td>\n",
       "      <td>48</td>\n",
       "      <td>kelp-welcome</td>\n",
       "      <td>1</td>\n",
       "      <td>1</td>\n",
       "      <td>text_string: Gracias, Olivia!</td>\n",
       "      <td>8</td>\n",
       "      <td>kelp-welcome</td>\n",
       "    </tr>\n",
       "    <tr>\n",
       "      <th>4</th>\n",
       "      <td>23071010042645319</td>\n",
       "      <td>2023-07-10 14:08:27.996000+00:00</td>\n",
       "      <td>script_line_displayed</td>\n",
       "      <td>{\"http_user_agent\": \"Mozilla/5.0 (X11; CrOS x8...</td>\n",
       "      <td>AbleLeft</td>\n",
       "      <td>{\"job_name\": \"kelp-welcome\"}</td>\n",
       "      <td>49</td>\n",
       "      <td>kelp-welcome</td>\n",
       "      <td>1</td>\n",
       "      <td>1</td>\n",
       "      <td>text_string: I'll get the AquaLab set up for you.</td>\n",
       "      <td>10</td>\n",
       "      <td>kelp-welcome</td>\n",
       "    </tr>\n",
       "  </tbody>\n",
       "</table>\n",
       "</div>"
      ],
      "text/plain": [
       "          session_id                        timestamp             event_name  \\\n",
       "0  23071010042645319 2023-07-10 14:08:18.198000+00:00             switch_job   \n",
       "1  23071010042645319 2023-07-10 14:08:19.213000+00:00           script_fired   \n",
       "2  23071010042645319 2023-07-10 14:08:19.841000+00:00  script_line_displayed   \n",
       "3  23071010042645319 2023-07-10 14:08:26.529000+00:00  script_line_displayed   \n",
       "4  23071010042645319 2023-07-10 14:08:27.996000+00:00  script_line_displayed   \n",
       "\n",
       "                                          event_data   user_id  \\\n",
       "0  {\"http_user_agent\": \"Mozilla/5.0 (X11; CrOS x8...  AbleLeft   \n",
       "1  {\"http_user_agent\": \"Mozilla/5.0 (X11; CrOS x8...  AbleLeft   \n",
       "2  {\"http_user_agent\": \"Mozilla/5.0 (X11; CrOS x8...  AbleLeft   \n",
       "3  {\"http_user_agent\": \"Mozilla/5.0 (X11; CrOS x8...  AbleLeft   \n",
       "4  {\"http_user_agent\": \"Mozilla/5.0 (X11; CrOS x8...  AbleLeft   \n",
       "\n",
       "                     game_state  index    job_string  task_id  session  \\\n",
       "0  {\"job_name\": \"kelp-welcome\"}     45  kelp-welcome        1        1   \n",
       "1  {\"job_name\": \"kelp-welcome\"}     46  kelp-welcome        1        1   \n",
       "2  {\"job_name\": \"kelp-welcome\"}     47  kelp-welcome        1        1   \n",
       "3  {\"job_name\": \"kelp-welcome\"}     48  kelp-welcome        1        1   \n",
       "4  {\"job_name\": \"kelp-welcome\"}     49  kelp-welcome        1        1   \n",
       "\n",
       "                                              detail  time_since_start  \\\n",
       "0                                                NaN                 0   \n",
       "1                    node_id: job.kelp-welcome.start                 1   \n",
       "2  text_string: Check your AQOS Tablet to see all...                 2   \n",
       "3                      text_string: Gracias, Olivia!                 8   \n",
       "4  text_string: I'll get the AquaLab set up for you.                10   \n",
       "\n",
       "       job_name  \n",
       "0  kelp-welcome  \n",
       "1  kelp-welcome  \n",
       "2  kelp-welcome  \n",
       "3  kelp-welcome  \n",
       "4  kelp-welcome  "
      ]
     },
     "execution_count": 243,
     "metadata": {},
     "output_type": "execute_result"
    }
   ],
   "source": [
    "event_data = pd.read_csv('events.csv')\n",
    "event_data['job_name'] = event_data['game_state'].apply(extract_job_name)\n",
    "event_data[\"timestamp\"] = pd.to_datetime(event_data[\"timestamp\"], format='mixed')\n",
    "event_data.head()"
   ]
  },
  {
   "cell_type": "code",
   "execution_count": 244,
   "metadata": {},
   "outputs": [
    {
     "name": "stdout",
     "output_type": "stream",
     "text": [
      "0 rows removed (~0.0 %)\n"
     ]
    }
   ],
   "source": [
    "clean_df = event_data[[\"event_name\", \"job_name\", \"task_id\"]] # , \"user_id\", \"session_id\"]]\n",
    "clean_df = clean_df.dropna()\n",
    "print(f\"{len(event_data) - len(clean_df)} rows removed (~{round((len(event_data) - len(clean_df)) / len(event_data),2)} %)\")"
   ]
  },
  {
   "cell_type": "markdown",
   "metadata": {},
   "source": [
    "one hot encoding of `event_name` and `job_name`"
   ]
  },
  {
   "cell_type": "code",
   "execution_count": 245,
   "metadata": {},
   "outputs": [
    {
     "data": {
      "text/html": [
       "<div>\n",
       "<style scoped>\n",
       "    .dataframe tbody tr th:only-of-type {\n",
       "        vertical-align: middle;\n",
       "    }\n",
       "\n",
       "    .dataframe tbody tr th {\n",
       "        vertical-align: top;\n",
       "    }\n",
       "\n",
       "    .dataframe thead th {\n",
       "        text-align: right;\n",
       "    }\n",
       "</style>\n",
       "<table border=\"1\" class=\"dataframe\">\n",
       "  <thead>\n",
       "    <tr style=\"text-align: right;\">\n",
       "      <th></th>\n",
       "      <th>job_name</th>\n",
       "      <th>task_id</th>\n",
       "      <th>event_name_accept_job</th>\n",
       "      <th>event_name_add_critter</th>\n",
       "      <th>event_name_add_environment</th>\n",
       "      <th>event_name_ask_for_help</th>\n",
       "      <th>event_name_begin_argument</th>\n",
       "      <th>event_name_begin_dive</th>\n",
       "      <th>event_name_begin_experiment</th>\n",
       "      <th>event_name_begin_model</th>\n",
       "      <th>...</th>\n",
       "      <th>event_name_remove_critter</th>\n",
       "      <th>event_name_remove_environment</th>\n",
       "      <th>event_name_room_changed</th>\n",
       "      <th>event_name_scene_changed</th>\n",
       "      <th>event_name_script_fired</th>\n",
       "      <th>event_name_script_line_displayed</th>\n",
       "      <th>event_name_simulation_sync_achieved</th>\n",
       "      <th>event_name_status_open_job_tab</th>\n",
       "      <th>event_name_switch_job</th>\n",
       "      <th>event_name_upgrade_fact</th>\n",
       "    </tr>\n",
       "  </thead>\n",
       "  <tbody>\n",
       "    <tr>\n",
       "      <th>0</th>\n",
       "      <td>kelp-welcome</td>\n",
       "      <td>1</td>\n",
       "      <td>0.0</td>\n",
       "      <td>0.0</td>\n",
       "      <td>0.0</td>\n",
       "      <td>0.0</td>\n",
       "      <td>0.0</td>\n",
       "      <td>0.0</td>\n",
       "      <td>0.0</td>\n",
       "      <td>0.0</td>\n",
       "      <td>...</td>\n",
       "      <td>0.0</td>\n",
       "      <td>0.0</td>\n",
       "      <td>0.0</td>\n",
       "      <td>0.0</td>\n",
       "      <td>0.0</td>\n",
       "      <td>0.0</td>\n",
       "      <td>0.0</td>\n",
       "      <td>0.0</td>\n",
       "      <td>1.0</td>\n",
       "      <td>0.0</td>\n",
       "    </tr>\n",
       "    <tr>\n",
       "      <th>1</th>\n",
       "      <td>kelp-welcome</td>\n",
       "      <td>1</td>\n",
       "      <td>0.0</td>\n",
       "      <td>0.0</td>\n",
       "      <td>0.0</td>\n",
       "      <td>0.0</td>\n",
       "      <td>0.0</td>\n",
       "      <td>0.0</td>\n",
       "      <td>0.0</td>\n",
       "      <td>0.0</td>\n",
       "      <td>...</td>\n",
       "      <td>0.0</td>\n",
       "      <td>0.0</td>\n",
       "      <td>0.0</td>\n",
       "      <td>0.0</td>\n",
       "      <td>1.0</td>\n",
       "      <td>0.0</td>\n",
       "      <td>0.0</td>\n",
       "      <td>0.0</td>\n",
       "      <td>0.0</td>\n",
       "      <td>0.0</td>\n",
       "    </tr>\n",
       "    <tr>\n",
       "      <th>2</th>\n",
       "      <td>kelp-welcome</td>\n",
       "      <td>1</td>\n",
       "      <td>0.0</td>\n",
       "      <td>0.0</td>\n",
       "      <td>0.0</td>\n",
       "      <td>0.0</td>\n",
       "      <td>0.0</td>\n",
       "      <td>0.0</td>\n",
       "      <td>0.0</td>\n",
       "      <td>0.0</td>\n",
       "      <td>...</td>\n",
       "      <td>0.0</td>\n",
       "      <td>0.0</td>\n",
       "      <td>0.0</td>\n",
       "      <td>0.0</td>\n",
       "      <td>0.0</td>\n",
       "      <td>1.0</td>\n",
       "      <td>0.0</td>\n",
       "      <td>0.0</td>\n",
       "      <td>0.0</td>\n",
       "      <td>0.0</td>\n",
       "    </tr>\n",
       "    <tr>\n",
       "      <th>3</th>\n",
       "      <td>kelp-welcome</td>\n",
       "      <td>1</td>\n",
       "      <td>0.0</td>\n",
       "      <td>0.0</td>\n",
       "      <td>0.0</td>\n",
       "      <td>0.0</td>\n",
       "      <td>0.0</td>\n",
       "      <td>0.0</td>\n",
       "      <td>0.0</td>\n",
       "      <td>0.0</td>\n",
       "      <td>...</td>\n",
       "      <td>0.0</td>\n",
       "      <td>0.0</td>\n",
       "      <td>0.0</td>\n",
       "      <td>0.0</td>\n",
       "      <td>0.0</td>\n",
       "      <td>1.0</td>\n",
       "      <td>0.0</td>\n",
       "      <td>0.0</td>\n",
       "      <td>0.0</td>\n",
       "      <td>0.0</td>\n",
       "    </tr>\n",
       "    <tr>\n",
       "      <th>4</th>\n",
       "      <td>kelp-welcome</td>\n",
       "      <td>1</td>\n",
       "      <td>0.0</td>\n",
       "      <td>0.0</td>\n",
       "      <td>0.0</td>\n",
       "      <td>0.0</td>\n",
       "      <td>0.0</td>\n",
       "      <td>0.0</td>\n",
       "      <td>0.0</td>\n",
       "      <td>0.0</td>\n",
       "      <td>...</td>\n",
       "      <td>0.0</td>\n",
       "      <td>0.0</td>\n",
       "      <td>0.0</td>\n",
       "      <td>0.0</td>\n",
       "      <td>0.0</td>\n",
       "      <td>1.0</td>\n",
       "      <td>0.0</td>\n",
       "      <td>0.0</td>\n",
       "      <td>0.0</td>\n",
       "      <td>0.0</td>\n",
       "    </tr>\n",
       "  </tbody>\n",
       "</table>\n",
       "<p>5 rows × 51 columns</p>\n",
       "</div>"
      ],
      "text/plain": [
       "       job_name  task_id  event_name_accept_job  event_name_add_critter  \\\n",
       "0  kelp-welcome        1                    0.0                     0.0   \n",
       "1  kelp-welcome        1                    0.0                     0.0   \n",
       "2  kelp-welcome        1                    0.0                     0.0   \n",
       "3  kelp-welcome        1                    0.0                     0.0   \n",
       "4  kelp-welcome        1                    0.0                     0.0   \n",
       "\n",
       "   event_name_add_environment  event_name_ask_for_help  \\\n",
       "0                         0.0                      0.0   \n",
       "1                         0.0                      0.0   \n",
       "2                         0.0                      0.0   \n",
       "3                         0.0                      0.0   \n",
       "4                         0.0                      0.0   \n",
       "\n",
       "   event_name_begin_argument  event_name_begin_dive  \\\n",
       "0                        0.0                    0.0   \n",
       "1                        0.0                    0.0   \n",
       "2                        0.0                    0.0   \n",
       "3                        0.0                    0.0   \n",
       "4                        0.0                    0.0   \n",
       "\n",
       "   event_name_begin_experiment  event_name_begin_model  ...  \\\n",
       "0                          0.0                     0.0  ...   \n",
       "1                          0.0                     0.0  ...   \n",
       "2                          0.0                     0.0  ...   \n",
       "3                          0.0                     0.0  ...   \n",
       "4                          0.0                     0.0  ...   \n",
       "\n",
       "   event_name_remove_critter  event_name_remove_environment  \\\n",
       "0                        0.0                            0.0   \n",
       "1                        0.0                            0.0   \n",
       "2                        0.0                            0.0   \n",
       "3                        0.0                            0.0   \n",
       "4                        0.0                            0.0   \n",
       "\n",
       "   event_name_room_changed  event_name_scene_changed  event_name_script_fired  \\\n",
       "0                      0.0                       0.0                      0.0   \n",
       "1                      0.0                       0.0                      1.0   \n",
       "2                      0.0                       0.0                      0.0   \n",
       "3                      0.0                       0.0                      0.0   \n",
       "4                      0.0                       0.0                      0.0   \n",
       "\n",
       "   event_name_script_line_displayed  event_name_simulation_sync_achieved  \\\n",
       "0                               0.0                                  0.0   \n",
       "1                               0.0                                  0.0   \n",
       "2                               1.0                                  0.0   \n",
       "3                               1.0                                  0.0   \n",
       "4                               1.0                                  0.0   \n",
       "\n",
       "   event_name_status_open_job_tab  event_name_switch_job  \\\n",
       "0                             0.0                    1.0   \n",
       "1                             0.0                    0.0   \n",
       "2                             0.0                    0.0   \n",
       "3                             0.0                    0.0   \n",
       "4                             0.0                    0.0   \n",
       "\n",
       "   event_name_upgrade_fact  \n",
       "0                      0.0  \n",
       "1                      0.0  \n",
       "2                      0.0  \n",
       "3                      0.0  \n",
       "4                      0.0  \n",
       "\n",
       "[5 rows x 51 columns]"
      ]
     },
     "execution_count": 245,
     "metadata": {},
     "output_type": "execute_result"
    }
   ],
   "source": [
    "clean_1hot_df = pd.get_dummies(clean_df, columns=[\"event_name\"], dtype=float)\n",
    "clean_1hot_df.head()"
   ]
  },
  {
   "cell_type": "markdown",
   "metadata": {},
   "source": [
    "group by job_name and get percentages, sum and row count as new features"
   ]
  },
  {
   "cell_type": "code",
   "execution_count": 259,
   "metadata": {},
   "outputs": [
    {
     "data": {
      "text/html": [
       "<div>\n",
       "<style scoped>\n",
       "    .dataframe tbody tr th:only-of-type {\n",
       "        vertical-align: middle;\n",
       "    }\n",
       "\n",
       "    .dataframe tbody tr th {\n",
       "        vertical-align: top;\n",
       "    }\n",
       "\n",
       "    .dataframe thead th {\n",
       "        text-align: right;\n",
       "    }\n",
       "</style>\n",
       "<table border=\"1\" class=\"dataframe\">\n",
       "  <thead>\n",
       "    <tr style=\"text-align: right;\">\n",
       "      <th></th>\n",
       "      <th>event_name_add_critter_percent</th>\n",
       "      <th>event_name_add_critter_sum</th>\n",
       "      <th>row_count</th>\n",
       "    </tr>\n",
       "  </thead>\n",
       "  <tbody>\n",
       "    <tr>\n",
       "      <th>0</th>\n",
       "      <td>3.191489</td>\n",
       "      <td>6.0</td>\n",
       "      <td>188</td>\n",
       "    </tr>\n",
       "    <tr>\n",
       "      <th>1</th>\n",
       "      <td>6.422018</td>\n",
       "      <td>7.0</td>\n",
       "      <td>109</td>\n",
       "    </tr>\n",
       "    <tr>\n",
       "      <th>2</th>\n",
       "      <td>0.000000</td>\n",
       "      <td>0.0</td>\n",
       "      <td>129</td>\n",
       "    </tr>\n",
       "    <tr>\n",
       "      <th>3</th>\n",
       "      <td>0.000000</td>\n",
       "      <td>0.0</td>\n",
       "      <td>101</td>\n",
       "    </tr>\n",
       "    <tr>\n",
       "      <th>4</th>\n",
       "      <td>0.000000</td>\n",
       "      <td>0.0</td>\n",
       "      <td>83</td>\n",
       "    </tr>\n",
       "  </tbody>\n",
       "</table>\n",
       "</div>"
      ],
      "text/plain": [
       "   event_name_add_critter_percent  event_name_add_critter_sum  row_count\n",
       "0                        3.191489                         6.0        188\n",
       "1                        6.422018                         7.0        109\n",
       "2                        0.000000                         0.0        129\n",
       "3                        0.000000                         0.0        101\n",
       "4                        0.000000                         0.0         83"
      ]
     },
     "execution_count": 259,
     "metadata": {},
     "output_type": "execute_result"
    }
   ],
   "source": [
    "grouped = clean_1hot_df.groupby([\"task_id\", \"job_name\"])\n",
    "\n",
    "percent_df = grouped.mean() * 100\n",
    "sum_df = grouped.sum()\n",
    "count_df = grouped.size().rename(\"row_count\")\n",
    "\n",
    "clean_agg_df = (\n",
    "    percent_df\n",
    "    .reset_index()\n",
    "    .merge(sum_df.reset_index(), on=[\"task_id\", \"job_name\"], suffixes=('_percent', '_sum'))\n",
    "    .merge(count_df.reset_index(), on=[\"task_id\", \"job_name\"])\n",
    ")\n",
    "clean_agg_df[[\"event_name_add_critter_percent\", \"event_name_add_critter_sum\", \"row_count\"]].head()"
   ]
  },
  {
   "cell_type": "markdown",
   "metadata": {},
   "source": [
    "one hot encoding for `job_name` column"
   ]
  },
  {
   "cell_type": "code",
   "execution_count": 260,
   "metadata": {},
   "outputs": [
    {
     "data": {
      "text/html": [
       "<div>\n",
       "<style scoped>\n",
       "    .dataframe tbody tr th:only-of-type {\n",
       "        vertical-align: middle;\n",
       "    }\n",
       "\n",
       "    .dataframe tbody tr th {\n",
       "        vertical-align: top;\n",
       "    }\n",
       "\n",
       "    .dataframe thead th {\n",
       "        text-align: right;\n",
       "    }\n",
       "</style>\n",
       "<table border=\"1\" class=\"dataframe\">\n",
       "  <thead>\n",
       "    <tr style=\"text-align: right;\">\n",
       "      <th></th>\n",
       "      <th>task_id</th>\n",
       "      <th>event_name_accept_job_percent</th>\n",
       "      <th>event_name_add_critter_percent</th>\n",
       "      <th>event_name_add_environment_percent</th>\n",
       "      <th>event_name_ask_for_help_percent</th>\n",
       "      <th>event_name_begin_argument_percent</th>\n",
       "      <th>event_name_begin_dive_percent</th>\n",
       "      <th>event_name_begin_experiment_percent</th>\n",
       "      <th>event_name_begin_model_percent</th>\n",
       "      <th>event_name_begin_simulation_percent</th>\n",
       "      <th>...</th>\n",
       "      <th>job_name_kelp-refuge-failure</th>\n",
       "      <th>job_name_kelp-save-urchin-barren</th>\n",
       "      <th>job_name_kelp-shop-welcome</th>\n",
       "      <th>job_name_kelp-start-refuge</th>\n",
       "      <th>job_name_kelp-urchin-barren-predict</th>\n",
       "      <th>job_name_kelp-urchin-barren-viz</th>\n",
       "      <th>job_name_kelp-urchin-farm</th>\n",
       "      <th>job_name_kelp-welcome</th>\n",
       "      <th>job_name_turtle-danger</th>\n",
       "      <th>job_name_turtle-danger2</th>\n",
       "    </tr>\n",
       "  </thead>\n",
       "  <tbody>\n",
       "    <tr>\n",
       "      <th>0</th>\n",
       "      <td>1</td>\n",
       "      <td>0.0</td>\n",
       "      <td>3.191489</td>\n",
       "      <td>1.063830</td>\n",
       "      <td>1.595745</td>\n",
       "      <td>1.595745</td>\n",
       "      <td>0.000000</td>\n",
       "      <td>1.063830</td>\n",
       "      <td>0.0</td>\n",
       "      <td>0.0</td>\n",
       "      <td>...</td>\n",
       "      <td>0.0</td>\n",
       "      <td>0.0</td>\n",
       "      <td>0.0</td>\n",
       "      <td>0.0</td>\n",
       "      <td>0.0</td>\n",
       "      <td>0.0</td>\n",
       "      <td>0.0</td>\n",
       "      <td>1.0</td>\n",
       "      <td>0.0</td>\n",
       "      <td>0.0</td>\n",
       "    </tr>\n",
       "    <tr>\n",
       "      <th>1</th>\n",
       "      <td>2</td>\n",
       "      <td>0.0</td>\n",
       "      <td>6.422018</td>\n",
       "      <td>1.834862</td>\n",
       "      <td>1.834862</td>\n",
       "      <td>1.834862</td>\n",
       "      <td>2.752294</td>\n",
       "      <td>1.834862</td>\n",
       "      <td>0.0</td>\n",
       "      <td>0.0</td>\n",
       "      <td>...</td>\n",
       "      <td>0.0</td>\n",
       "      <td>0.0</td>\n",
       "      <td>0.0</td>\n",
       "      <td>0.0</td>\n",
       "      <td>0.0</td>\n",
       "      <td>0.0</td>\n",
       "      <td>0.0</td>\n",
       "      <td>0.0</td>\n",
       "      <td>0.0</td>\n",
       "      <td>0.0</td>\n",
       "    </tr>\n",
       "    <tr>\n",
       "      <th>2</th>\n",
       "      <td>3</td>\n",
       "      <td>0.0</td>\n",
       "      <td>0.000000</td>\n",
       "      <td>0.000000</td>\n",
       "      <td>1.550388</td>\n",
       "      <td>0.000000</td>\n",
       "      <td>0.775194</td>\n",
       "      <td>0.000000</td>\n",
       "      <td>0.0</td>\n",
       "      <td>0.0</td>\n",
       "      <td>...</td>\n",
       "      <td>0.0</td>\n",
       "      <td>0.0</td>\n",
       "      <td>1.0</td>\n",
       "      <td>0.0</td>\n",
       "      <td>0.0</td>\n",
       "      <td>0.0</td>\n",
       "      <td>0.0</td>\n",
       "      <td>0.0</td>\n",
       "      <td>0.0</td>\n",
       "      <td>0.0</td>\n",
       "    </tr>\n",
       "    <tr>\n",
       "      <th>3</th>\n",
       "      <td>4</td>\n",
       "      <td>0.0</td>\n",
       "      <td>0.000000</td>\n",
       "      <td>0.000000</td>\n",
       "      <td>0.000000</td>\n",
       "      <td>0.000000</td>\n",
       "      <td>2.970297</td>\n",
       "      <td>0.000000</td>\n",
       "      <td>0.0</td>\n",
       "      <td>0.0</td>\n",
       "      <td>...</td>\n",
       "      <td>0.0</td>\n",
       "      <td>0.0</td>\n",
       "      <td>0.0</td>\n",
       "      <td>0.0</td>\n",
       "      <td>0.0</td>\n",
       "      <td>0.0</td>\n",
       "      <td>0.0</td>\n",
       "      <td>0.0</td>\n",
       "      <td>0.0</td>\n",
       "      <td>0.0</td>\n",
       "    </tr>\n",
       "    <tr>\n",
       "      <th>4</th>\n",
       "      <td>9</td>\n",
       "      <td>0.0</td>\n",
       "      <td>0.000000</td>\n",
       "      <td>0.000000</td>\n",
       "      <td>0.000000</td>\n",
       "      <td>3.614458</td>\n",
       "      <td>0.000000</td>\n",
       "      <td>0.000000</td>\n",
       "      <td>0.0</td>\n",
       "      <td>0.0</td>\n",
       "      <td>...</td>\n",
       "      <td>0.0</td>\n",
       "      <td>0.0</td>\n",
       "      <td>0.0</td>\n",
       "      <td>0.0</td>\n",
       "      <td>0.0</td>\n",
       "      <td>0.0</td>\n",
       "      <td>0.0</td>\n",
       "      <td>0.0</td>\n",
       "      <td>0.0</td>\n",
       "      <td>0.0</td>\n",
       "    </tr>\n",
       "  </tbody>\n",
       "</table>\n",
       "<p>5 rows × 141 columns</p>\n",
       "</div>"
      ],
      "text/plain": [
       "   task_id  event_name_accept_job_percent  event_name_add_critter_percent  \\\n",
       "0        1                            0.0                        3.191489   \n",
       "1        2                            0.0                        6.422018   \n",
       "2        3                            0.0                        0.000000   \n",
       "3        4                            0.0                        0.000000   \n",
       "4        9                            0.0                        0.000000   \n",
       "\n",
       "   event_name_add_environment_percent  event_name_ask_for_help_percent  \\\n",
       "0                            1.063830                         1.595745   \n",
       "1                            1.834862                         1.834862   \n",
       "2                            0.000000                         1.550388   \n",
       "3                            0.000000                         0.000000   \n",
       "4                            0.000000                         0.000000   \n",
       "\n",
       "   event_name_begin_argument_percent  event_name_begin_dive_percent  \\\n",
       "0                           1.595745                       0.000000   \n",
       "1                           1.834862                       2.752294   \n",
       "2                           0.000000                       0.775194   \n",
       "3                           0.000000                       2.970297   \n",
       "4                           3.614458                       0.000000   \n",
       "\n",
       "   event_name_begin_experiment_percent  event_name_begin_model_percent  \\\n",
       "0                             1.063830                             0.0   \n",
       "1                             1.834862                             0.0   \n",
       "2                             0.000000                             0.0   \n",
       "3                             0.000000                             0.0   \n",
       "4                             0.000000                             0.0   \n",
       "\n",
       "   event_name_begin_simulation_percent  ...  job_name_kelp-refuge-failure  \\\n",
       "0                                  0.0  ...                           0.0   \n",
       "1                                  0.0  ...                           0.0   \n",
       "2                                  0.0  ...                           0.0   \n",
       "3                                  0.0  ...                           0.0   \n",
       "4                                  0.0  ...                           0.0   \n",
       "\n",
       "   job_name_kelp-save-urchin-barren  job_name_kelp-shop-welcome  \\\n",
       "0                               0.0                         0.0   \n",
       "1                               0.0                         0.0   \n",
       "2                               0.0                         1.0   \n",
       "3                               0.0                         0.0   \n",
       "4                               0.0                         0.0   \n",
       "\n",
       "   job_name_kelp-start-refuge  job_name_kelp-urchin-barren-predict  \\\n",
       "0                         0.0                                  0.0   \n",
       "1                         0.0                                  0.0   \n",
       "2                         0.0                                  0.0   \n",
       "3                         0.0                                  0.0   \n",
       "4                         0.0                                  0.0   \n",
       "\n",
       "   job_name_kelp-urchin-barren-viz  job_name_kelp-urchin-farm  \\\n",
       "0                              0.0                        0.0   \n",
       "1                              0.0                        0.0   \n",
       "2                              0.0                        0.0   \n",
       "3                              0.0                        0.0   \n",
       "4                              0.0                        0.0   \n",
       "\n",
       "   job_name_kelp-welcome  job_name_turtle-danger  job_name_turtle-danger2  \n",
       "0                    1.0                     0.0                      0.0  \n",
       "1                    0.0                     0.0                      0.0  \n",
       "2                    0.0                     0.0                      0.0  \n",
       "3                    0.0                     0.0                      0.0  \n",
       "4                    0.0                     0.0                      0.0  \n",
       "\n",
       "[5 rows x 141 columns]"
      ]
     },
     "execution_count": 260,
     "metadata": {},
     "output_type": "execute_result"
    }
   ],
   "source": [
    "train_df = pd.get_dummies(clean_agg_df, columns=[\"job_name\"], dtype=float)\n",
    "train_df.head()"
   ]
  },
  {
   "cell_type": "markdown",
   "metadata": {},
   "source": [
    "Loading classified tasks"
   ]
  },
  {
   "cell_type": "code",
   "execution_count": 270,
   "metadata": {},
   "outputs": [
    {
     "data": {
      "text/html": [
       "<div>\n",
       "<style scoped>\n",
       "    .dataframe tbody tr th:only-of-type {\n",
       "        vertical-align: middle;\n",
       "    }\n",
       "\n",
       "    .dataframe tbody tr th {\n",
       "        vertical-align: top;\n",
       "    }\n",
       "\n",
       "    .dataframe thead th {\n",
       "        text-align: right;\n",
       "    }\n",
       "</style>\n",
       "<table border=\"1\" class=\"dataframe\">\n",
       "  <thead>\n",
       "    <tr style=\"text-align: right;\">\n",
       "      <th></th>\n",
       "      <th>task_id</th>\n",
       "      <th>response</th>\n",
       "      <th>text</th>\n",
       "    </tr>\n",
       "  </thead>\n",
       "  <tbody>\n",
       "    <tr>\n",
       "      <th>0</th>\n",
       "      <td>1</td>\n",
       "      <td>0</td>\n",
       "      <td>Job: kelp-welcome\\n\\nTime 0:\\nEvent: switch_jo...</td>\n",
       "    </tr>\n",
       "    <tr>\n",
       "      <th>1</th>\n",
       "      <td>2</td>\n",
       "      <td>1</td>\n",
       "      <td>Job: kelp-bull-kelp-forest\\n\\nTime 0:\\nEvent: ...</td>\n",
       "    </tr>\n",
       "    <tr>\n",
       "      <th>2</th>\n",
       "      <td>3</td>\n",
       "      <td>0</td>\n",
       "      <td>Job: kelp-shop-welcome\\n\\nTime 0:\\nEvent: swit...</td>\n",
       "    </tr>\n",
       "    <tr>\n",
       "      <th>3</th>\n",
       "      <td>4</td>\n",
       "      <td>0</td>\n",
       "      <td>Job: arctic-missing-whale\\n\\nTime 0:\\nEvent: s...</td>\n",
       "    </tr>\n",
       "    <tr>\n",
       "      <th>4</th>\n",
       "      <td>9</td>\n",
       "      <td>1</td>\n",
       "      <td>Job: displaced-reef\\n\\nTime 0:\\nEvent: switch_...</td>\n",
       "    </tr>\n",
       "  </tbody>\n",
       "</table>\n",
       "</div>"
      ],
      "text/plain": [
       "   task_id  response                                               text\n",
       "0        1         0  Job: kelp-welcome\\n\\nTime 0:\\nEvent: switch_jo...\n",
       "1        2         1  Job: kelp-bull-kelp-forest\\n\\nTime 0:\\nEvent: ...\n",
       "2        3         0  Job: kelp-shop-welcome\\n\\nTime 0:\\nEvent: swit...\n",
       "3        4         0  Job: arctic-missing-whale\\n\\nTime 0:\\nEvent: s...\n",
       "4        9         1  Job: displaced-reef\\n\\nTime 0:\\nEvent: switch_..."
      ]
     },
     "execution_count": 270,
     "metadata": {},
     "output_type": "execute_result"
    }
   ],
   "source": [
    "text_replays_df = pd.read_excel('coded_replays.xlsx')\n",
    "text_replays_df.head()"
   ]
  },
  {
   "cell_type": "code",
   "execution_count": 305,
   "metadata": {},
   "outputs": [
    {
     "data": {
      "application/vnd.plotly.v1+json": {
       "config": {
        "plotlyServerURL": "https://plot.ly"
       },
       "data": [
        {
         "hovertemplate": "response=%{x}<br>count=%{y}<br>percentage=%{text}<extra></extra>",
         "legendgroup": "No Struggle",
         "marker": {
          "color": "#636efa",
          "pattern": {
           "shape": ""
          }
         },
         "name": "No Struggle",
         "orientation": "v",
         "showlegend": true,
         "text": {
          "bdata": "AAAAAAAAS0A=",
          "dtype": "f8"
         },
         "textposition": "inside",
         "texttemplate": "%{text:.1f}%",
         "type": "bar",
         "x": [
          "No Struggle"
         ],
         "xaxis": "x",
         "y": {
          "bdata": "Ng==",
          "dtype": "i1"
         },
         "yaxis": "y"
        },
        {
         "hovertemplate": "response=%{x}<br>count=%{y}<br>percentage=%{text}<extra></extra>",
         "legendgroup": "Has Struggle",
         "marker": {
          "color": "#EF553B",
          "pattern": {
           "shape": ""
          }
         },
         "name": "Has Struggle",
         "orientation": "v",
         "showlegend": true,
         "text": {
          "bdata": "AAAAAAAAR0A=",
          "dtype": "f8"
         },
         "textposition": "inside",
         "texttemplate": "%{text:.1f}%",
         "type": "bar",
         "x": [
          "Has Struggle"
         ],
         "xaxis": "x",
         "y": {
          "bdata": "Lg==",
          "dtype": "i1"
         },
         "yaxis": "y"
        }
       ],
       "layout": {
        "barmode": "relative",
        "font": {
         "size": 14
        },
        "height": 500,
        "legend": {
         "title": {
          "text": "response"
         },
         "tracegroupgap": 0
        },
        "template": {
         "data": {
          "bar": [
           {
            "error_x": {
             "color": "#2a3f5f"
            },
            "error_y": {
             "color": "#2a3f5f"
            },
            "marker": {
             "line": {
              "color": "#E5ECF6",
              "width": 0.5
             },
             "pattern": {
              "fillmode": "overlay",
              "size": 10,
              "solidity": 0.2
             }
            },
            "type": "bar"
           }
          ],
          "barpolar": [
           {
            "marker": {
             "line": {
              "color": "#E5ECF6",
              "width": 0.5
             },
             "pattern": {
              "fillmode": "overlay",
              "size": 10,
              "solidity": 0.2
             }
            },
            "type": "barpolar"
           }
          ],
          "carpet": [
           {
            "aaxis": {
             "endlinecolor": "#2a3f5f",
             "gridcolor": "white",
             "linecolor": "white",
             "minorgridcolor": "white",
             "startlinecolor": "#2a3f5f"
            },
            "baxis": {
             "endlinecolor": "#2a3f5f",
             "gridcolor": "white",
             "linecolor": "white",
             "minorgridcolor": "white",
             "startlinecolor": "#2a3f5f"
            },
            "type": "carpet"
           }
          ],
          "choropleth": [
           {
            "colorbar": {
             "outlinewidth": 0,
             "ticks": ""
            },
            "type": "choropleth"
           }
          ],
          "contour": [
           {
            "colorbar": {
             "outlinewidth": 0,
             "ticks": ""
            },
            "colorscale": [
             [
              0,
              "#0d0887"
             ],
             [
              0.1111111111111111,
              "#46039f"
             ],
             [
              0.2222222222222222,
              "#7201a8"
             ],
             [
              0.3333333333333333,
              "#9c179e"
             ],
             [
              0.4444444444444444,
              "#bd3786"
             ],
             [
              0.5555555555555556,
              "#d8576b"
             ],
             [
              0.6666666666666666,
              "#ed7953"
             ],
             [
              0.7777777777777778,
              "#fb9f3a"
             ],
             [
              0.8888888888888888,
              "#fdca26"
             ],
             [
              1,
              "#f0f921"
             ]
            ],
            "type": "contour"
           }
          ],
          "contourcarpet": [
           {
            "colorbar": {
             "outlinewidth": 0,
             "ticks": ""
            },
            "type": "contourcarpet"
           }
          ],
          "heatmap": [
           {
            "colorbar": {
             "outlinewidth": 0,
             "ticks": ""
            },
            "colorscale": [
             [
              0,
              "#0d0887"
             ],
             [
              0.1111111111111111,
              "#46039f"
             ],
             [
              0.2222222222222222,
              "#7201a8"
             ],
             [
              0.3333333333333333,
              "#9c179e"
             ],
             [
              0.4444444444444444,
              "#bd3786"
             ],
             [
              0.5555555555555556,
              "#d8576b"
             ],
             [
              0.6666666666666666,
              "#ed7953"
             ],
             [
              0.7777777777777778,
              "#fb9f3a"
             ],
             [
              0.8888888888888888,
              "#fdca26"
             ],
             [
              1,
              "#f0f921"
             ]
            ],
            "type": "heatmap"
           }
          ],
          "histogram": [
           {
            "marker": {
             "pattern": {
              "fillmode": "overlay",
              "size": 10,
              "solidity": 0.2
             }
            },
            "type": "histogram"
           }
          ],
          "histogram2d": [
           {
            "colorbar": {
             "outlinewidth": 0,
             "ticks": ""
            },
            "colorscale": [
             [
              0,
              "#0d0887"
             ],
             [
              0.1111111111111111,
              "#46039f"
             ],
             [
              0.2222222222222222,
              "#7201a8"
             ],
             [
              0.3333333333333333,
              "#9c179e"
             ],
             [
              0.4444444444444444,
              "#bd3786"
             ],
             [
              0.5555555555555556,
              "#d8576b"
             ],
             [
              0.6666666666666666,
              "#ed7953"
             ],
             [
              0.7777777777777778,
              "#fb9f3a"
             ],
             [
              0.8888888888888888,
              "#fdca26"
             ],
             [
              1,
              "#f0f921"
             ]
            ],
            "type": "histogram2d"
           }
          ],
          "histogram2dcontour": [
           {
            "colorbar": {
             "outlinewidth": 0,
             "ticks": ""
            },
            "colorscale": [
             [
              0,
              "#0d0887"
             ],
             [
              0.1111111111111111,
              "#46039f"
             ],
             [
              0.2222222222222222,
              "#7201a8"
             ],
             [
              0.3333333333333333,
              "#9c179e"
             ],
             [
              0.4444444444444444,
              "#bd3786"
             ],
             [
              0.5555555555555556,
              "#d8576b"
             ],
             [
              0.6666666666666666,
              "#ed7953"
             ],
             [
              0.7777777777777778,
              "#fb9f3a"
             ],
             [
              0.8888888888888888,
              "#fdca26"
             ],
             [
              1,
              "#f0f921"
             ]
            ],
            "type": "histogram2dcontour"
           }
          ],
          "mesh3d": [
           {
            "colorbar": {
             "outlinewidth": 0,
             "ticks": ""
            },
            "type": "mesh3d"
           }
          ],
          "parcoords": [
           {
            "line": {
             "colorbar": {
              "outlinewidth": 0,
              "ticks": ""
             }
            },
            "type": "parcoords"
           }
          ],
          "pie": [
           {
            "automargin": true,
            "type": "pie"
           }
          ],
          "scatter": [
           {
            "fillpattern": {
             "fillmode": "overlay",
             "size": 10,
             "solidity": 0.2
            },
            "type": "scatter"
           }
          ],
          "scatter3d": [
           {
            "line": {
             "colorbar": {
              "outlinewidth": 0,
              "ticks": ""
             }
            },
            "marker": {
             "colorbar": {
              "outlinewidth": 0,
              "ticks": ""
             }
            },
            "type": "scatter3d"
           }
          ],
          "scattercarpet": [
           {
            "marker": {
             "colorbar": {
              "outlinewidth": 0,
              "ticks": ""
             }
            },
            "type": "scattercarpet"
           }
          ],
          "scattergeo": [
           {
            "marker": {
             "colorbar": {
              "outlinewidth": 0,
              "ticks": ""
             }
            },
            "type": "scattergeo"
           }
          ],
          "scattergl": [
           {
            "marker": {
             "colorbar": {
              "outlinewidth": 0,
              "ticks": ""
             }
            },
            "type": "scattergl"
           }
          ],
          "scattermap": [
           {
            "marker": {
             "colorbar": {
              "outlinewidth": 0,
              "ticks": ""
             }
            },
            "type": "scattermap"
           }
          ],
          "scattermapbox": [
           {
            "marker": {
             "colorbar": {
              "outlinewidth": 0,
              "ticks": ""
             }
            },
            "type": "scattermapbox"
           }
          ],
          "scatterpolar": [
           {
            "marker": {
             "colorbar": {
              "outlinewidth": 0,
              "ticks": ""
             }
            },
            "type": "scatterpolar"
           }
          ],
          "scatterpolargl": [
           {
            "marker": {
             "colorbar": {
              "outlinewidth": 0,
              "ticks": ""
             }
            },
            "type": "scatterpolargl"
           }
          ],
          "scatterternary": [
           {
            "marker": {
             "colorbar": {
              "outlinewidth": 0,
              "ticks": ""
             }
            },
            "type": "scatterternary"
           }
          ],
          "surface": [
           {
            "colorbar": {
             "outlinewidth": 0,
             "ticks": ""
            },
            "colorscale": [
             [
              0,
              "#0d0887"
             ],
             [
              0.1111111111111111,
              "#46039f"
             ],
             [
              0.2222222222222222,
              "#7201a8"
             ],
             [
              0.3333333333333333,
              "#9c179e"
             ],
             [
              0.4444444444444444,
              "#bd3786"
             ],
             [
              0.5555555555555556,
              "#d8576b"
             ],
             [
              0.6666666666666666,
              "#ed7953"
             ],
             [
              0.7777777777777778,
              "#fb9f3a"
             ],
             [
              0.8888888888888888,
              "#fdca26"
             ],
             [
              1,
              "#f0f921"
             ]
            ],
            "type": "surface"
           }
          ],
          "table": [
           {
            "cells": {
             "fill": {
              "color": "#EBF0F8"
             },
             "line": {
              "color": "white"
             }
            },
            "header": {
             "fill": {
              "color": "#C8D4E3"
             },
             "line": {
              "color": "white"
             }
            },
            "type": "table"
           }
          ]
         },
         "layout": {
          "annotationdefaults": {
           "arrowcolor": "#2a3f5f",
           "arrowhead": 0,
           "arrowwidth": 1
          },
          "autotypenumbers": "strict",
          "coloraxis": {
           "colorbar": {
            "outlinewidth": 0,
            "ticks": ""
           }
          },
          "colorscale": {
           "diverging": [
            [
             0,
             "#8e0152"
            ],
            [
             0.1,
             "#c51b7d"
            ],
            [
             0.2,
             "#de77ae"
            ],
            [
             0.3,
             "#f1b6da"
            ],
            [
             0.4,
             "#fde0ef"
            ],
            [
             0.5,
             "#f7f7f7"
            ],
            [
             0.6,
             "#e6f5d0"
            ],
            [
             0.7,
             "#b8e186"
            ],
            [
             0.8,
             "#7fbc41"
            ],
            [
             0.9,
             "#4d9221"
            ],
            [
             1,
             "#276419"
            ]
           ],
           "sequential": [
            [
             0,
             "#0d0887"
            ],
            [
             0.1111111111111111,
             "#46039f"
            ],
            [
             0.2222222222222222,
             "#7201a8"
            ],
            [
             0.3333333333333333,
             "#9c179e"
            ],
            [
             0.4444444444444444,
             "#bd3786"
            ],
            [
             0.5555555555555556,
             "#d8576b"
            ],
            [
             0.6666666666666666,
             "#ed7953"
            ],
            [
             0.7777777777777778,
             "#fb9f3a"
            ],
            [
             0.8888888888888888,
             "#fdca26"
            ],
            [
             1,
             "#f0f921"
            ]
           ],
           "sequentialminus": [
            [
             0,
             "#0d0887"
            ],
            [
             0.1111111111111111,
             "#46039f"
            ],
            [
             0.2222222222222222,
             "#7201a8"
            ],
            [
             0.3333333333333333,
             "#9c179e"
            ],
            [
             0.4444444444444444,
             "#bd3786"
            ],
            [
             0.5555555555555556,
             "#d8576b"
            ],
            [
             0.6666666666666666,
             "#ed7953"
            ],
            [
             0.7777777777777778,
             "#fb9f3a"
            ],
            [
             0.8888888888888888,
             "#fdca26"
            ],
            [
             1,
             "#f0f921"
            ]
           ]
          },
          "colorway": [
           "#636efa",
           "#EF553B",
           "#00cc96",
           "#ab63fa",
           "#FFA15A",
           "#19d3f3",
           "#FF6692",
           "#B6E880",
           "#FF97FF",
           "#FECB52"
          ],
          "font": {
           "color": "#2a3f5f"
          },
          "geo": {
           "bgcolor": "white",
           "lakecolor": "white",
           "landcolor": "#E5ECF6",
           "showlakes": true,
           "showland": true,
           "subunitcolor": "white"
          },
          "hoverlabel": {
           "align": "left"
          },
          "hovermode": "closest",
          "mapbox": {
           "style": "light"
          },
          "paper_bgcolor": "white",
          "plot_bgcolor": "#E5ECF6",
          "polar": {
           "angularaxis": {
            "gridcolor": "white",
            "linecolor": "white",
            "ticks": ""
           },
           "bgcolor": "#E5ECF6",
           "radialaxis": {
            "gridcolor": "white",
            "linecolor": "white",
            "ticks": ""
           }
          },
          "scene": {
           "xaxis": {
            "backgroundcolor": "#E5ECF6",
            "gridcolor": "white",
            "gridwidth": 2,
            "linecolor": "white",
            "showbackground": true,
            "ticks": "",
            "zerolinecolor": "white"
           },
           "yaxis": {
            "backgroundcolor": "#E5ECF6",
            "gridcolor": "white",
            "gridwidth": 2,
            "linecolor": "white",
            "showbackground": true,
            "ticks": "",
            "zerolinecolor": "white"
           },
           "zaxis": {
            "backgroundcolor": "#E5ECF6",
            "gridcolor": "white",
            "gridwidth": 2,
            "linecolor": "white",
            "showbackground": true,
            "ticks": "",
            "zerolinecolor": "white"
           }
          },
          "shapedefaults": {
           "line": {
            "color": "#2a3f5f"
           }
          },
          "ternary": {
           "aaxis": {
            "gridcolor": "white",
            "linecolor": "white",
            "ticks": ""
           },
           "baxis": {
            "gridcolor": "white",
            "linecolor": "white",
            "ticks": ""
           },
           "bgcolor": "#E5ECF6",
           "caxis": {
            "gridcolor": "white",
            "linecolor": "white",
            "ticks": ""
           }
          },
          "title": {
           "x": 0.05
          },
          "xaxis": {
           "automargin": true,
           "gridcolor": "white",
           "linecolor": "white",
           "ticks": "",
           "title": {
            "standoff": 15
           },
           "zerolinecolor": "white",
           "zerolinewidth": 2
          },
          "yaxis": {
           "automargin": true,
           "gridcolor": "white",
           "linecolor": "white",
           "ticks": "",
           "title": {
            "standoff": 15
           },
           "zerolinecolor": "white",
           "zerolinewidth": 2
          }
         }
        },
        "title": {
         "text": "response distribution"
        },
        "xaxis": {
         "anchor": "y",
         "categoryarray": [
          "No Struggle",
          "Has Struggle"
         ],
         "categoryorder": "array",
         "domain": [
          0,
          1
         ],
         "title": {
          "text": "response"
         }
        },
        "yaxis": {
         "anchor": "x",
         "domain": [
          0,
          1
         ],
         "title": {
          "text": "count"
         }
        }
       }
      }
     },
     "metadata": {},
     "output_type": "display_data"
    }
   ],
   "source": [
    "label_map = {0: \"No Struggle\", 1: \"Has Struggle\"}\n",
    "counts = text_replays_df['response'].map(label_map).value_counts().reset_index()\n",
    "counts.columns = ['response', 'count']\n",
    "counts['percentage'] = counts['count'] / counts['count'].sum() * 100\n",
    "fig = px.bar(counts, x='response', y='count', text='percentage', color='response', title=\"response distribution\", height=500)\n",
    "fig.update_traces(texttemplate='%{text:.1f}%', textposition='inside')\n",
    "fig.update_layout(\n",
    "    font=dict(size=14),\n",
    ")\n",
    "fig.show()"
   ]
  },
  {
   "cell_type": "markdown",
   "metadata": {},
   "source": [
    "merge the y column from `coded_replays.xlsx` and drop `task_id` column"
   ]
  },
  {
   "cell_type": "code",
   "execution_count": 262,
   "metadata": {},
   "outputs": [
    {
     "data": {
      "text/html": [
       "<div>\n",
       "<style scoped>\n",
       "    .dataframe tbody tr th:only-of-type {\n",
       "        vertical-align: middle;\n",
       "    }\n",
       "\n",
       "    .dataframe tbody tr th {\n",
       "        vertical-align: top;\n",
       "    }\n",
       "\n",
       "    .dataframe thead th {\n",
       "        text-align: right;\n",
       "    }\n",
       "</style>\n",
       "<table border=\"1\" class=\"dataframe\">\n",
       "  <thead>\n",
       "    <tr style=\"text-align: right;\">\n",
       "      <th></th>\n",
       "      <th>event_name_accept_job_percent</th>\n",
       "      <th>event_name_add_critter_percent</th>\n",
       "      <th>event_name_add_environment_percent</th>\n",
       "      <th>event_name_ask_for_help_percent</th>\n",
       "      <th>event_name_begin_argument_percent</th>\n",
       "      <th>event_name_begin_dive_percent</th>\n",
       "      <th>event_name_begin_experiment_percent</th>\n",
       "      <th>event_name_begin_model_percent</th>\n",
       "      <th>event_name_begin_simulation_percent</th>\n",
       "      <th>event_name_bestiary_open_environments_tab_percent</th>\n",
       "      <th>...</th>\n",
       "      <th>job_name_kelp-save-urchin-barren</th>\n",
       "      <th>job_name_kelp-shop-welcome</th>\n",
       "      <th>job_name_kelp-start-refuge</th>\n",
       "      <th>job_name_kelp-urchin-barren-predict</th>\n",
       "      <th>job_name_kelp-urchin-barren-viz</th>\n",
       "      <th>job_name_kelp-urchin-farm</th>\n",
       "      <th>job_name_kelp-welcome</th>\n",
       "      <th>job_name_turtle-danger</th>\n",
       "      <th>job_name_turtle-danger2</th>\n",
       "      <th>response</th>\n",
       "    </tr>\n",
       "  </thead>\n",
       "  <tbody>\n",
       "    <tr>\n",
       "      <th>0</th>\n",
       "      <td>0.0</td>\n",
       "      <td>3.191489</td>\n",
       "      <td>1.063830</td>\n",
       "      <td>1.595745</td>\n",
       "      <td>1.595745</td>\n",
       "      <td>0.000000</td>\n",
       "      <td>1.063830</td>\n",
       "      <td>0.0</td>\n",
       "      <td>0.0</td>\n",
       "      <td>0.000000</td>\n",
       "      <td>...</td>\n",
       "      <td>0.0</td>\n",
       "      <td>0.0</td>\n",
       "      <td>0.0</td>\n",
       "      <td>0.0</td>\n",
       "      <td>0.0</td>\n",
       "      <td>0.0</td>\n",
       "      <td>1.0</td>\n",
       "      <td>0.0</td>\n",
       "      <td>0.0</td>\n",
       "      <td>0</td>\n",
       "    </tr>\n",
       "    <tr>\n",
       "      <th>1</th>\n",
       "      <td>0.0</td>\n",
       "      <td>6.422018</td>\n",
       "      <td>1.834862</td>\n",
       "      <td>1.834862</td>\n",
       "      <td>1.834862</td>\n",
       "      <td>2.752294</td>\n",
       "      <td>1.834862</td>\n",
       "      <td>0.0</td>\n",
       "      <td>0.0</td>\n",
       "      <td>0.000000</td>\n",
       "      <td>...</td>\n",
       "      <td>0.0</td>\n",
       "      <td>0.0</td>\n",
       "      <td>0.0</td>\n",
       "      <td>0.0</td>\n",
       "      <td>0.0</td>\n",
       "      <td>0.0</td>\n",
       "      <td>0.0</td>\n",
       "      <td>0.0</td>\n",
       "      <td>0.0</td>\n",
       "      <td>1</td>\n",
       "    </tr>\n",
       "    <tr>\n",
       "      <th>2</th>\n",
       "      <td>0.0</td>\n",
       "      <td>0.000000</td>\n",
       "      <td>0.000000</td>\n",
       "      <td>1.550388</td>\n",
       "      <td>0.000000</td>\n",
       "      <td>0.775194</td>\n",
       "      <td>0.000000</td>\n",
       "      <td>0.0</td>\n",
       "      <td>0.0</td>\n",
       "      <td>0.000000</td>\n",
       "      <td>...</td>\n",
       "      <td>0.0</td>\n",
       "      <td>1.0</td>\n",
       "      <td>0.0</td>\n",
       "      <td>0.0</td>\n",
       "      <td>0.0</td>\n",
       "      <td>0.0</td>\n",
       "      <td>0.0</td>\n",
       "      <td>0.0</td>\n",
       "      <td>0.0</td>\n",
       "      <td>0</td>\n",
       "    </tr>\n",
       "    <tr>\n",
       "      <th>3</th>\n",
       "      <td>0.0</td>\n",
       "      <td>0.000000</td>\n",
       "      <td>0.000000</td>\n",
       "      <td>0.000000</td>\n",
       "      <td>0.000000</td>\n",
       "      <td>2.970297</td>\n",
       "      <td>0.000000</td>\n",
       "      <td>0.0</td>\n",
       "      <td>0.0</td>\n",
       "      <td>0.000000</td>\n",
       "      <td>...</td>\n",
       "      <td>0.0</td>\n",
       "      <td>0.0</td>\n",
       "      <td>0.0</td>\n",
       "      <td>0.0</td>\n",
       "      <td>0.0</td>\n",
       "      <td>0.0</td>\n",
       "      <td>0.0</td>\n",
       "      <td>0.0</td>\n",
       "      <td>0.0</td>\n",
       "      <td>0</td>\n",
       "    </tr>\n",
       "    <tr>\n",
       "      <th>4</th>\n",
       "      <td>0.0</td>\n",
       "      <td>0.000000</td>\n",
       "      <td>0.000000</td>\n",
       "      <td>0.000000</td>\n",
       "      <td>3.614458</td>\n",
       "      <td>0.000000</td>\n",
       "      <td>0.000000</td>\n",
       "      <td>0.0</td>\n",
       "      <td>0.0</td>\n",
       "      <td>3.614458</td>\n",
       "      <td>...</td>\n",
       "      <td>0.0</td>\n",
       "      <td>0.0</td>\n",
       "      <td>0.0</td>\n",
       "      <td>0.0</td>\n",
       "      <td>0.0</td>\n",
       "      <td>0.0</td>\n",
       "      <td>0.0</td>\n",
       "      <td>0.0</td>\n",
       "      <td>0.0</td>\n",
       "      <td>1</td>\n",
       "    </tr>\n",
       "    <tr>\n",
       "      <th>...</th>\n",
       "      <td>...</td>\n",
       "      <td>...</td>\n",
       "      <td>...</td>\n",
       "      <td>...</td>\n",
       "      <td>...</td>\n",
       "      <td>...</td>\n",
       "      <td>...</td>\n",
       "      <td>...</td>\n",
       "      <td>...</td>\n",
       "      <td>...</td>\n",
       "      <td>...</td>\n",
       "      <td>...</td>\n",
       "      <td>...</td>\n",
       "      <td>...</td>\n",
       "      <td>...</td>\n",
       "      <td>...</td>\n",
       "      <td>...</td>\n",
       "      <td>...</td>\n",
       "      <td>...</td>\n",
       "      <td>...</td>\n",
       "      <td>...</td>\n",
       "    </tr>\n",
       "    <tr>\n",
       "      <th>95</th>\n",
       "      <td>0.0</td>\n",
       "      <td>4.878049</td>\n",
       "      <td>1.219512</td>\n",
       "      <td>1.219512</td>\n",
       "      <td>2.439024</td>\n",
       "      <td>1.219512</td>\n",
       "      <td>1.219512</td>\n",
       "      <td>0.0</td>\n",
       "      <td>0.0</td>\n",
       "      <td>0.000000</td>\n",
       "      <td>...</td>\n",
       "      <td>0.0</td>\n",
       "      <td>0.0</td>\n",
       "      <td>0.0</td>\n",
       "      <td>0.0</td>\n",
       "      <td>0.0</td>\n",
       "      <td>0.0</td>\n",
       "      <td>0.0</td>\n",
       "      <td>0.0</td>\n",
       "      <td>0.0</td>\n",
       "      <td>0</td>\n",
       "    </tr>\n",
       "    <tr>\n",
       "      <th>96</th>\n",
       "      <td>0.0</td>\n",
       "      <td>7.692308</td>\n",
       "      <td>4.615385</td>\n",
       "      <td>1.538462</td>\n",
       "      <td>0.512821</td>\n",
       "      <td>0.000000</td>\n",
       "      <td>2.564103</td>\n",
       "      <td>0.0</td>\n",
       "      <td>0.0</td>\n",
       "      <td>0.512821</td>\n",
       "      <td>...</td>\n",
       "      <td>0.0</td>\n",
       "      <td>0.0</td>\n",
       "      <td>0.0</td>\n",
       "      <td>0.0</td>\n",
       "      <td>0.0</td>\n",
       "      <td>0.0</td>\n",
       "      <td>1.0</td>\n",
       "      <td>0.0</td>\n",
       "      <td>0.0</td>\n",
       "      <td>0</td>\n",
       "    </tr>\n",
       "    <tr>\n",
       "      <th>97</th>\n",
       "      <td>0.0</td>\n",
       "      <td>11.724138</td>\n",
       "      <td>4.137931</td>\n",
       "      <td>4.137931</td>\n",
       "      <td>0.689655</td>\n",
       "      <td>2.758621</td>\n",
       "      <td>3.448276</td>\n",
       "      <td>0.0</td>\n",
       "      <td>0.0</td>\n",
       "      <td>0.000000</td>\n",
       "      <td>...</td>\n",
       "      <td>0.0</td>\n",
       "      <td>0.0</td>\n",
       "      <td>0.0</td>\n",
       "      <td>0.0</td>\n",
       "      <td>0.0</td>\n",
       "      <td>0.0</td>\n",
       "      <td>0.0</td>\n",
       "      <td>0.0</td>\n",
       "      <td>0.0</td>\n",
       "      <td>1</td>\n",
       "    </tr>\n",
       "    <tr>\n",
       "      <th>98</th>\n",
       "      <td>0.0</td>\n",
       "      <td>0.000000</td>\n",
       "      <td>0.000000</td>\n",
       "      <td>0.000000</td>\n",
       "      <td>0.000000</td>\n",
       "      <td>0.000000</td>\n",
       "      <td>0.000000</td>\n",
       "      <td>0.0</td>\n",
       "      <td>0.0</td>\n",
       "      <td>0.000000</td>\n",
       "      <td>...</td>\n",
       "      <td>0.0</td>\n",
       "      <td>1.0</td>\n",
       "      <td>0.0</td>\n",
       "      <td>0.0</td>\n",
       "      <td>0.0</td>\n",
       "      <td>0.0</td>\n",
       "      <td>0.0</td>\n",
       "      <td>0.0</td>\n",
       "      <td>0.0</td>\n",
       "      <td>0</td>\n",
       "    </tr>\n",
       "    <tr>\n",
       "      <th>99</th>\n",
       "      <td>0.0</td>\n",
       "      <td>0.000000</td>\n",
       "      <td>0.000000</td>\n",
       "      <td>2.419355</td>\n",
       "      <td>2.419355</td>\n",
       "      <td>0.000000</td>\n",
       "      <td>0.000000</td>\n",
       "      <td>0.0</td>\n",
       "      <td>0.0</td>\n",
       "      <td>2.419355</td>\n",
       "      <td>...</td>\n",
       "      <td>0.0</td>\n",
       "      <td>0.0</td>\n",
       "      <td>0.0</td>\n",
       "      <td>0.0</td>\n",
       "      <td>0.0</td>\n",
       "      <td>0.0</td>\n",
       "      <td>0.0</td>\n",
       "      <td>0.0</td>\n",
       "      <td>0.0</td>\n",
       "      <td>1</td>\n",
       "    </tr>\n",
       "  </tbody>\n",
       "</table>\n",
       "<p>100 rows × 141 columns</p>\n",
       "</div>"
      ],
      "text/plain": [
       "    event_name_accept_job_percent  event_name_add_critter_percent  \\\n",
       "0                             0.0                        3.191489   \n",
       "1                             0.0                        6.422018   \n",
       "2                             0.0                        0.000000   \n",
       "3                             0.0                        0.000000   \n",
       "4                             0.0                        0.000000   \n",
       "..                            ...                             ...   \n",
       "95                            0.0                        4.878049   \n",
       "96                            0.0                        7.692308   \n",
       "97                            0.0                       11.724138   \n",
       "98                            0.0                        0.000000   \n",
       "99                            0.0                        0.000000   \n",
       "\n",
       "    event_name_add_environment_percent  event_name_ask_for_help_percent  \\\n",
       "0                             1.063830                         1.595745   \n",
       "1                             1.834862                         1.834862   \n",
       "2                             0.000000                         1.550388   \n",
       "3                             0.000000                         0.000000   \n",
       "4                             0.000000                         0.000000   \n",
       "..                                 ...                              ...   \n",
       "95                            1.219512                         1.219512   \n",
       "96                            4.615385                         1.538462   \n",
       "97                            4.137931                         4.137931   \n",
       "98                            0.000000                         0.000000   \n",
       "99                            0.000000                         2.419355   \n",
       "\n",
       "    event_name_begin_argument_percent  event_name_begin_dive_percent  \\\n",
       "0                            1.595745                       0.000000   \n",
       "1                            1.834862                       2.752294   \n",
       "2                            0.000000                       0.775194   \n",
       "3                            0.000000                       2.970297   \n",
       "4                            3.614458                       0.000000   \n",
       "..                                ...                            ...   \n",
       "95                           2.439024                       1.219512   \n",
       "96                           0.512821                       0.000000   \n",
       "97                           0.689655                       2.758621   \n",
       "98                           0.000000                       0.000000   \n",
       "99                           2.419355                       0.000000   \n",
       "\n",
       "    event_name_begin_experiment_percent  event_name_begin_model_percent  \\\n",
       "0                              1.063830                             0.0   \n",
       "1                              1.834862                             0.0   \n",
       "2                              0.000000                             0.0   \n",
       "3                              0.000000                             0.0   \n",
       "4                              0.000000                             0.0   \n",
       "..                                  ...                             ...   \n",
       "95                             1.219512                             0.0   \n",
       "96                             2.564103                             0.0   \n",
       "97                             3.448276                             0.0   \n",
       "98                             0.000000                             0.0   \n",
       "99                             0.000000                             0.0   \n",
       "\n",
       "    event_name_begin_simulation_percent  \\\n",
       "0                                   0.0   \n",
       "1                                   0.0   \n",
       "2                                   0.0   \n",
       "3                                   0.0   \n",
       "4                                   0.0   \n",
       "..                                  ...   \n",
       "95                                  0.0   \n",
       "96                                  0.0   \n",
       "97                                  0.0   \n",
       "98                                  0.0   \n",
       "99                                  0.0   \n",
       "\n",
       "    event_name_bestiary_open_environments_tab_percent  ...  \\\n",
       "0                                            0.000000  ...   \n",
       "1                                            0.000000  ...   \n",
       "2                                            0.000000  ...   \n",
       "3                                            0.000000  ...   \n",
       "4                                            3.614458  ...   \n",
       "..                                                ...  ...   \n",
       "95                                           0.000000  ...   \n",
       "96                                           0.512821  ...   \n",
       "97                                           0.000000  ...   \n",
       "98                                           0.000000  ...   \n",
       "99                                           2.419355  ...   \n",
       "\n",
       "    job_name_kelp-save-urchin-barren  job_name_kelp-shop-welcome  \\\n",
       "0                                0.0                         0.0   \n",
       "1                                0.0                         0.0   \n",
       "2                                0.0                         1.0   \n",
       "3                                0.0                         0.0   \n",
       "4                                0.0                         0.0   \n",
       "..                               ...                         ...   \n",
       "95                               0.0                         0.0   \n",
       "96                               0.0                         0.0   \n",
       "97                               0.0                         0.0   \n",
       "98                               0.0                         1.0   \n",
       "99                               0.0                         0.0   \n",
       "\n",
       "    job_name_kelp-start-refuge  job_name_kelp-urchin-barren-predict  \\\n",
       "0                          0.0                                  0.0   \n",
       "1                          0.0                                  0.0   \n",
       "2                          0.0                                  0.0   \n",
       "3                          0.0                                  0.0   \n",
       "4                          0.0                                  0.0   \n",
       "..                         ...                                  ...   \n",
       "95                         0.0                                  0.0   \n",
       "96                         0.0                                  0.0   \n",
       "97                         0.0                                  0.0   \n",
       "98                         0.0                                  0.0   \n",
       "99                         0.0                                  0.0   \n",
       "\n",
       "    job_name_kelp-urchin-barren-viz  job_name_kelp-urchin-farm  \\\n",
       "0                               0.0                        0.0   \n",
       "1                               0.0                        0.0   \n",
       "2                               0.0                        0.0   \n",
       "3                               0.0                        0.0   \n",
       "4                               0.0                        0.0   \n",
       "..                              ...                        ...   \n",
       "95                              0.0                        0.0   \n",
       "96                              0.0                        0.0   \n",
       "97                              0.0                        0.0   \n",
       "98                              0.0                        0.0   \n",
       "99                              0.0                        0.0   \n",
       "\n",
       "    job_name_kelp-welcome  job_name_turtle-danger  job_name_turtle-danger2  \\\n",
       "0                     1.0                     0.0                      0.0   \n",
       "1                     0.0                     0.0                      0.0   \n",
       "2                     0.0                     0.0                      0.0   \n",
       "3                     0.0                     0.0                      0.0   \n",
       "4                     0.0                     0.0                      0.0   \n",
       "..                    ...                     ...                      ...   \n",
       "95                    0.0                     0.0                      0.0   \n",
       "96                    1.0                     0.0                      0.0   \n",
       "97                    0.0                     0.0                      0.0   \n",
       "98                    0.0                     0.0                      0.0   \n",
       "99                    0.0                     0.0                      0.0   \n",
       "\n",
       "    response  \n",
       "0          0  \n",
       "1          1  \n",
       "2          0  \n",
       "3          0  \n",
       "4          1  \n",
       "..       ...  \n",
       "95         0  \n",
       "96         0  \n",
       "97         1  \n",
       "98         0  \n",
       "99         1  \n",
       "\n",
       "[100 rows x 141 columns]"
      ]
     },
     "execution_count": 262,
     "metadata": {},
     "output_type": "execute_result"
    }
   ],
   "source": [
    "train_df = train_df.merge(text_replays_df[[\"task_id\", \"response\"]], on=[\"task_id\"]).drop(columns=\"task_id\")\n",
    "train_df"
   ]
  },
  {
   "cell_type": "code",
   "execution_count": 311,
   "metadata": {},
   "outputs": [
    {
     "name": "stdout",
     "output_type": "stream",
     "text": [
      "x Train Shape: (56, 140)\n",
      "x Validation Shape: (19, 140)\n",
      "x Test Shape: (25, 140)\n"
     ]
    }
   ],
   "source": [
    "x_train_full, x_test, y_train_full, y_test = train_test_split(\n",
    "    train_df.drop(columns=\"response\"),\n",
    "    train_df[\"response\"],\n",
    "    test_size=0.25,\n",
    "    random_state=42,\n",
    "    stratify=train_df[\"response\"] # class balance\n",
    ")\n",
    "\n",
    "x_train, x_val, y_train, y_val = train_test_split(\n",
    "    x_train_full,\n",
    "    y_train_full,\n",
    "    test_size=0.25,\n",
    "    random_state=42,\n",
    "    stratify=y_train_full\n",
    ")\n",
    "\n",
    "print(\"x Train Shape: \" + str(x_train.shape))\n",
    "print(\"x Validation Shape: \" + str(x_val.shape))\n",
    "print(\"x Test Shape: \" + str(x_test.shape))"
   ]
  },
  {
   "cell_type": "code",
   "execution_count": 331,
   "metadata": {},
   "outputs": [
    {
     "data": {
      "application/vnd.plotly.v1+json": {
       "config": {
        "plotlyServerURL": "https://plot.ly"
       },
       "data": [
        {
         "hovertemplate": "x=%{x}<br>y=%{y}<br>text=%{text}<extra></extra>",
         "legendgroup": "",
         "marker": {
          "color": "#636efa",
          "pattern": {
           "shape": ""
          }
         },
         "name": "",
         "orientation": "v",
         "showlegend": false,
         "text": {
          "bdata": "AAAAAAAATEAAAAAAAAA5QAAAAAAAADNA",
          "dtype": "f8"
         },
         "textposition": "inside",
         "type": "bar",
         "x": [
          "TRAIN",
          "TEST",
          "VAL"
         ],
         "xaxis": "x",
         "y": {
          "bdata": "OBkT",
          "dtype": "i1"
         },
         "yaxis": "y"
        }
       ],
       "layout": {
        "barmode": "relative",
        "legend": {
         "tracegroupgap": 0
        },
        "template": {
         "data": {
          "bar": [
           {
            "error_x": {
             "color": "#2a3f5f"
            },
            "error_y": {
             "color": "#2a3f5f"
            },
            "marker": {
             "line": {
              "color": "#E5ECF6",
              "width": 0.5
             },
             "pattern": {
              "fillmode": "overlay",
              "size": 10,
              "solidity": 0.2
             }
            },
            "type": "bar"
           }
          ],
          "barpolar": [
           {
            "marker": {
             "line": {
              "color": "#E5ECF6",
              "width": 0.5
             },
             "pattern": {
              "fillmode": "overlay",
              "size": 10,
              "solidity": 0.2
             }
            },
            "type": "barpolar"
           }
          ],
          "carpet": [
           {
            "aaxis": {
             "endlinecolor": "#2a3f5f",
             "gridcolor": "white",
             "linecolor": "white",
             "minorgridcolor": "white",
             "startlinecolor": "#2a3f5f"
            },
            "baxis": {
             "endlinecolor": "#2a3f5f",
             "gridcolor": "white",
             "linecolor": "white",
             "minorgridcolor": "white",
             "startlinecolor": "#2a3f5f"
            },
            "type": "carpet"
           }
          ],
          "choropleth": [
           {
            "colorbar": {
             "outlinewidth": 0,
             "ticks": ""
            },
            "type": "choropleth"
           }
          ],
          "contour": [
           {
            "colorbar": {
             "outlinewidth": 0,
             "ticks": ""
            },
            "colorscale": [
             [
              0,
              "#0d0887"
             ],
             [
              0.1111111111111111,
              "#46039f"
             ],
             [
              0.2222222222222222,
              "#7201a8"
             ],
             [
              0.3333333333333333,
              "#9c179e"
             ],
             [
              0.4444444444444444,
              "#bd3786"
             ],
             [
              0.5555555555555556,
              "#d8576b"
             ],
             [
              0.6666666666666666,
              "#ed7953"
             ],
             [
              0.7777777777777778,
              "#fb9f3a"
             ],
             [
              0.8888888888888888,
              "#fdca26"
             ],
             [
              1,
              "#f0f921"
             ]
            ],
            "type": "contour"
           }
          ],
          "contourcarpet": [
           {
            "colorbar": {
             "outlinewidth": 0,
             "ticks": ""
            },
            "type": "contourcarpet"
           }
          ],
          "heatmap": [
           {
            "colorbar": {
             "outlinewidth": 0,
             "ticks": ""
            },
            "colorscale": [
             [
              0,
              "#0d0887"
             ],
             [
              0.1111111111111111,
              "#46039f"
             ],
             [
              0.2222222222222222,
              "#7201a8"
             ],
             [
              0.3333333333333333,
              "#9c179e"
             ],
             [
              0.4444444444444444,
              "#bd3786"
             ],
             [
              0.5555555555555556,
              "#d8576b"
             ],
             [
              0.6666666666666666,
              "#ed7953"
             ],
             [
              0.7777777777777778,
              "#fb9f3a"
             ],
             [
              0.8888888888888888,
              "#fdca26"
             ],
             [
              1,
              "#f0f921"
             ]
            ],
            "type": "heatmap"
           }
          ],
          "histogram": [
           {
            "marker": {
             "pattern": {
              "fillmode": "overlay",
              "size": 10,
              "solidity": 0.2
             }
            },
            "type": "histogram"
           }
          ],
          "histogram2d": [
           {
            "colorbar": {
             "outlinewidth": 0,
             "ticks": ""
            },
            "colorscale": [
             [
              0,
              "#0d0887"
             ],
             [
              0.1111111111111111,
              "#46039f"
             ],
             [
              0.2222222222222222,
              "#7201a8"
             ],
             [
              0.3333333333333333,
              "#9c179e"
             ],
             [
              0.4444444444444444,
              "#bd3786"
             ],
             [
              0.5555555555555556,
              "#d8576b"
             ],
             [
              0.6666666666666666,
              "#ed7953"
             ],
             [
              0.7777777777777778,
              "#fb9f3a"
             ],
             [
              0.8888888888888888,
              "#fdca26"
             ],
             [
              1,
              "#f0f921"
             ]
            ],
            "type": "histogram2d"
           }
          ],
          "histogram2dcontour": [
           {
            "colorbar": {
             "outlinewidth": 0,
             "ticks": ""
            },
            "colorscale": [
             [
              0,
              "#0d0887"
             ],
             [
              0.1111111111111111,
              "#46039f"
             ],
             [
              0.2222222222222222,
              "#7201a8"
             ],
             [
              0.3333333333333333,
              "#9c179e"
             ],
             [
              0.4444444444444444,
              "#bd3786"
             ],
             [
              0.5555555555555556,
              "#d8576b"
             ],
             [
              0.6666666666666666,
              "#ed7953"
             ],
             [
              0.7777777777777778,
              "#fb9f3a"
             ],
             [
              0.8888888888888888,
              "#fdca26"
             ],
             [
              1,
              "#f0f921"
             ]
            ],
            "type": "histogram2dcontour"
           }
          ],
          "mesh3d": [
           {
            "colorbar": {
             "outlinewidth": 0,
             "ticks": ""
            },
            "type": "mesh3d"
           }
          ],
          "parcoords": [
           {
            "line": {
             "colorbar": {
              "outlinewidth": 0,
              "ticks": ""
             }
            },
            "type": "parcoords"
           }
          ],
          "pie": [
           {
            "automargin": true,
            "type": "pie"
           }
          ],
          "scatter": [
           {
            "fillpattern": {
             "fillmode": "overlay",
             "size": 10,
             "solidity": 0.2
            },
            "type": "scatter"
           }
          ],
          "scatter3d": [
           {
            "line": {
             "colorbar": {
              "outlinewidth": 0,
              "ticks": ""
             }
            },
            "marker": {
             "colorbar": {
              "outlinewidth": 0,
              "ticks": ""
             }
            },
            "type": "scatter3d"
           }
          ],
          "scattercarpet": [
           {
            "marker": {
             "colorbar": {
              "outlinewidth": 0,
              "ticks": ""
             }
            },
            "type": "scattercarpet"
           }
          ],
          "scattergeo": [
           {
            "marker": {
             "colorbar": {
              "outlinewidth": 0,
              "ticks": ""
             }
            },
            "type": "scattergeo"
           }
          ],
          "scattergl": [
           {
            "marker": {
             "colorbar": {
              "outlinewidth": 0,
              "ticks": ""
             }
            },
            "type": "scattergl"
           }
          ],
          "scattermap": [
           {
            "marker": {
             "colorbar": {
              "outlinewidth": 0,
              "ticks": ""
             }
            },
            "type": "scattermap"
           }
          ],
          "scattermapbox": [
           {
            "marker": {
             "colorbar": {
              "outlinewidth": 0,
              "ticks": ""
             }
            },
            "type": "scattermapbox"
           }
          ],
          "scatterpolar": [
           {
            "marker": {
             "colorbar": {
              "outlinewidth": 0,
              "ticks": ""
             }
            },
            "type": "scatterpolar"
           }
          ],
          "scatterpolargl": [
           {
            "marker": {
             "colorbar": {
              "outlinewidth": 0,
              "ticks": ""
             }
            },
            "type": "scatterpolargl"
           }
          ],
          "scatterternary": [
           {
            "marker": {
             "colorbar": {
              "outlinewidth": 0,
              "ticks": ""
             }
            },
            "type": "scatterternary"
           }
          ],
          "surface": [
           {
            "colorbar": {
             "outlinewidth": 0,
             "ticks": ""
            },
            "colorscale": [
             [
              0,
              "#0d0887"
             ],
             [
              0.1111111111111111,
              "#46039f"
             ],
             [
              0.2222222222222222,
              "#7201a8"
             ],
             [
              0.3333333333333333,
              "#9c179e"
             ],
             [
              0.4444444444444444,
              "#bd3786"
             ],
             [
              0.5555555555555556,
              "#d8576b"
             ],
             [
              0.6666666666666666,
              "#ed7953"
             ],
             [
              0.7777777777777778,
              "#fb9f3a"
             ],
             [
              0.8888888888888888,
              "#fdca26"
             ],
             [
              1,
              "#f0f921"
             ]
            ],
            "type": "surface"
           }
          ],
          "table": [
           {
            "cells": {
             "fill": {
              "color": "#EBF0F8"
             },
             "line": {
              "color": "white"
             }
            },
            "header": {
             "fill": {
              "color": "#C8D4E3"
             },
             "line": {
              "color": "white"
             }
            },
            "type": "table"
           }
          ]
         },
         "layout": {
          "annotationdefaults": {
           "arrowcolor": "#2a3f5f",
           "arrowhead": 0,
           "arrowwidth": 1
          },
          "autotypenumbers": "strict",
          "coloraxis": {
           "colorbar": {
            "outlinewidth": 0,
            "ticks": ""
           }
          },
          "colorscale": {
           "diverging": [
            [
             0,
             "#8e0152"
            ],
            [
             0.1,
             "#c51b7d"
            ],
            [
             0.2,
             "#de77ae"
            ],
            [
             0.3,
             "#f1b6da"
            ],
            [
             0.4,
             "#fde0ef"
            ],
            [
             0.5,
             "#f7f7f7"
            ],
            [
             0.6,
             "#e6f5d0"
            ],
            [
             0.7,
             "#b8e186"
            ],
            [
             0.8,
             "#7fbc41"
            ],
            [
             0.9,
             "#4d9221"
            ],
            [
             1,
             "#276419"
            ]
           ],
           "sequential": [
            [
             0,
             "#0d0887"
            ],
            [
             0.1111111111111111,
             "#46039f"
            ],
            [
             0.2222222222222222,
             "#7201a8"
            ],
            [
             0.3333333333333333,
             "#9c179e"
            ],
            [
             0.4444444444444444,
             "#bd3786"
            ],
            [
             0.5555555555555556,
             "#d8576b"
            ],
            [
             0.6666666666666666,
             "#ed7953"
            ],
            [
             0.7777777777777778,
             "#fb9f3a"
            ],
            [
             0.8888888888888888,
             "#fdca26"
            ],
            [
             1,
             "#f0f921"
            ]
           ],
           "sequentialminus": [
            [
             0,
             "#0d0887"
            ],
            [
             0.1111111111111111,
             "#46039f"
            ],
            [
             0.2222222222222222,
             "#7201a8"
            ],
            [
             0.3333333333333333,
             "#9c179e"
            ],
            [
             0.4444444444444444,
             "#bd3786"
            ],
            [
             0.5555555555555556,
             "#d8576b"
            ],
            [
             0.6666666666666666,
             "#ed7953"
            ],
            [
             0.7777777777777778,
             "#fb9f3a"
            ],
            [
             0.8888888888888888,
             "#fdca26"
            ],
            [
             1,
             "#f0f921"
            ]
           ]
          },
          "colorway": [
           "#636efa",
           "#EF553B",
           "#00cc96",
           "#ab63fa",
           "#FFA15A",
           "#19d3f3",
           "#FF6692",
           "#B6E880",
           "#FF97FF",
           "#FECB52"
          ],
          "font": {
           "color": "#2a3f5f"
          },
          "geo": {
           "bgcolor": "white",
           "lakecolor": "white",
           "landcolor": "#E5ECF6",
           "showlakes": true,
           "showland": true,
           "subunitcolor": "white"
          },
          "hoverlabel": {
           "align": "left"
          },
          "hovermode": "closest",
          "mapbox": {
           "style": "light"
          },
          "paper_bgcolor": "white",
          "plot_bgcolor": "#E5ECF6",
          "polar": {
           "angularaxis": {
            "gridcolor": "white",
            "linecolor": "white",
            "ticks": ""
           },
           "bgcolor": "#E5ECF6",
           "radialaxis": {
            "gridcolor": "white",
            "linecolor": "white",
            "ticks": ""
           }
          },
          "scene": {
           "xaxis": {
            "backgroundcolor": "#E5ECF6",
            "gridcolor": "white",
            "gridwidth": 2,
            "linecolor": "white",
            "showbackground": true,
            "ticks": "",
            "zerolinecolor": "white"
           },
           "yaxis": {
            "backgroundcolor": "#E5ECF6",
            "gridcolor": "white",
            "gridwidth": 2,
            "linecolor": "white",
            "showbackground": true,
            "ticks": "",
            "zerolinecolor": "white"
           },
           "zaxis": {
            "backgroundcolor": "#E5ECF6",
            "gridcolor": "white",
            "gridwidth": 2,
            "linecolor": "white",
            "showbackground": true,
            "ticks": "",
            "zerolinecolor": "white"
           }
          },
          "shapedefaults": {
           "line": {
            "color": "#2a3f5f"
           }
          },
          "ternary": {
           "aaxis": {
            "gridcolor": "white",
            "linecolor": "white",
            "ticks": ""
           },
           "baxis": {
            "gridcolor": "white",
            "linecolor": "white",
            "ticks": ""
           },
           "bgcolor": "#E5ECF6",
           "caxis": {
            "gridcolor": "white",
            "linecolor": "white",
            "ticks": ""
           }
          },
          "title": {
           "x": 0.05
          },
          "xaxis": {
           "automargin": true,
           "gridcolor": "white",
           "linecolor": "white",
           "ticks": "",
           "title": {
            "standoff": 15
           },
           "zerolinecolor": "white",
           "zerolinewidth": 2
          },
          "yaxis": {
           "automargin": true,
           "gridcolor": "white",
           "linecolor": "white",
           "ticks": "",
           "title": {
            "standoff": 15
           },
           "zerolinecolor": "white",
           "zerolinewidth": 2
          }
         }
        },
        "title": {
         "text": "Subset distribution"
        },
        "xaxis": {
         "anchor": "y",
         "domain": [
          0,
          1
         ],
         "title": {
          "text": "x"
         }
        },
        "yaxis": {
         "anchor": "x",
         "domain": [
          0,
          1
         ],
         "title": {
          "text": "y"
         }
        }
       }
      }
     },
     "metadata": {},
     "output_type": "display_data"
    }
   ],
   "source": [
    "fig = px.bar(\n",
    "    x=[\"TRAIN\", \"TEST\", \"VAL\"],\n",
    "    y=[len(x_train), len(x_test), len(x_val)],\n",
    "    text=[len(x_train), len(x_test), len(x_val)],\n",
    "    title=\"Subset distribution\"\n",
    ")\n",
    "fig.update_traces(textposition='inside')\n",
    "fig.show()\n"
   ]
  },
  {
   "cell_type": "markdown",
   "metadata": {},
   "source": [
    "checking if stratify worked (class proportion is similar)"
   ]
  },
  {
   "cell_type": "code",
   "execution_count": 333,
   "metadata": {},
   "outputs": [
    {
     "name": "stdout",
     "output_type": "stream",
     "text": [
      "train\n",
      "response\n",
      "0    53.571429\n",
      "1    46.428571\n",
      "Name: count, dtype: float64\n",
      "test\n",
      "response\n",
      "0    56.0\n",
      "1    44.0\n",
      "Name: count, dtype: float64\n",
      "val\n",
      "response\n",
      "0    52.631579\n",
      "1    47.368421\n",
      "Name: count, dtype: float64\n"
     ]
    }
   ],
   "source": [
    "for subset, lab in zip([y_train, y_test, y_val], [\"train\", \"test\", \"val\"]):\n",
    "    print(lab)\n",
    "    print(100 * subset.value_counts() / len(subset))"
   ]
  },
  {
   "cell_type": "code",
   "execution_count": 265,
   "metadata": {},
   "outputs": [
    {
     "name": "stdout",
     "output_type": "stream",
     "text": [
      "Epoch 1/75\n",
      "\u001b[1m3/3\u001b[0m \u001b[32m━━━━━━━━━━━━━━━━━━━━\u001b[0m\u001b[37m\u001b[0m \u001b[1m1s\u001b[0m 135ms/step - accuracy: 0.4309 - loss: 8.1859 - val_accuracy: 0.4000 - val_loss: 3.9712\n",
      "Epoch 2/75\n",
      "\u001b[1m3/3\u001b[0m \u001b[32m━━━━━━━━━━━━━━━━━━━━\u001b[0m\u001b[37m\u001b[0m \u001b[1m0s\u001b[0m 52ms/step - accuracy: 0.5757 - loss: 2.5372 - val_accuracy: 0.4000 - val_loss: 1.6085\n",
      "Epoch 3/75\n",
      "\u001b[1m3/3\u001b[0m \u001b[32m━━━━━━━━━━━━━━━━━━━━\u001b[0m\u001b[37m\u001b[0m \u001b[1m0s\u001b[0m 46ms/step - accuracy: 0.4978 - loss: 1.9101 - val_accuracy: 0.5200 - val_loss: 1.0422\n",
      "Epoch 4/75\n",
      "\u001b[1m3/3\u001b[0m \u001b[32m━━━━━━━━━━━━━━━━━━━━\u001b[0m\u001b[37m\u001b[0m \u001b[1m0s\u001b[0m 51ms/step - accuracy: 0.5996 - loss: 0.9763 - val_accuracy: 0.6400 - val_loss: 0.7078\n",
      "Epoch 5/75\n",
      "\u001b[1m3/3\u001b[0m \u001b[32m━━━━━━━━━━━━━━━━━━━━\u001b[0m\u001b[37m\u001b[0m \u001b[1m0s\u001b[0m 51ms/step - accuracy: 0.4822 - loss: 1.2464 - val_accuracy: 0.4000 - val_loss: 1.1425\n",
      "Epoch 6/75\n",
      "\u001b[1m3/3\u001b[0m \u001b[32m━━━━━━━━━━━━━━━━━━━━\u001b[0m\u001b[37m\u001b[0m \u001b[1m0s\u001b[0m 78ms/step - accuracy: 0.6642 - loss: 0.7551 - val_accuracy: 0.6400 - val_loss: 1.0940\n",
      "Epoch 7/75\n",
      "\u001b[1m3/3\u001b[0m \u001b[32m━━━━━━━━━━━━━━━━━━━━\u001b[0m\u001b[37m\u001b[0m \u001b[1m0s\u001b[0m 46ms/step - accuracy: 0.5585 - loss: 1.5564 - val_accuracy: 0.4000 - val_loss: 1.1750\n",
      "Epoch 8/75\n",
      "\u001b[1m3/3\u001b[0m \u001b[32m━━━━━━━━━━━━━━━━━━━━\u001b[0m\u001b[37m\u001b[0m \u001b[1m0s\u001b[0m 57ms/step - accuracy: 0.4783 - loss: 1.2001 - val_accuracy: 0.4000 - val_loss: 1.5520\n",
      "Epoch 9/75\n",
      "\u001b[1m3/3\u001b[0m \u001b[32m━━━━━━━━━━━━━━━━━━━━\u001b[0m\u001b[37m\u001b[0m \u001b[1m0s\u001b[0m 45ms/step - accuracy: 0.5829 - loss: 0.9987 - val_accuracy: 0.6400 - val_loss: 0.8102\n",
      "\u001b[1m1/1\u001b[0m \u001b[32m━━━━━━━━━━━━━━━━━━━━\u001b[0m\u001b[37m\u001b[0m \u001b[1m0s\u001b[0m 49ms/step - accuracy: 0.6400 - loss: 0.7078\n",
      "Test Loss: 0.7078246474266052\n",
      "Test Accuracy: 0.6399999856948853\n"
     ]
    }
   ],
   "source": [
    "# prompt: build a keras sequential neural network that takes xs as an input and ys as an output\n",
    "\n",
    "x_train_tensor = tf.convert_to_tensor(x_train)\n",
    "y_train_tensor = tf.convert_to_tensor(y_train)\n",
    "x_test_tensor = tf.convert_to_tensor(x_test)\n",
    "y_test_tensor = tf.convert_to_tensor(y_test)\n",
    "\n",
    "class_weight = {0: 1.,\n",
    "                1: 1.4}\n",
    "\n",
    "model = Sequential()\n",
    "model.add(Input(shape=(x_train_tensor.shape[1],)))\n",
    "model.add(Dense(1000, activation='relu'))\n",
    "model.add(Dense(1000, activation='relu'))\n",
    "model.add(Dense(100, activation='relu'))\n",
    "model.add(Dense(1, activation='sigmoid'))\n",
    "adam = keras.optimizers.Adam(learning_rate=0.001)\n",
    "model.compile(optimizer=adam, loss=\"binary_crossentropy\", metrics=['accuracy'])\n",
    "\n",
    "from tensorflow.keras.callbacks import EarlyStopping\n",
    "\n",
    "early_stopping = EarlyStopping(\n",
    "    monitor='val_loss',     # What to monitor\n",
    "    patience=5,             # Number of epochs with no improvement after which training will be stopped\n",
    "    restore_best_weights=True  # Restores model weights from the epoch with the best value of the monitored quantity\n",
    ")\n",
    "\n",
    "model.fit(x_train_tensor, y_train_tensor, epochs=75, batch_size=32, class_weight=class_weight, validation_data=(x_test_tensor, y_test_tensor), callbacks=[early_stopping])\n",
    "\n",
    "loss, accuracy = model.evaluate(x_test_tensor, y_test_tensor)\n",
    "print(f\"Test Loss: {loss}\")\n",
    "print(f\"Test Accuracy: {accuracy}\")\n"
   ]
  },
  {
   "cell_type": "code",
   "execution_count": 267,
   "metadata": {},
   "outputs": [
    {
     "name": "stdout",
     "output_type": "stream",
     "text": [
      "\u001b[1m1/1\u001b[0m \u001b[32m━━━━━━━━━━━━━━━━━━━━\u001b[0m\u001b[37m\u001b[0m \u001b[1m0s\u001b[0m 45ms/step\n",
      "Test AUC: 0.6666666666666667\n"
     ]
    },
    {
     "data": {
      "image/png": "[encoded data removed]",
      "text/plain": [
       "<Figure size 640x480 with 2 Axes>"
      ]
     },
     "metadata": {},
     "output_type": "display_data"
    }
   ],
   "source": [
    "#calculate the auc\n",
    "from sklearn.metrics import roc_auc_score\n",
    "y_pred = model.predict(x_test_tensor)\n",
    "auc = roc_auc_score(y_test_tensor, y_pred)\n",
    "print(f\"Test AUC: {auc}\")\n",
    "\n",
    "predicted = y_pred\n",
    "predicted = np.array([1 if x >= 0.5 else 0 for x in predicted])\n",
    "actual = np.array(y_test)\n",
    "conf_mat = confusion_matrix(actual, predicted)\n",
    "displ = ConfusionMatrixDisplay(confusion_matrix=conf_mat)\n",
    "displ.plot()\n",
    "plt.show()"
   ]
  },
  {
   "cell_type": "markdown",
   "metadata": {},
   "source": [
    "### Random Forest"
   ]
  },
  {
   "cell_type": "code",
   "execution_count": 345,
   "metadata": {},
   "outputs": [],
   "source": [
    "from sklearn.ensemble import RandomForestClassifier\n",
    "from sklearn.metrics import accuracy_score, f1_score\n",
    "\n",
    "max_depth = [i for i in range(1, 10)]\n",
    "train_acc = []\n",
    "val_acc = []\n",
    "train_f1 = []\n",
    "val_f1 = []\n",
    "\n",
    "for md in max_depth:\n",
    "    rf = RandomForestClassifier(\n",
    "        n_estimators=50,\n",
    "        max_depth=md,\n",
    "        min_samples_split=5,\n",
    "        min_samples_leaf=2,\n",
    "        random_state=42,\n",
    "        n_jobs=-1\n",
    "    )\n",
    "    \n",
    "    # Train\n",
    "    rf.fit(x_train, y_train)\n",
    "    \n",
    "    # Predict on train and validation sets\n",
    "    y_train_pred = rf.predict(x_train)\n",
    "    y_val_pred = rf.predict(x_val)\n",
    "    \n",
    "    # Evaluate\n",
    "    train_acc.append(accuracy_score(y_train, y_train_pred))\n",
    "    val_acc.append(accuracy_score(y_val, y_val_pred))\n",
    "    train_f1.append(f1_score(y_train, y_train_pred, average='weighted'))\n",
    "    val_f1.append(f1_score(y_val, y_val_pred, average='weighted'))"
   ]
  },
  {
   "cell_type": "code",
   "execution_count": 346,
   "metadata": {},
   "outputs": [
    {
     "data": {
      "image/png": "[encoded data removed]",
      "text/plain": [
       "<Figure size 800x500 with 1 Axes>"
      ]
     },
     "metadata": {},
     "output_type": "display_data"
    }
   ],
   "source": [
    "plt.figure(figsize=(8, 5))\n",
    "plt.plot(max_depth, train_acc, label='Train Accuracy', marker='o')\n",
    "plt.plot(max_depth, val_acc, label='Validation Accuracy', marker='o')\n",
    "\n",
    "plt.title('Accuracy')\n",
    "plt.xlabel('max_depth')\n",
    "plt.ylabel('Accuracy')\n",
    "plt.legend()\n",
    "plt.grid(True)\n",
    "plt.tight_layout()\n",
    "plt.show()"
   ]
  },
  {
   "cell_type": "code",
   "execution_count": 347,
   "metadata": {},
   "outputs": [
    {
     "data": {
      "image/png": "[encoded data removed]",
      "text/plain": [
       "<Figure size 800x500 with 1 Axes>"
      ]
     },
     "metadata": {},
     "output_type": "display_data"
    }
   ],
   "source": [
    "plt.figure(figsize=(8, 5))\n",
    "plt.plot(max_depth, train_f1, label='Train F1', marker='o')\n",
    "plt.plot(max_depth, val_f1, label='Validation F1', marker='o')\n",
    "\n",
    "plt.title('F1')\n",
    "plt.xlabel('max_depth')\n",
    "plt.ylabel('F1')\n",
    "plt.legend()\n",
    "plt.grid(True)\n",
    "plt.tight_layout()\n",
    "plt.show()"
   ]
  },
  {
   "cell_type": "markdown",
   "metadata": {},
   "source": [
    "**Questions:**\n",
    "- what events David used in events.csv? **subset of 100 gameplays**\n",
    "- what is the `nan` user id? **BEFORE GAME STARTED**\n",
    "- If a player starts a new game, would it have the same user_id? **NO**\n",
    "- why there are negative times of job completion (like in `coral-lionfish-conspiracy`)? **CHECK CODE, in case people return to the same task later**\n",
    "- would it be relevant to build a graph with weighted connections of how people manage the order of jobs completion?"
   ]
  },
  {
   "cell_type": "markdown",
   "metadata": {},
   "source": [
    "**Questions 2:**\n",
    "- David isn't using columns starting with \"event_percentage_\"\n",
    "- Not sure if getting percentage right in my code\n",
    "- not grouping by session if, grouping by player id\n",
    "- David uses data from June and July\n",
    "- think of bootstrapping"
   ]
  },
  {
   "cell_type": "markdown",
   "metadata": {},
   "source": []
  }
 ],
 "metadata": {
  "kernelspec": {
   "display_name": ".venv",
   "language": "python",
   "name": "python3"
  },
  "language_info": {
   "codemirror_mode": {
    "name": "ipython",
    "version": 3
   },
   "file_extension": ".py",
   "mimetype": "text/x-python",
   "name": "python",
   "nbconvert_exporter": "python",
   "pygments_lexer": "ipython3",
   "version": "3.12.7"
  },
  "orig_nbformat": 4
 },
 "nbformat": 4,
 "nbformat_minor": 2
}
